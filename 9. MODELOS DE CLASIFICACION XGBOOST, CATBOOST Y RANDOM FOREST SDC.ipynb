{
 "cells": [
  {
   "cell_type": "markdown",
   "metadata": {
    "id": "iDcgaumOO5iO"
   },
   "source": [
    "### MODELOS DE CLASIFICACION XGBOOST, CATBOOST Y RANDOM FOREST\n"
   ]
  },
  {
   "cell_type": "markdown",
   "metadata": {
    "id": "o05NC5jpOw6a"
   },
   "source": [
    "### **1.Instalación de Librerias**\n",
    "\n"
   ]
  },
  {
   "cell_type": "code",
   "execution_count": 1,
   "metadata": {
    "id": "bEva6HoNOw6a"
   },
   "outputs": [],
   "source": [
    "# Imports necesarios\n",
    "import numpy as np\n",
    "import pandas as pd\n",
    "import seaborn as sns\n",
    "import matplotlib.pyplot as plt\n",
    "%matplotlib inline\n",
    "plt.rcParams['figure.figsize'] = (16, 9)\n",
    "plt.style.use('ggplot')\n",
    "\n",
    "from sklearn import tree\n",
    "from sklearn.metrics import classification_report\n",
    "from sklearn.metrics import accuracy_score\n",
    "from sklearn.model_selection import KFold,cross_val_score\n",
    "\n",
    "\n",
    "from IPython.display import Image as PImage\n",
    "from subprocess import check_call\n",
    "from PIL import Image, ImageDraw, ImageFont"
   ]
  },
  {
   "cell_type": "code",
   "execution_count": 100,
   "metadata": {
    "id": "n9DAW6TGOw6b"
   },
   "outputs": [],
   "source": [
    "data = pd.read_csv('Clasificacion_picos_intensidad.csv',sep=\",\")"
   ]
  },
  {
   "cell_type": "code",
   "execution_count": 101,
   "metadata": {},
   "outputs": [],
   "source": [
    "df=data"
   ]
  },
  {
   "cell_type": "code",
   "execution_count": 102,
   "metadata": {},
   "outputs": [
    {
     "data": {
      "text/html": [
       "<div>\n",
       "<style scoped>\n",
       "    .dataframe tbody tr th:only-of-type {\n",
       "        vertical-align: middle;\n",
       "    }\n",
       "\n",
       "    .dataframe tbody tr th {\n",
       "        vertical-align: top;\n",
       "    }\n",
       "\n",
       "    .dataframe thead th {\n",
       "        text-align: right;\n",
       "    }\n",
       "</style>\n",
       "<table border=\"1\" class=\"dataframe\">\n",
       "  <thead>\n",
       "    <tr style=\"text-align: right;\">\n",
       "      <th></th>\n",
       "      <th>Unnamed: 0</th>\n",
       "      <th>Presion</th>\n",
       "      <th>Tonelaje</th>\n",
       "      <th>Velocidad</th>\n",
       "      <th>%Solidos</th>\n",
       "      <th>Potencia</th>\n",
       "      <th>F80</th>\n",
       "      <th>Brazo</th>\n",
       "      <th>picos_intens</th>\n",
       "    </tr>\n",
       "  </thead>\n",
       "  <tbody>\n",
       "    <tr>\n",
       "      <th>0</th>\n",
       "      <td>316</td>\n",
       "      <td>6144.83</td>\n",
       "      <td>3323.11</td>\n",
       "      <td>8.83</td>\n",
       "      <td>74.20</td>\n",
       "      <td>10869.21</td>\n",
       "      <td>67.60</td>\n",
       "      <td>2.01</td>\n",
       "      <td>0.0</td>\n",
       "    </tr>\n",
       "    <tr>\n",
       "      <th>1</th>\n",
       "      <td>317</td>\n",
       "      <td>6143.40</td>\n",
       "      <td>3293.34</td>\n",
       "      <td>8.83</td>\n",
       "      <td>74.47</td>\n",
       "      <td>10867.19</td>\n",
       "      <td>67.42</td>\n",
       "      <td>1.99</td>\n",
       "      <td>0.0</td>\n",
       "    </tr>\n",
       "    <tr>\n",
       "      <th>2</th>\n",
       "      <td>318</td>\n",
       "      <td>6139.66</td>\n",
       "      <td>3331.12</td>\n",
       "      <td>8.83</td>\n",
       "      <td>74.50</td>\n",
       "      <td>10795.39</td>\n",
       "      <td>67.46</td>\n",
       "      <td>2.00</td>\n",
       "      <td>0.0</td>\n",
       "    </tr>\n",
       "    <tr>\n",
       "      <th>3</th>\n",
       "      <td>319</td>\n",
       "      <td>6138.42</td>\n",
       "      <td>3289.88</td>\n",
       "      <td>8.84</td>\n",
       "      <td>74.50</td>\n",
       "      <td>10801.26</td>\n",
       "      <td>67.08</td>\n",
       "      <td>2.01</td>\n",
       "      <td>0.0</td>\n",
       "    </tr>\n",
       "    <tr>\n",
       "      <th>4</th>\n",
       "      <td>320</td>\n",
       "      <td>6135.47</td>\n",
       "      <td>3286.99</td>\n",
       "      <td>8.84</td>\n",
       "      <td>74.26</td>\n",
       "      <td>10883.07</td>\n",
       "      <td>66.57</td>\n",
       "      <td>2.01</td>\n",
       "      <td>0.0</td>\n",
       "    </tr>\n",
       "  </tbody>\n",
       "</table>\n",
       "</div>"
      ],
      "text/plain": [
       "   Unnamed: 0  Presion  Tonelaje  Velocidad  %Solidos  Potencia    F80  Brazo  \\\n",
       "0         316  6144.83   3323.11       8.83     74.20  10869.21  67.60   2.01   \n",
       "1         317  6143.40   3293.34       8.83     74.47  10867.19  67.42   1.99   \n",
       "2         318  6139.66   3331.12       8.83     74.50  10795.39  67.46   2.00   \n",
       "3         319  6138.42   3289.88       8.84     74.50  10801.26  67.08   2.01   \n",
       "4         320  6135.47   3286.99       8.84     74.26  10883.07  66.57   2.01   \n",
       "\n",
       "   picos_intens  \n",
       "0           0.0  \n",
       "1           0.0  \n",
       "2           0.0  \n",
       "3           0.0  \n",
       "4           0.0  "
      ]
     },
     "execution_count": 102,
     "metadata": {},
     "output_type": "execute_result"
    }
   ],
   "source": [
    "df.head()"
   ]
  },
  {
   "cell_type": "code",
   "execution_count": 103,
   "metadata": {},
   "outputs": [],
   "source": [
    "df.drop(['Unnamed: 0'], axis='columns', inplace=True)"
   ]
  },
  {
   "cell_type": "code",
   "execution_count": 104,
   "metadata": {},
   "outputs": [],
   "source": [
    "df=df.astype(float).round(2)"
   ]
  },
  {
   "cell_type": "code",
   "execution_count": 105,
   "metadata": {},
   "outputs": [
    {
     "data": {
      "text/html": [
       "<div>\n",
       "<style scoped>\n",
       "    .dataframe tbody tr th:only-of-type {\n",
       "        vertical-align: middle;\n",
       "    }\n",
       "\n",
       "    .dataframe tbody tr th {\n",
       "        vertical-align: top;\n",
       "    }\n",
       "\n",
       "    .dataframe thead th {\n",
       "        text-align: right;\n",
       "    }\n",
       "</style>\n",
       "<table border=\"1\" class=\"dataframe\">\n",
       "  <thead>\n",
       "    <tr style=\"text-align: right;\">\n",
       "      <th></th>\n",
       "      <th>Presion</th>\n",
       "      <th>Tonelaje</th>\n",
       "      <th>Velocidad</th>\n",
       "      <th>%Solidos</th>\n",
       "      <th>Potencia</th>\n",
       "      <th>F80</th>\n",
       "      <th>Brazo</th>\n",
       "      <th>picos_intens</th>\n",
       "    </tr>\n",
       "  </thead>\n",
       "  <tbody>\n",
       "    <tr>\n",
       "      <th>0</th>\n",
       "      <td>6144.83</td>\n",
       "      <td>3323.11</td>\n",
       "      <td>8.83</td>\n",
       "      <td>74.20</td>\n",
       "      <td>10869.21</td>\n",
       "      <td>67.60</td>\n",
       "      <td>2.01</td>\n",
       "      <td>0.0</td>\n",
       "    </tr>\n",
       "    <tr>\n",
       "      <th>1</th>\n",
       "      <td>6143.40</td>\n",
       "      <td>3293.34</td>\n",
       "      <td>8.83</td>\n",
       "      <td>74.47</td>\n",
       "      <td>10867.19</td>\n",
       "      <td>67.42</td>\n",
       "      <td>1.99</td>\n",
       "      <td>0.0</td>\n",
       "    </tr>\n",
       "    <tr>\n",
       "      <th>2</th>\n",
       "      <td>6139.66</td>\n",
       "      <td>3331.12</td>\n",
       "      <td>8.83</td>\n",
       "      <td>74.50</td>\n",
       "      <td>10795.39</td>\n",
       "      <td>67.46</td>\n",
       "      <td>2.00</td>\n",
       "      <td>0.0</td>\n",
       "    </tr>\n",
       "    <tr>\n",
       "      <th>3</th>\n",
       "      <td>6138.42</td>\n",
       "      <td>3289.88</td>\n",
       "      <td>8.84</td>\n",
       "      <td>74.50</td>\n",
       "      <td>10801.26</td>\n",
       "      <td>67.08</td>\n",
       "      <td>2.01</td>\n",
       "      <td>0.0</td>\n",
       "    </tr>\n",
       "    <tr>\n",
       "      <th>4</th>\n",
       "      <td>6135.47</td>\n",
       "      <td>3286.99</td>\n",
       "      <td>8.84</td>\n",
       "      <td>74.26</td>\n",
       "      <td>10883.07</td>\n",
       "      <td>66.57</td>\n",
       "      <td>2.01</td>\n",
       "      <td>0.0</td>\n",
       "    </tr>\n",
       "  </tbody>\n",
       "</table>\n",
       "</div>"
      ],
      "text/plain": [
       "   Presion  Tonelaje  Velocidad  %Solidos  Potencia    F80  Brazo  \\\n",
       "0  6144.83   3323.11       8.83     74.20  10869.21  67.60   2.01   \n",
       "1  6143.40   3293.34       8.83     74.47  10867.19  67.42   1.99   \n",
       "2  6139.66   3331.12       8.83     74.50  10795.39  67.46   2.00   \n",
       "3  6138.42   3289.88       8.84     74.50  10801.26  67.08   2.01   \n",
       "4  6135.47   3286.99       8.84     74.26  10883.07  66.57   2.01   \n",
       "\n",
       "   picos_intens  \n",
       "0           0.0  \n",
       "1           0.0  \n",
       "2           0.0  \n",
       "3           0.0  \n",
       "4           0.0  "
      ]
     },
     "execution_count": 105,
     "metadata": {},
     "output_type": "execute_result"
    }
   ],
   "source": [
    "df.head()"
   ]
  },
  {
   "cell_type": "code",
   "execution_count": 106,
   "metadata": {},
   "outputs": [
    {
     "data": {
      "text/html": [
       "<div>\n",
       "<style scoped>\n",
       "    .dataframe tbody tr th:only-of-type {\n",
       "        vertical-align: middle;\n",
       "    }\n",
       "\n",
       "    .dataframe tbody tr th {\n",
       "        vertical-align: top;\n",
       "    }\n",
       "\n",
       "    .dataframe thead th {\n",
       "        text-align: right;\n",
       "    }\n",
       "</style>\n",
       "<table border=\"1\" class=\"dataframe\">\n",
       "  <thead>\n",
       "    <tr style=\"text-align: right;\">\n",
       "      <th></th>\n",
       "      <th>Presion</th>\n",
       "      <th>Tonelaje</th>\n",
       "      <th>Velocidad</th>\n",
       "      <th>%Solidos</th>\n",
       "      <th>Potencia</th>\n",
       "      <th>F80</th>\n",
       "      <th>Brazo</th>\n",
       "      <th>picos_intens</th>\n",
       "    </tr>\n",
       "  </thead>\n",
       "  <tbody>\n",
       "    <tr>\n",
       "      <th>count</th>\n",
       "      <td>14375.000000</td>\n",
       "      <td>14375.000000</td>\n",
       "      <td>14375.000000</td>\n",
       "      <td>14375.000000</td>\n",
       "      <td>14375.000000</td>\n",
       "      <td>14375.000000</td>\n",
       "      <td>14375.000000</td>\n",
       "      <td>14375.000000</td>\n",
       "    </tr>\n",
       "    <tr>\n",
       "      <th>mean</th>\n",
       "      <td>6015.786763</td>\n",
       "      <td>3363.326903</td>\n",
       "      <td>8.839000</td>\n",
       "      <td>75.487416</td>\n",
       "      <td>11667.772478</td>\n",
       "      <td>64.747783</td>\n",
       "      <td>2.186024</td>\n",
       "      <td>0.104835</td>\n",
       "    </tr>\n",
       "    <tr>\n",
       "      <th>std</th>\n",
       "      <td>134.324754</td>\n",
       "      <td>537.442267</td>\n",
       "      <td>0.536565</td>\n",
       "      <td>7.061388</td>\n",
       "      <td>1569.146488</td>\n",
       "      <td>13.439820</td>\n",
       "      <td>0.226976</td>\n",
       "      <td>0.306351</td>\n",
       "    </tr>\n",
       "    <tr>\n",
       "      <th>min</th>\n",
       "      <td>5566.500000</td>\n",
       "      <td>0.050000</td>\n",
       "      <td>0.010000</td>\n",
       "      <td>0.000000</td>\n",
       "      <td>-23.010000</td>\n",
       "      <td>7.640000</td>\n",
       "      <td>-0.820000</td>\n",
       "      <td>0.000000</td>\n",
       "    </tr>\n",
       "    <tr>\n",
       "      <th>25%</th>\n",
       "      <td>5946.590000</td>\n",
       "      <td>3092.900000</td>\n",
       "      <td>8.720000</td>\n",
       "      <td>74.330000</td>\n",
       "      <td>10713.705000</td>\n",
       "      <td>55.095000</td>\n",
       "      <td>2.020000</td>\n",
       "      <td>0.000000</td>\n",
       "    </tr>\n",
       "    <tr>\n",
       "      <th>50%</th>\n",
       "      <td>6032.640000</td>\n",
       "      <td>3357.810000</td>\n",
       "      <td>8.870000</td>\n",
       "      <td>75.980000</td>\n",
       "      <td>11353.280000</td>\n",
       "      <td>66.530000</td>\n",
       "      <td>2.160000</td>\n",
       "      <td>0.000000</td>\n",
       "    </tr>\n",
       "    <tr>\n",
       "      <th>75%</th>\n",
       "      <td>6104.040000</td>\n",
       "      <td>3662.140000</td>\n",
       "      <td>8.940000</td>\n",
       "      <td>77.850000</td>\n",
       "      <td>12634.270000</td>\n",
       "      <td>76.280000</td>\n",
       "      <td>2.370000</td>\n",
       "      <td>0.000000</td>\n",
       "    </tr>\n",
       "    <tr>\n",
       "      <th>max</th>\n",
       "      <td>6483.500000</td>\n",
       "      <td>4547.040000</td>\n",
       "      <td>9.340000</td>\n",
       "      <td>84.830000</td>\n",
       "      <td>15750.450000</td>\n",
       "      <td>91.370000</td>\n",
       "      <td>2.750000</td>\n",
       "      <td>1.000000</td>\n",
       "    </tr>\n",
       "  </tbody>\n",
       "</table>\n",
       "</div>"
      ],
      "text/plain": [
       "            Presion      Tonelaje     Velocidad      %Solidos      Potencia  \\\n",
       "count  14375.000000  14375.000000  14375.000000  14375.000000  14375.000000   \n",
       "mean    6015.786763   3363.326903      8.839000     75.487416  11667.772478   \n",
       "std      134.324754    537.442267      0.536565      7.061388   1569.146488   \n",
       "min     5566.500000      0.050000      0.010000      0.000000    -23.010000   \n",
       "25%     5946.590000   3092.900000      8.720000     74.330000  10713.705000   \n",
       "50%     6032.640000   3357.810000      8.870000     75.980000  11353.280000   \n",
       "75%     6104.040000   3662.140000      8.940000     77.850000  12634.270000   \n",
       "max     6483.500000   4547.040000      9.340000     84.830000  15750.450000   \n",
       "\n",
       "                F80         Brazo  picos_intens  \n",
       "count  14375.000000  14375.000000  14375.000000  \n",
       "mean      64.747783      2.186024      0.104835  \n",
       "std       13.439820      0.226976      0.306351  \n",
       "min        7.640000     -0.820000      0.000000  \n",
       "25%       55.095000      2.020000      0.000000  \n",
       "50%       66.530000      2.160000      0.000000  \n",
       "75%       76.280000      2.370000      0.000000  \n",
       "max       91.370000      2.750000      1.000000  "
      ]
     },
     "execution_count": 106,
     "metadata": {},
     "output_type": "execute_result"
    }
   ],
   "source": [
    "# Revision descriptiva\n",
    "df.describe()"
   ]
  },
  {
   "cell_type": "code",
   "execution_count": 107,
   "metadata": {},
   "outputs": [
    {
     "data": {
      "text/plain": [
       "(14375, 8)"
      ]
     },
     "execution_count": 107,
     "metadata": {},
     "output_type": "execute_result"
    }
   ],
   "source": [
    "df.shape"
   ]
  },
  {
   "cell_type": "code",
   "execution_count": 108,
   "metadata": {},
   "outputs": [
    {
     "data": {
      "text/plain": [
       "0.0    12868\n",
       "1.0     1507\n",
       "Name: picos_intens, dtype: int64"
      ]
     },
     "execution_count": 108,
     "metadata": {},
     "output_type": "execute_result"
    }
   ],
   "source": [
    "df['picos_intens'].value_counts()"
   ]
  },
  {
   "cell_type": "code",
   "execution_count": 109,
   "metadata": {},
   "outputs": [
    {
     "data": {
      "text/html": [
       "<div>\n",
       "<style scoped>\n",
       "    .dataframe tbody tr th:only-of-type {\n",
       "        vertical-align: middle;\n",
       "    }\n",
       "\n",
       "    .dataframe tbody tr th {\n",
       "        vertical-align: top;\n",
       "    }\n",
       "\n",
       "    .dataframe thead th {\n",
       "        text-align: right;\n",
       "    }\n",
       "</style>\n",
       "<table border=\"1\" class=\"dataframe\">\n",
       "  <thead>\n",
       "    <tr style=\"text-align: right;\">\n",
       "      <th></th>\n",
       "      <th>Presion</th>\n",
       "      <th>Tonelaje</th>\n",
       "      <th>Velocidad</th>\n",
       "      <th>%Solidos</th>\n",
       "      <th>Potencia</th>\n",
       "      <th>F80</th>\n",
       "      <th>Brazo</th>\n",
       "      <th>picos_intens</th>\n",
       "    </tr>\n",
       "  </thead>\n",
       "  <tbody>\n",
       "    <tr>\n",
       "      <th>0</th>\n",
       "      <td>6144.83</td>\n",
       "      <td>3323.11</td>\n",
       "      <td>8.83</td>\n",
       "      <td>74.20</td>\n",
       "      <td>10869.21</td>\n",
       "      <td>67.60</td>\n",
       "      <td>2.01</td>\n",
       "      <td>0.0</td>\n",
       "    </tr>\n",
       "    <tr>\n",
       "      <th>1</th>\n",
       "      <td>6143.40</td>\n",
       "      <td>3293.34</td>\n",
       "      <td>8.83</td>\n",
       "      <td>74.47</td>\n",
       "      <td>10867.19</td>\n",
       "      <td>67.42</td>\n",
       "      <td>1.99</td>\n",
       "      <td>0.0</td>\n",
       "    </tr>\n",
       "    <tr>\n",
       "      <th>2</th>\n",
       "      <td>6139.66</td>\n",
       "      <td>3331.12</td>\n",
       "      <td>8.83</td>\n",
       "      <td>74.50</td>\n",
       "      <td>10795.39</td>\n",
       "      <td>67.46</td>\n",
       "      <td>2.00</td>\n",
       "      <td>0.0</td>\n",
       "    </tr>\n",
       "    <tr>\n",
       "      <th>3</th>\n",
       "      <td>6138.42</td>\n",
       "      <td>3289.88</td>\n",
       "      <td>8.84</td>\n",
       "      <td>74.50</td>\n",
       "      <td>10801.26</td>\n",
       "      <td>67.08</td>\n",
       "      <td>2.01</td>\n",
       "      <td>0.0</td>\n",
       "    </tr>\n",
       "    <tr>\n",
       "      <th>4</th>\n",
       "      <td>6135.47</td>\n",
       "      <td>3286.99</td>\n",
       "      <td>8.84</td>\n",
       "      <td>74.26</td>\n",
       "      <td>10883.07</td>\n",
       "      <td>66.57</td>\n",
       "      <td>2.01</td>\n",
       "      <td>0.0</td>\n",
       "    </tr>\n",
       "  </tbody>\n",
       "</table>\n",
       "</div>"
      ],
      "text/plain": [
       "   Presion  Tonelaje  Velocidad  %Solidos  Potencia    F80  Brazo  \\\n",
       "0  6144.83   3323.11       8.83     74.20  10869.21  67.60   2.01   \n",
       "1  6143.40   3293.34       8.83     74.47  10867.19  67.42   1.99   \n",
       "2  6139.66   3331.12       8.83     74.50  10795.39  67.46   2.00   \n",
       "3  6138.42   3289.88       8.84     74.50  10801.26  67.08   2.01   \n",
       "4  6135.47   3286.99       8.84     74.26  10883.07  66.57   2.01   \n",
       "\n",
       "   picos_intens  \n",
       "0           0.0  \n",
       "1           0.0  \n",
       "2           0.0  \n",
       "3           0.0  \n",
       "4           0.0  "
      ]
     },
     "execution_count": 109,
     "metadata": {},
     "output_type": "execute_result"
    }
   ],
   "source": [
    "df.head()"
   ]
  },
  {
   "cell_type": "code",
   "execution_count": 110,
   "metadata": {},
   "outputs": [],
   "source": [
    "data=df"
   ]
  },
  {
   "cell_type": "markdown",
   "metadata": {
    "id": "gsUOA1L-VW7e"
   },
   "source": [
    "### **3. Exploracion de datos**"
   ]
  },
  {
   "cell_type": "code",
   "execution_count": 111,
   "metadata": {
    "colab": {
     "base_uri": "https://localhost:8080/",
     "height": 222
    },
    "id": "c77EyMaWOw6b",
    "outputId": "875ab52d-26b4-4cc6-ae1d-4629aaff7266",
    "scrolled": true
   },
   "outputs": [
    {
     "data": {
      "text/html": [
       "<div>\n",
       "<style scoped>\n",
       "    .dataframe tbody tr th:only-of-type {\n",
       "        vertical-align: middle;\n",
       "    }\n",
       "\n",
       "    .dataframe tbody tr th {\n",
       "        vertical-align: top;\n",
       "    }\n",
       "\n",
       "    .dataframe thead th {\n",
       "        text-align: right;\n",
       "    }\n",
       "</style>\n",
       "<table border=\"1\" class=\"dataframe\">\n",
       "  <thead>\n",
       "    <tr style=\"text-align: right;\">\n",
       "      <th></th>\n",
       "      <th>Presion</th>\n",
       "      <th>Tonelaje</th>\n",
       "      <th>Velocidad</th>\n",
       "      <th>%Solidos</th>\n",
       "      <th>Potencia</th>\n",
       "      <th>F80</th>\n",
       "      <th>Brazo</th>\n",
       "      <th>picos_intens</th>\n",
       "    </tr>\n",
       "  </thead>\n",
       "  <tbody>\n",
       "    <tr>\n",
       "      <th>0</th>\n",
       "      <td>6144.83</td>\n",
       "      <td>3323.11</td>\n",
       "      <td>8.83</td>\n",
       "      <td>74.20</td>\n",
       "      <td>10869.21</td>\n",
       "      <td>67.60</td>\n",
       "      <td>2.01</td>\n",
       "      <td>0.0</td>\n",
       "    </tr>\n",
       "    <tr>\n",
       "      <th>1</th>\n",
       "      <td>6143.40</td>\n",
       "      <td>3293.34</td>\n",
       "      <td>8.83</td>\n",
       "      <td>74.47</td>\n",
       "      <td>10867.19</td>\n",
       "      <td>67.42</td>\n",
       "      <td>1.99</td>\n",
       "      <td>0.0</td>\n",
       "    </tr>\n",
       "    <tr>\n",
       "      <th>2</th>\n",
       "      <td>6139.66</td>\n",
       "      <td>3331.12</td>\n",
       "      <td>8.83</td>\n",
       "      <td>74.50</td>\n",
       "      <td>10795.39</td>\n",
       "      <td>67.46</td>\n",
       "      <td>2.00</td>\n",
       "      <td>0.0</td>\n",
       "    </tr>\n",
       "    <tr>\n",
       "      <th>3</th>\n",
       "      <td>6138.42</td>\n",
       "      <td>3289.88</td>\n",
       "      <td>8.84</td>\n",
       "      <td>74.50</td>\n",
       "      <td>10801.26</td>\n",
       "      <td>67.08</td>\n",
       "      <td>2.01</td>\n",
       "      <td>0.0</td>\n",
       "    </tr>\n",
       "    <tr>\n",
       "      <th>4</th>\n",
       "      <td>6135.47</td>\n",
       "      <td>3286.99</td>\n",
       "      <td>8.84</td>\n",
       "      <td>74.26</td>\n",
       "      <td>10883.07</td>\n",
       "      <td>66.57</td>\n",
       "      <td>2.01</td>\n",
       "      <td>0.0</td>\n",
       "    </tr>\n",
       "  </tbody>\n",
       "</table>\n",
       "</div>"
      ],
      "text/plain": [
       "   Presion  Tonelaje  Velocidad  %Solidos  Potencia    F80  Brazo  \\\n",
       "0  6144.83   3323.11       8.83     74.20  10869.21  67.60   2.01   \n",
       "1  6143.40   3293.34       8.83     74.47  10867.19  67.42   1.99   \n",
       "2  6139.66   3331.12       8.83     74.50  10795.39  67.46   2.00   \n",
       "3  6138.42   3289.88       8.84     74.50  10801.26  67.08   2.01   \n",
       "4  6135.47   3286.99       8.84     74.26  10883.07  66.57   2.01   \n",
       "\n",
       "   picos_intens  \n",
       "0           0.0  \n",
       "1           0.0  \n",
       "2           0.0  \n",
       "3           0.0  \n",
       "4           0.0  "
      ]
     },
     "execution_count": 111,
     "metadata": {},
     "output_type": "execute_result"
    }
   ],
   "source": [
    "# Exploracion inicial\n",
    "data.head()"
   ]
  },
  {
   "cell_type": "code",
   "execution_count": 112,
   "metadata": {
    "colab": {
     "base_uri": "https://localhost:8080/",
     "height": 314
    },
    "id": "e4lYsIi8Ow6b",
    "outputId": "0869d9c1-1b50-41e6-9418-1d6276bd41f4"
   },
   "outputs": [
    {
     "data": {
      "text/html": [
       "<div>\n",
       "<style scoped>\n",
       "    .dataframe tbody tr th:only-of-type {\n",
       "        vertical-align: middle;\n",
       "    }\n",
       "\n",
       "    .dataframe tbody tr th {\n",
       "        vertical-align: top;\n",
       "    }\n",
       "\n",
       "    .dataframe thead th {\n",
       "        text-align: right;\n",
       "    }\n",
       "</style>\n",
       "<table border=\"1\" class=\"dataframe\">\n",
       "  <thead>\n",
       "    <tr style=\"text-align: right;\">\n",
       "      <th></th>\n",
       "      <th>Presion</th>\n",
       "      <th>Tonelaje</th>\n",
       "      <th>Velocidad</th>\n",
       "      <th>%Solidos</th>\n",
       "      <th>Potencia</th>\n",
       "      <th>F80</th>\n",
       "      <th>Brazo</th>\n",
       "      <th>picos_intens</th>\n",
       "    </tr>\n",
       "  </thead>\n",
       "  <tbody>\n",
       "    <tr>\n",
       "      <th>count</th>\n",
       "      <td>14375.000000</td>\n",
       "      <td>14375.000000</td>\n",
       "      <td>14375.000000</td>\n",
       "      <td>14375.000000</td>\n",
       "      <td>14375.000000</td>\n",
       "      <td>14375.000000</td>\n",
       "      <td>14375.000000</td>\n",
       "      <td>14375.000000</td>\n",
       "    </tr>\n",
       "    <tr>\n",
       "      <th>mean</th>\n",
       "      <td>6015.786763</td>\n",
       "      <td>3363.326903</td>\n",
       "      <td>8.839000</td>\n",
       "      <td>75.487416</td>\n",
       "      <td>11667.772478</td>\n",
       "      <td>64.747783</td>\n",
       "      <td>2.186024</td>\n",
       "      <td>0.104835</td>\n",
       "    </tr>\n",
       "    <tr>\n",
       "      <th>std</th>\n",
       "      <td>134.324754</td>\n",
       "      <td>537.442267</td>\n",
       "      <td>0.536565</td>\n",
       "      <td>7.061388</td>\n",
       "      <td>1569.146488</td>\n",
       "      <td>13.439820</td>\n",
       "      <td>0.226976</td>\n",
       "      <td>0.306351</td>\n",
       "    </tr>\n",
       "    <tr>\n",
       "      <th>min</th>\n",
       "      <td>5566.500000</td>\n",
       "      <td>0.050000</td>\n",
       "      <td>0.010000</td>\n",
       "      <td>0.000000</td>\n",
       "      <td>-23.010000</td>\n",
       "      <td>7.640000</td>\n",
       "      <td>-0.820000</td>\n",
       "      <td>0.000000</td>\n",
       "    </tr>\n",
       "    <tr>\n",
       "      <th>25%</th>\n",
       "      <td>5946.590000</td>\n",
       "      <td>3092.900000</td>\n",
       "      <td>8.720000</td>\n",
       "      <td>74.330000</td>\n",
       "      <td>10713.705000</td>\n",
       "      <td>55.095000</td>\n",
       "      <td>2.020000</td>\n",
       "      <td>0.000000</td>\n",
       "    </tr>\n",
       "    <tr>\n",
       "      <th>50%</th>\n",
       "      <td>6032.640000</td>\n",
       "      <td>3357.810000</td>\n",
       "      <td>8.870000</td>\n",
       "      <td>75.980000</td>\n",
       "      <td>11353.280000</td>\n",
       "      <td>66.530000</td>\n",
       "      <td>2.160000</td>\n",
       "      <td>0.000000</td>\n",
       "    </tr>\n",
       "    <tr>\n",
       "      <th>75%</th>\n",
       "      <td>6104.040000</td>\n",
       "      <td>3662.140000</td>\n",
       "      <td>8.940000</td>\n",
       "      <td>77.850000</td>\n",
       "      <td>12634.270000</td>\n",
       "      <td>76.280000</td>\n",
       "      <td>2.370000</td>\n",
       "      <td>0.000000</td>\n",
       "    </tr>\n",
       "    <tr>\n",
       "      <th>max</th>\n",
       "      <td>6483.500000</td>\n",
       "      <td>4547.040000</td>\n",
       "      <td>9.340000</td>\n",
       "      <td>84.830000</td>\n",
       "      <td>15750.450000</td>\n",
       "      <td>91.370000</td>\n",
       "      <td>2.750000</td>\n",
       "      <td>1.000000</td>\n",
       "    </tr>\n",
       "  </tbody>\n",
       "</table>\n",
       "</div>"
      ],
      "text/plain": [
       "            Presion      Tonelaje     Velocidad      %Solidos      Potencia  \\\n",
       "count  14375.000000  14375.000000  14375.000000  14375.000000  14375.000000   \n",
       "mean    6015.786763   3363.326903      8.839000     75.487416  11667.772478   \n",
       "std      134.324754    537.442267      0.536565      7.061388   1569.146488   \n",
       "min     5566.500000      0.050000      0.010000      0.000000    -23.010000   \n",
       "25%     5946.590000   3092.900000      8.720000     74.330000  10713.705000   \n",
       "50%     6032.640000   3357.810000      8.870000     75.980000  11353.280000   \n",
       "75%     6104.040000   3662.140000      8.940000     77.850000  12634.270000   \n",
       "max     6483.500000   4547.040000      9.340000     84.830000  15750.450000   \n",
       "\n",
       "                F80         Brazo  picos_intens  \n",
       "count  14375.000000  14375.000000  14375.000000  \n",
       "mean      64.747783      2.186024      0.104835  \n",
       "std       13.439820      0.226976      0.306351  \n",
       "min        7.640000     -0.820000      0.000000  \n",
       "25%       55.095000      2.020000      0.000000  \n",
       "50%       66.530000      2.160000      0.000000  \n",
       "75%       76.280000      2.370000      0.000000  \n",
       "max       91.370000      2.750000      1.000000  "
      ]
     },
     "execution_count": 112,
     "metadata": {},
     "output_type": "execute_result"
    }
   ],
   "source": [
    "# Revision de la vriables individuales\n",
    "data.describe()"
   ]
  },
  {
   "cell_type": "code",
   "execution_count": 113,
   "metadata": {
    "colab": {
     "base_uri": "https://localhost:8080/"
    },
    "id": "UwPnVAGNlc8P",
    "outputId": "0d67e4d8-4c21-46f6-829b-5865ee2e6dfc"
   },
   "outputs": [
    {
     "data": {
      "text/plain": [
       "picos_intens    0\n",
       "Brazo           0\n",
       "F80             0\n",
       "Potencia        0\n",
       "%Solidos        0\n",
       "Velocidad       0\n",
       "Tonelaje        0\n",
       "Presion         0\n",
       "dtype: int64"
      ]
     },
     "execution_count": 113,
     "metadata": {},
     "output_type": "execute_result"
    }
   ],
   "source": [
    "# identificando valores Nulos\n",
    "data.isnull().sum().sort_values(ascending=False)"
   ]
  },
  {
   "cell_type": "code",
   "execution_count": 115,
   "metadata": {},
   "outputs": [
    {
     "data": {
      "text/plain": [
       "Index(['Presion', 'Tonelaje', 'Velocidad', '%Solidos', 'Potencia', 'F80',\n",
       "       'Brazo', 'picos_intens'],\n",
       "      dtype='object')"
      ]
     },
     "execution_count": 115,
     "metadata": {},
     "output_type": "execute_result"
    }
   ],
   "source": [
    "data.columns"
   ]
  },
  {
   "cell_type": "code",
   "execution_count": 116,
   "metadata": {
    "colab": {
     "base_uri": "https://localhost:8080/"
    },
    "id": "qSx6y-nCOw6c",
    "outputId": "7bd70d34-430c-4dc2-fa53-9cd93e1338f9"
   },
   "outputs": [
    {
     "data": {
      "text/plain": [
       "(14375, 8)"
      ]
     },
     "execution_count": 116,
     "metadata": {},
     "output_type": "execute_result"
    }
   ],
   "source": [
    "# Dimensiones de la tabla de modelamiento (fila, Columna)\n",
    "data.shape"
   ]
  },
  {
   "cell_type": "code",
   "execution_count": 117,
   "metadata": {
    "colab": {
     "base_uri": "https://localhost:8080/"
    },
    "id": "VtiJEgEPOw6c",
    "outputId": "fe1fabbe-f33f-4d32-b8d8-1ee1393a4ac7"
   },
   "outputs": [
    {
     "data": {
      "text/plain": [
       "picos_intens\n",
       "0.0    12868\n",
       "1.0     1507\n",
       "dtype: int64"
      ]
     },
     "execution_count": 117,
     "metadata": {},
     "output_type": "execute_result"
    }
   ],
   "source": [
    "# Detección del desbalance de la muestras\n",
    "data.groupby('picos_intens').size()"
   ]
  },
  {
   "cell_type": "code",
   "execution_count": 118,
   "metadata": {},
   "outputs": [
    {
     "data": {
      "text/plain": [
       "0.1048"
      ]
     },
     "execution_count": 118,
     "metadata": {},
     "output_type": "execute_result"
    }
   ],
   "source": [
    "round(1507 / 14375,4)"
   ]
  },
  {
   "cell_type": "code",
   "execution_count": 119,
   "metadata": {},
   "outputs": [
    {
     "data": {
      "text/plain": [
       "0.0    0.8952\n",
       "1.0    0.1048\n",
       "Name: picos_intens, dtype: float64"
      ]
     },
     "execution_count": 119,
     "metadata": {},
     "output_type": "execute_result"
    }
   ],
   "source": [
    "round(data.picos_intens.value_counts(normalize=True),4)"
   ]
  },
  {
   "cell_type": "code",
   "execution_count": 121,
   "metadata": {
    "colab": {
     "base_uri": "https://localhost:8080/",
     "height": 603
    },
    "id": "EJCuPji2W_Xg",
    "outputId": "281afa33-54be-4adc-97c4-82cff52a1882"
   },
   "outputs": [
    {
     "name": "stdout",
     "output_type": "stream",
     "text": [
      "Class 0 Intensidad_Normal: 12868\n",
      "Class 1 Intensidad_Pico: 1507\n",
      "Proporción: 8.54 : 1\n"
     ]
    },
    {
     "data": {
      "image/png": "[encoded data removed]",
      "text/plain": [
       "<Figure size 1152x648 with 1 Axes>"
      ]
     },
     "metadata": {},
     "output_type": "display_data"
    }
   ],
   "source": [
    "# Detección del desbalance de la muestras\n",
    "target_count = data.picos_intens.value_counts()\n",
    "print('Class 0 Intensidad_Normal:', target_count[0])\n",
    "print('Class 1 Intensidad_Pico:', target_count[1])\n",
    "print('Proporción:', round(target_count[0] / target_count[1], 2), ': 1')\n",
    "target_count.plot(kind='bar', title='Count (target)');"
   ]
  },
  {
   "cell_type": "markdown",
   "metadata": {
    "id": "LmXzcK4_YdjW"
   },
   "source": [
    "### **4. Separando una muestra para verificar resultado de estrategias de muestreo**"
   ]
  },
  {
   "cell_type": "code",
   "execution_count": 122,
   "metadata": {
    "id": "7mn-PC4jYwzr"
   },
   "outputs": [],
   "source": [
    "# Seleccionaremos un 35% de los datos para estrudiar el beneficio de las estretgias de muestreo\n",
    "\n",
    "X = data[['Presion',  'Tonelaje', 'Velocidad','%Solidos', 'Potencia', 'F80', 'Brazo']]\n",
    "y = data[['picos_intens']]\n",
    "\n",
    "import sklearn.model_selection as model_selection\n",
    "X_train, X_test, y_train, y_test = model_selection.train_test_split(X,y,test_size=0.35,random_state=42)"
   ]
  },
  {
   "cell_type": "markdown",
   "metadata": {
    "id": "GB9E7_z_e0wL"
   },
   "source": [
    "### **5. Evaluando la escenarios de modelamiento XGBoost**"
   ]
  },
  {
   "cell_type": "code",
   "execution_count": 69,
   "metadata": {
    "colab": {
     "base_uri": "https://localhost:8080/"
    },
    "id": "IRo23Mm0nxiQ",
    "outputId": "c48cd5d2-5728-48a6-f90d-3a7b2c156d2e"
   },
   "outputs": [
    {
     "name": "stdout",
     "output_type": "stream",
     "text": [
      "Requirement already satisfied: xgboost in c:\\programdata\\anaconda3\\lib\\site-packages (1.3.3)\n",
      "Requirement already satisfied: scipy in c:\\programdata\\anaconda3\\lib\\site-packages (from xgboost) (1.5.2)\n",
      "Requirement already satisfied: numpy in c:\\programdata\\anaconda3\\lib\\site-packages (from xgboost) (1.19.2)\n"
     ]
    }
   ],
   "source": [
    "!pip install xgboost"
   ]
  },
  {
   "cell_type": "code",
   "execution_count": 123,
   "metadata": {
    "id": "SiD0y8qln2qa"
   },
   "outputs": [],
   "source": [
    "import xgboost as xgb"
   ]
  },
  {
   "cell_type": "code",
   "execution_count": 124,
   "metadata": {},
   "outputs": [],
   "source": [
    "#Train the XGboost Model for Classification\n",
    "model1 = xgb.XGBClassifier() # MALA PRACTICA"
   ]
  },
  {
   "cell_type": "code",
   "execution_count": 125,
   "metadata": {},
   "outputs": [],
   "source": [
    "# parameters tunning\n",
    "# XGB tunning\n",
    "model2 = xgb.XGBClassifier(n_estimators=20 , max_depth=8, learning_rate=0.1 , subsample=0.5)"
   ]
  },
  {
   "cell_type": "code",
   "execution_count": 126,
   "metadata": {},
   "outputs": [],
   "source": [
    "import catboost\n",
    "from catboost import CatBoostClassifier"
   ]
  },
  {
   "cell_type": "code",
   "execution_count": 74,
   "metadata": {},
   "outputs": [],
   "source": [
    "#Train the XGboost Model for Classification\n",
    "model3 = CatBoostClassifier()"
   ]
  },
  {
   "cell_type": "code",
   "execution_count": 127,
   "metadata": {},
   "outputs": [],
   "source": [
    "from sklearn.ensemble import RandomForestClassifier"
   ]
  },
  {
   "cell_type": "code",
   "execution_count": 128,
   "metadata": {},
   "outputs": [],
   "source": [
    "#Train the XGboost Model for Classification\n",
    "model4 = RandomForestClassifier()"
   ]
  },
  {
   "cell_type": "code",
   "execution_count": 129,
   "metadata": {},
   "outputs": [],
   "source": [
    "# parameters tunning\n",
    "# RF tunning\n",
    "model5 = RandomForestClassifier(n_estimators=20, max_depth=8)"
   ]
  },
  {
   "cell_type": "code",
   "execution_count": 130,
   "metadata": {
    "colab": {
     "base_uri": "https://localhost:8080/"
    },
    "id": "4LW66wtVnvga",
    "outputId": "08848031-230d-4eb6-b013-5dc6cfb2a5d7"
   },
   "outputs": [
    {
     "name": "stderr",
     "output_type": "stream",
     "text": [
      "C:\\ProgramData\\Anaconda3\\lib\\site-packages\\xgboost\\sklearn.py:888: UserWarning: The use of label encoder in XGBClassifier is deprecated and will be removed in a future release. To remove this warning, do the following: 1) Pass option use_label_encoder=False when constructing XGBClassifier object; and 2) Encode your labels (y) as integers starting with 0, i.e. 0, 1, 2, ..., [num_class - 1].\n",
      "  warnings.warn(label_encoder_deprecation_msg, UserWarning)\n",
      "C:\\ProgramData\\Anaconda3\\lib\\site-packages\\sklearn\\utils\\validation.py:72: DataConversionWarning: A column-vector y was passed when a 1d array was expected. Please change the shape of y to (n_samples, ), for example using ravel().\n",
      "  return f(**kwargs)\n"
     ]
    },
    {
     "name": "stdout",
     "output_type": "stream",
     "text": [
      "[21:37:44] WARNING: C:/Users/Administrator/workspace/xgboost-win64_release_1.3.0/src/learner.cc:1061: Starting in XGBoost 1.3.0, the default evaluation metric used with the objective 'binary:logistic' was changed from 'error' to 'logloss'. Explicitly set eval_metric if you'd like to restore the old behavior.\n"
     ]
    },
    {
     "data": {
      "text/plain": [
       "XGBClassifier(base_score=0.5, booster='gbtree', colsample_bylevel=1,\n",
       "              colsample_bynode=1, colsample_bytree=1, gamma=0, gpu_id=-1,\n",
       "              importance_type='gain', interaction_constraints='',\n",
       "              learning_rate=0.300000012, max_delta_step=0, max_depth=6,\n",
       "              min_child_weight=1, missing=nan, monotone_constraints='()',\n",
       "              n_estimators=100, n_jobs=4, num_parallel_tree=1, random_state=0,\n",
       "              reg_alpha=0, reg_lambda=1, scale_pos_weight=1, subsample=1,\n",
       "              tree_method='exact', validate_parameters=1, verbosity=None)"
      ]
     },
     "execution_count": 130,
     "metadata": {},
     "output_type": "execute_result"
    }
   ],
   "source": [
    "model1.fit(X_train, y_train)"
   ]
  },
  {
   "cell_type": "code",
   "execution_count": 131,
   "metadata": {},
   "outputs": [
    {
     "name": "stdout",
     "output_type": "stream",
     "text": [
      "[21:38:23] WARNING: C:/Users/Administrator/workspace/xgboost-win64_release_1.3.0/src/learner.cc:1061: Starting in XGBoost 1.3.0, the default evaluation metric used with the objective 'binary:logistic' was changed from 'error' to 'logloss'. Explicitly set eval_metric if you'd like to restore the old behavior.\n"
     ]
    },
    {
     "data": {
      "text/plain": [
       "XGBClassifier(base_score=0.5, booster='gbtree', colsample_bylevel=1,\n",
       "              colsample_bynode=1, colsample_bytree=1, gamma=0, gpu_id=-1,\n",
       "              importance_type='gain', interaction_constraints='',\n",
       "              learning_rate=0.1, max_delta_step=0, max_depth=8,\n",
       "              min_child_weight=1, missing=nan, monotone_constraints='()',\n",
       "              n_estimators=20, n_jobs=4, num_parallel_tree=1, random_state=0,\n",
       "              reg_alpha=0, reg_lambda=1, scale_pos_weight=1, subsample=0.5,\n",
       "              tree_method='exact', validate_parameters=1, verbosity=None)"
      ]
     },
     "execution_count": 131,
     "metadata": {},
     "output_type": "execute_result"
    }
   ],
   "source": [
    "model2.fit(X_train, y_train)"
   ]
  },
  {
   "cell_type": "code",
   "execution_count": 132,
   "metadata": {},
   "outputs": [
    {
     "name": "stdout",
     "output_type": "stream",
     "text": [
      "Learning rate set to 0.02675\n",
      "0:\tlearn: 0.6398355\ttotal: 14ms\tremaining: 14s\n",
      "1:\tlearn: 0.5914772\ttotal: 23.3ms\tremaining: 11.6s\n",
      "2:\tlearn: 0.5446362\ttotal: 37.4ms\tremaining: 12.4s\n",
      "3:\tlearn: 0.5037899\ttotal: 47.1ms\tremaining: 11.7s\n",
      "4:\tlearn: 0.4642180\ttotal: 56.6ms\tremaining: 11.3s\n",
      "5:\tlearn: 0.4296417\ttotal: 67.1ms\tremaining: 11.1s\n",
      "6:\tlearn: 0.4004423\ttotal: 81.1ms\tremaining: 11.5s\n",
      "7:\tlearn: 0.3755552\ttotal: 91.4ms\tremaining: 11.3s\n",
      "8:\tlearn: 0.3506807\ttotal: 104ms\tremaining: 11.5s\n",
      "9:\tlearn: 0.3297097\ttotal: 116ms\tremaining: 11.5s\n",
      "10:\tlearn: 0.3101149\ttotal: 125ms\tremaining: 11.2s\n",
      "11:\tlearn: 0.2920480\ttotal: 136ms\tremaining: 11.2s\n",
      "12:\tlearn: 0.2768354\ttotal: 144ms\tremaining: 10.9s\n",
      "13:\tlearn: 0.2618569\ttotal: 153ms\tremaining: 10.8s\n",
      "14:\tlearn: 0.2488962\ttotal: 162ms\tremaining: 10.6s\n",
      "15:\tlearn: 0.2384653\ttotal: 171ms\tremaining: 10.5s\n",
      "16:\tlearn: 0.2265480\ttotal: 181ms\tremaining: 10.5s\n",
      "17:\tlearn: 0.2179333\ttotal: 192ms\tremaining: 10.5s\n",
      "18:\tlearn: 0.2096448\ttotal: 209ms\tremaining: 10.8s\n",
      "19:\tlearn: 0.2033584\ttotal: 219ms\tremaining: 10.7s\n",
      "20:\tlearn: 0.1958966\ttotal: 228ms\tremaining: 10.6s\n",
      "21:\tlearn: 0.1889564\ttotal: 238ms\tremaining: 10.6s\n",
      "22:\tlearn: 0.1833913\ttotal: 248ms\tremaining: 10.5s\n",
      "23:\tlearn: 0.1776818\ttotal: 257ms\tremaining: 10.5s\n",
      "24:\tlearn: 0.1721335\ttotal: 267ms\tremaining: 10.4s\n",
      "25:\tlearn: 0.1672354\ttotal: 275ms\tremaining: 10.3s\n",
      "26:\tlearn: 0.1630389\ttotal: 283ms\tremaining: 10.2s\n",
      "27:\tlearn: 0.1590168\ttotal: 292ms\tremaining: 10.1s\n",
      "28:\tlearn: 0.1550704\ttotal: 302ms\tremaining: 10.1s\n",
      "29:\tlearn: 0.1513580\ttotal: 311ms\tremaining: 10.1s\n",
      "30:\tlearn: 0.1481063\ttotal: 319ms\tremaining: 9.97s\n",
      "31:\tlearn: 0.1453150\ttotal: 328ms\tremaining: 9.91s\n",
      "32:\tlearn: 0.1430388\ttotal: 337ms\tremaining: 9.87s\n",
      "33:\tlearn: 0.1397480\ttotal: 345ms\tremaining: 9.8s\n",
      "34:\tlearn: 0.1369656\ttotal: 356ms\tremaining: 9.81s\n",
      "35:\tlearn: 0.1343500\ttotal: 367ms\tremaining: 9.83s\n",
      "36:\tlearn: 0.1316415\ttotal: 377ms\tremaining: 9.8s\n",
      "37:\tlearn: 0.1301332\ttotal: 389ms\tremaining: 9.84s\n",
      "38:\tlearn: 0.1282602\ttotal: 401ms\tremaining: 9.87s\n",
      "39:\tlearn: 0.1267900\ttotal: 409ms\tremaining: 9.82s\n",
      "40:\tlearn: 0.1248342\ttotal: 418ms\tremaining: 9.78s\n",
      "41:\tlearn: 0.1241384\ttotal: 426ms\tremaining: 9.71s\n",
      "42:\tlearn: 0.1225569\ttotal: 434ms\tremaining: 9.66s\n",
      "43:\tlearn: 0.1216323\ttotal: 442ms\tremaining: 9.59s\n",
      "44:\tlearn: 0.1200962\ttotal: 449ms\tremaining: 9.53s\n",
      "45:\tlearn: 0.1188941\ttotal: 458ms\tremaining: 9.5s\n",
      "46:\tlearn: 0.1181165\ttotal: 465ms\tremaining: 9.44s\n",
      "47:\tlearn: 0.1171151\ttotal: 474ms\tremaining: 9.4s\n",
      "48:\tlearn: 0.1157169\ttotal: 482ms\tremaining: 9.36s\n",
      "49:\tlearn: 0.1145471\ttotal: 491ms\tremaining: 9.33s\n",
      "50:\tlearn: 0.1136573\ttotal: 498ms\tremaining: 9.28s\n",
      "51:\tlearn: 0.1127479\ttotal: 506ms\tremaining: 9.22s\n",
      "52:\tlearn: 0.1116540\ttotal: 515ms\tremaining: 9.2s\n",
      "53:\tlearn: 0.1104950\ttotal: 534ms\tremaining: 9.36s\n",
      "54:\tlearn: 0.1098107\ttotal: 547ms\tremaining: 9.4s\n",
      "55:\tlearn: 0.1086951\ttotal: 559ms\tremaining: 9.43s\n",
      "56:\tlearn: 0.1077431\ttotal: 582ms\tremaining: 9.63s\n",
      "57:\tlearn: 0.1067983\ttotal: 593ms\tremaining: 9.63s\n",
      "58:\tlearn: 0.1064702\ttotal: 601ms\tremaining: 9.59s\n",
      "59:\tlearn: 0.1056448\ttotal: 612ms\tremaining: 9.58s\n",
      "60:\tlearn: 0.1052904\ttotal: 625ms\tremaining: 9.62s\n",
      "61:\tlearn: 0.1047966\ttotal: 634ms\tremaining: 9.6s\n",
      "62:\tlearn: 0.1042731\ttotal: 644ms\tremaining: 9.57s\n",
      "63:\tlearn: 0.1034526\ttotal: 653ms\tremaining: 9.54s\n",
      "64:\tlearn: 0.1030139\ttotal: 662ms\tremaining: 9.52s\n",
      "65:\tlearn: 0.1018351\ttotal: 671ms\tremaining: 9.49s\n",
      "66:\tlearn: 0.1013381\ttotal: 680ms\tremaining: 9.47s\n",
      "67:\tlearn: 0.1007281\ttotal: 690ms\tremaining: 9.46s\n",
      "68:\tlearn: 0.1000761\ttotal: 705ms\tremaining: 9.51s\n",
      "69:\tlearn: 0.0992392\ttotal: 724ms\tremaining: 9.62s\n",
      "70:\tlearn: 0.0985910\ttotal: 734ms\tremaining: 9.6s\n",
      "71:\tlearn: 0.0980994\ttotal: 744ms\tremaining: 9.59s\n",
      "72:\tlearn: 0.0974544\ttotal: 756ms\tremaining: 9.6s\n",
      "73:\tlearn: 0.0970190\ttotal: 768ms\tremaining: 9.61s\n",
      "74:\tlearn: 0.0964952\ttotal: 779ms\tremaining: 9.6s\n",
      "75:\tlearn: 0.0958209\ttotal: 795ms\tremaining: 9.66s\n",
      "76:\tlearn: 0.0956399\ttotal: 804ms\tremaining: 9.64s\n",
      "77:\tlearn: 0.0953363\ttotal: 815ms\tremaining: 9.63s\n",
      "78:\tlearn: 0.0949566\ttotal: 825ms\tremaining: 9.61s\n",
      "79:\tlearn: 0.0946132\ttotal: 834ms\tremaining: 9.59s\n",
      "80:\tlearn: 0.0943232\ttotal: 842ms\tremaining: 9.56s\n",
      "81:\tlearn: 0.0941576\ttotal: 853ms\tremaining: 9.55s\n",
      "82:\tlearn: 0.0936818\ttotal: 876ms\tremaining: 9.67s\n",
      "83:\tlearn: 0.0934759\ttotal: 887ms\tremaining: 9.67s\n",
      "84:\tlearn: 0.0931691\ttotal: 897ms\tremaining: 9.65s\n",
      "85:\tlearn: 0.0927545\ttotal: 923ms\tremaining: 9.81s\n",
      "86:\tlearn: 0.0922160\ttotal: 932ms\tremaining: 9.78s\n",
      "87:\tlearn: 0.0920563\ttotal: 942ms\tremaining: 9.76s\n",
      "88:\tlearn: 0.0914908\ttotal: 951ms\tremaining: 9.74s\n",
      "89:\tlearn: 0.0911141\ttotal: 960ms\tremaining: 9.71s\n",
      "90:\tlearn: 0.0906821\ttotal: 970ms\tremaining: 9.69s\n",
      "91:\tlearn: 0.0904218\ttotal: 978ms\tremaining: 9.65s\n",
      "92:\tlearn: 0.0903076\ttotal: 986ms\tremaining: 9.62s\n",
      "93:\tlearn: 0.0901201\ttotal: 994ms\tremaining: 9.58s\n",
      "94:\tlearn: 0.0900302\ttotal: 1.01s\tremaining: 9.59s\n",
      "95:\tlearn: 0.0897080\ttotal: 1.02s\tremaining: 9.61s\n",
      "96:\tlearn: 0.0895713\ttotal: 1.03s\tremaining: 9.6s\n",
      "97:\tlearn: 0.0894847\ttotal: 1.04s\tremaining: 9.6s\n",
      "98:\tlearn: 0.0892523\ttotal: 1.08s\tremaining: 9.86s\n",
      "99:\tlearn: 0.0888216\ttotal: 1.09s\tremaining: 9.84s\n",
      "100:\tlearn: 0.0885583\ttotal: 1.1s\tremaining: 9.81s\n",
      "101:\tlearn: 0.0882576\ttotal: 1.12s\tremaining: 9.82s\n",
      "102:\tlearn: 0.0877863\ttotal: 1.13s\tremaining: 9.88s\n",
      "103:\tlearn: 0.0876307\ttotal: 1.15s\tremaining: 9.87s\n",
      "104:\tlearn: 0.0875378\ttotal: 1.16s\tremaining: 9.86s\n",
      "105:\tlearn: 0.0871508\ttotal: 1.17s\tremaining: 9.86s\n",
      "106:\tlearn: 0.0869124\ttotal: 1.18s\tremaining: 9.84s\n",
      "107:\tlearn: 0.0868341\ttotal: 1.19s\tremaining: 9.82s\n",
      "108:\tlearn: 0.0866616\ttotal: 1.2s\tremaining: 9.85s\n",
      "109:\tlearn: 0.0862715\ttotal: 1.22s\tremaining: 9.84s\n",
      "110:\tlearn: 0.0856763\ttotal: 1.23s\tremaining: 9.84s\n",
      "111:\tlearn: 0.0855407\ttotal: 1.25s\tremaining: 9.88s\n",
      "112:\tlearn: 0.0854087\ttotal: 1.26s\tremaining: 9.86s\n",
      "113:\tlearn: 0.0851037\ttotal: 1.27s\tremaining: 9.84s\n",
      "114:\tlearn: 0.0849827\ttotal: 1.28s\tremaining: 9.82s\n",
      "115:\tlearn: 0.0848681\ttotal: 1.28s\tremaining: 9.79s\n",
      "116:\tlearn: 0.0846695\ttotal: 1.3s\tremaining: 9.79s\n",
      "117:\tlearn: 0.0844163\ttotal: 1.3s\tremaining: 9.75s\n",
      "118:\tlearn: 0.0840498\ttotal: 1.31s\tremaining: 9.72s\n",
      "119:\tlearn: 0.0838962\ttotal: 1.32s\tremaining: 9.69s\n",
      "120:\tlearn: 0.0836777\ttotal: 1.33s\tremaining: 9.66s\n",
      "121:\tlearn: 0.0835530\ttotal: 1.34s\tremaining: 9.63s\n",
      "122:\tlearn: 0.0834718\ttotal: 1.35s\tremaining: 9.6s\n",
      "123:\tlearn: 0.0833777\ttotal: 1.35s\tremaining: 9.57s\n",
      "124:\tlearn: 0.0832763\ttotal: 1.36s\tremaining: 9.54s\n",
      "125:\tlearn: 0.0831672\ttotal: 1.37s\tremaining: 9.54s\n",
      "126:\tlearn: 0.0828701\ttotal: 1.38s\tremaining: 9.5s\n",
      "127:\tlearn: 0.0824634\ttotal: 1.39s\tremaining: 9.47s\n",
      "128:\tlearn: 0.0823145\ttotal: 1.4s\tremaining: 9.44s\n",
      "129:\tlearn: 0.0820581\ttotal: 1.41s\tremaining: 9.45s\n",
      "130:\tlearn: 0.0817800\ttotal: 1.42s\tremaining: 9.43s\n",
      "131:\tlearn: 0.0816531\ttotal: 1.43s\tremaining: 9.41s\n",
      "132:\tlearn: 0.0815597\ttotal: 1.44s\tremaining: 9.38s\n",
      "133:\tlearn: 0.0813518\ttotal: 1.45s\tremaining: 9.36s\n",
      "134:\tlearn: 0.0810742\ttotal: 1.46s\tremaining: 9.33s\n",
      "135:\tlearn: 0.0807317\ttotal: 1.47s\tremaining: 9.32s\n",
      "136:\tlearn: 0.0805656\ttotal: 1.48s\tremaining: 9.3s\n",
      "137:\tlearn: 0.0803306\ttotal: 1.49s\tremaining: 9.28s\n",
      "138:\tlearn: 0.0801927\ttotal: 1.49s\tremaining: 9.26s\n",
      "139:\tlearn: 0.0799151\ttotal: 1.5s\tremaining: 9.24s\n",
      "140:\tlearn: 0.0796634\ttotal: 1.51s\tremaining: 9.22s\n",
      "141:\tlearn: 0.0794084\ttotal: 1.52s\tremaining: 9.19s\n",
      "142:\tlearn: 0.0791344\ttotal: 1.53s\tremaining: 9.16s\n",
      "143:\tlearn: 0.0789991\ttotal: 1.54s\tremaining: 9.13s\n",
      "144:\tlearn: 0.0788043\ttotal: 1.55s\tremaining: 9.12s\n",
      "145:\tlearn: 0.0786080\ttotal: 1.55s\tremaining: 9.09s\n",
      "146:\tlearn: 0.0785158\ttotal: 1.56s\tremaining: 9.07s\n",
      "147:\tlearn: 0.0783555\ttotal: 1.57s\tremaining: 9.05s\n",
      "148:\tlearn: 0.0782643\ttotal: 1.58s\tremaining: 9.03s\n",
      "149:\tlearn: 0.0779611\ttotal: 1.59s\tremaining: 9.03s\n",
      "150:\tlearn: 0.0778997\ttotal: 1.6s\tremaining: 9.01s\n",
      "151:\tlearn: 0.0777159\ttotal: 1.61s\tremaining: 8.99s\n",
      "152:\tlearn: 0.0775639\ttotal: 1.62s\tremaining: 8.97s\n",
      "153:\tlearn: 0.0773950\ttotal: 1.63s\tremaining: 8.94s\n",
      "154:\tlearn: 0.0771621\ttotal: 1.64s\tremaining: 8.93s\n",
      "155:\tlearn: 0.0770587\ttotal: 1.65s\tremaining: 8.9s\n",
      "156:\tlearn: 0.0769229\ttotal: 1.65s\tremaining: 8.88s\n",
      "157:\tlearn: 0.0767844\ttotal: 1.66s\tremaining: 8.85s\n",
      "158:\tlearn: 0.0766443\ttotal: 1.67s\tremaining: 8.83s\n",
      "159:\tlearn: 0.0765945\ttotal: 1.68s\tremaining: 8.81s\n",
      "160:\tlearn: 0.0762662\ttotal: 1.69s\tremaining: 8.79s\n",
      "161:\tlearn: 0.0762150\ttotal: 1.69s\tremaining: 8.77s\n",
      "162:\tlearn: 0.0761328\ttotal: 1.7s\tremaining: 8.74s\n",
      "163:\tlearn: 0.0760751\ttotal: 1.71s\tremaining: 8.72s\n",
      "164:\tlearn: 0.0760199\ttotal: 1.72s\tremaining: 8.69s\n",
      "165:\tlearn: 0.0759400\ttotal: 1.73s\tremaining: 8.67s\n",
      "166:\tlearn: 0.0756255\ttotal: 1.73s\tremaining: 8.65s\n",
      "167:\tlearn: 0.0755197\ttotal: 1.74s\tremaining: 8.63s\n"
     ]
    },
    {
     "name": "stdout",
     "output_type": "stream",
     "text": [
      "168:\tlearn: 0.0754331\ttotal: 1.75s\tremaining: 8.62s\n",
      "169:\tlearn: 0.0752984\ttotal: 1.76s\tremaining: 8.61s\n",
      "170:\tlearn: 0.0750928\ttotal: 1.77s\tremaining: 8.6s\n",
      "171:\tlearn: 0.0748910\ttotal: 1.79s\tremaining: 8.6s\n",
      "172:\tlearn: 0.0747793\ttotal: 1.8s\tremaining: 8.61s\n",
      "173:\tlearn: 0.0747041\ttotal: 1.81s\tremaining: 8.59s\n",
      "174:\tlearn: 0.0746739\ttotal: 1.82s\tremaining: 8.58s\n",
      "175:\tlearn: 0.0745668\ttotal: 1.83s\tremaining: 8.56s\n",
      "176:\tlearn: 0.0744988\ttotal: 1.84s\tremaining: 8.54s\n",
      "177:\tlearn: 0.0743828\ttotal: 1.84s\tremaining: 8.52s\n",
      "178:\tlearn: 0.0742078\ttotal: 1.85s\tremaining: 8.5s\n",
      "179:\tlearn: 0.0739741\ttotal: 1.86s\tremaining: 8.48s\n",
      "180:\tlearn: 0.0738600\ttotal: 1.87s\tremaining: 8.46s\n",
      "181:\tlearn: 0.0736240\ttotal: 1.88s\tremaining: 8.44s\n",
      "182:\tlearn: 0.0735760\ttotal: 1.88s\tremaining: 8.41s\n",
      "183:\tlearn: 0.0735405\ttotal: 1.89s\tremaining: 8.39s\n",
      "184:\tlearn: 0.0733933\ttotal: 1.9s\tremaining: 8.37s\n",
      "185:\tlearn: 0.0732358\ttotal: 1.91s\tremaining: 8.35s\n",
      "186:\tlearn: 0.0731891\ttotal: 1.92s\tremaining: 8.34s\n",
      "187:\tlearn: 0.0731557\ttotal: 1.93s\tremaining: 8.34s\n",
      "188:\tlearn: 0.0730878\ttotal: 1.94s\tremaining: 8.33s\n",
      "189:\tlearn: 0.0730113\ttotal: 1.95s\tremaining: 8.31s\n",
      "190:\tlearn: 0.0727807\ttotal: 1.96s\tremaining: 8.29s\n",
      "191:\tlearn: 0.0726707\ttotal: 1.97s\tremaining: 8.27s\n",
      "192:\tlearn: 0.0726092\ttotal: 1.97s\tremaining: 8.25s\n",
      "193:\tlearn: 0.0725410\ttotal: 1.98s\tremaining: 8.23s\n",
      "194:\tlearn: 0.0724905\ttotal: 1.99s\tremaining: 8.21s\n",
      "195:\tlearn: 0.0724499\ttotal: 2s\tremaining: 8.19s\n",
      "196:\tlearn: 0.0723261\ttotal: 2s\tremaining: 8.17s\n",
      "197:\tlearn: 0.0722066\ttotal: 2.01s\tremaining: 8.15s\n",
      "198:\tlearn: 0.0721639\ttotal: 2.02s\tremaining: 8.13s\n",
      "199:\tlearn: 0.0720412\ttotal: 2.03s\tremaining: 8.11s\n",
      "200:\tlearn: 0.0720097\ttotal: 2.04s\tremaining: 8.09s\n",
      "201:\tlearn: 0.0718660\ttotal: 2.04s\tremaining: 8.07s\n",
      "202:\tlearn: 0.0717579\ttotal: 2.05s\tremaining: 8.06s\n",
      "203:\tlearn: 0.0715609\ttotal: 2.06s\tremaining: 8.05s\n",
      "204:\tlearn: 0.0715318\ttotal: 2.07s\tremaining: 8.03s\n",
      "205:\tlearn: 0.0714661\ttotal: 2.08s\tremaining: 8.01s\n",
      "206:\tlearn: 0.0714336\ttotal: 2.09s\tremaining: 8s\n",
      "207:\tlearn: 0.0713943\ttotal: 2.1s\tremaining: 7.99s\n",
      "208:\tlearn: 0.0712566\ttotal: 2.11s\tremaining: 8s\n",
      "209:\tlearn: 0.0712145\ttotal: 2.12s\tremaining: 7.99s\n",
      "210:\tlearn: 0.0709536\ttotal: 2.13s\tremaining: 7.97s\n",
      "211:\tlearn: 0.0708751\ttotal: 2.14s\tremaining: 7.95s\n",
      "212:\tlearn: 0.0707021\ttotal: 2.15s\tremaining: 7.93s\n",
      "213:\tlearn: 0.0706367\ttotal: 2.16s\tremaining: 7.92s\n",
      "214:\tlearn: 0.0705257\ttotal: 2.16s\tremaining: 7.9s\n",
      "215:\tlearn: 0.0702393\ttotal: 2.17s\tremaining: 7.89s\n",
      "216:\tlearn: 0.0701952\ttotal: 2.18s\tremaining: 7.87s\n",
      "217:\tlearn: 0.0700386\ttotal: 2.19s\tremaining: 7.86s\n",
      "218:\tlearn: 0.0699988\ttotal: 2.2s\tremaining: 7.85s\n",
      "219:\tlearn: 0.0699109\ttotal: 2.21s\tremaining: 7.84s\n",
      "220:\tlearn: 0.0697928\ttotal: 2.22s\tremaining: 7.83s\n",
      "221:\tlearn: 0.0696854\ttotal: 2.23s\tremaining: 7.82s\n",
      "222:\tlearn: 0.0695989\ttotal: 2.24s\tremaining: 7.8s\n",
      "223:\tlearn: 0.0694154\ttotal: 2.25s\tremaining: 7.78s\n",
      "224:\tlearn: 0.0693263\ttotal: 2.25s\tremaining: 7.76s\n",
      "225:\tlearn: 0.0692228\ttotal: 2.26s\tremaining: 7.75s\n",
      "226:\tlearn: 0.0690081\ttotal: 2.27s\tremaining: 7.74s\n",
      "227:\tlearn: 0.0689253\ttotal: 2.29s\tremaining: 7.74s\n",
      "228:\tlearn: 0.0688587\ttotal: 2.29s\tremaining: 7.73s\n",
      "229:\tlearn: 0.0686921\ttotal: 2.3s\tremaining: 7.71s\n",
      "230:\tlearn: 0.0686378\ttotal: 2.31s\tremaining: 7.7s\n",
      "231:\tlearn: 0.0685317\ttotal: 2.32s\tremaining: 7.69s\n",
      "232:\tlearn: 0.0684834\ttotal: 2.33s\tremaining: 7.68s\n",
      "233:\tlearn: 0.0683324\ttotal: 2.34s\tremaining: 7.66s\n",
      "234:\tlearn: 0.0682585\ttotal: 2.35s\tremaining: 7.65s\n",
      "235:\tlearn: 0.0680975\ttotal: 2.36s\tremaining: 7.63s\n",
      "236:\tlearn: 0.0680818\ttotal: 2.37s\tremaining: 7.62s\n",
      "237:\tlearn: 0.0679459\ttotal: 2.37s\tremaining: 7.6s\n",
      "238:\tlearn: 0.0679246\ttotal: 2.38s\tremaining: 7.58s\n",
      "239:\tlearn: 0.0677786\ttotal: 2.39s\tremaining: 7.56s\n",
      "240:\tlearn: 0.0677565\ttotal: 2.4s\tremaining: 7.55s\n",
      "241:\tlearn: 0.0677153\ttotal: 2.41s\tremaining: 7.54s\n",
      "242:\tlearn: 0.0676047\ttotal: 2.41s\tremaining: 7.52s\n",
      "243:\tlearn: 0.0675774\ttotal: 2.42s\tremaining: 7.5s\n",
      "244:\tlearn: 0.0674590\ttotal: 2.43s\tremaining: 7.49s\n",
      "245:\tlearn: 0.0673957\ttotal: 2.44s\tremaining: 7.47s\n",
      "246:\tlearn: 0.0672858\ttotal: 2.45s\tremaining: 7.47s\n",
      "247:\tlearn: 0.0671854\ttotal: 2.46s\tremaining: 7.47s\n",
      "248:\tlearn: 0.0671119\ttotal: 2.47s\tremaining: 7.46s\n",
      "249:\tlearn: 0.0670764\ttotal: 2.48s\tremaining: 7.45s\n",
      "250:\tlearn: 0.0669686\ttotal: 2.49s\tremaining: 7.43s\n",
      "251:\tlearn: 0.0669328\ttotal: 2.5s\tremaining: 7.42s\n",
      "252:\tlearn: 0.0668278\ttotal: 2.51s\tremaining: 7.41s\n",
      "253:\tlearn: 0.0666809\ttotal: 2.52s\tremaining: 7.39s\n",
      "254:\tlearn: 0.0665584\ttotal: 2.52s\tremaining: 7.38s\n",
      "255:\tlearn: 0.0665318\ttotal: 2.53s\tremaining: 7.36s\n",
      "256:\tlearn: 0.0664480\ttotal: 2.54s\tremaining: 7.35s\n",
      "257:\tlearn: 0.0663762\ttotal: 2.55s\tremaining: 7.33s\n",
      "258:\tlearn: 0.0663147\ttotal: 2.56s\tremaining: 7.31s\n",
      "259:\tlearn: 0.0661956\ttotal: 2.56s\tremaining: 7.3s\n",
      "260:\tlearn: 0.0660685\ttotal: 2.57s\tremaining: 7.28s\n",
      "261:\tlearn: 0.0660323\ttotal: 2.58s\tremaining: 7.27s\n",
      "262:\tlearn: 0.0659527\ttotal: 2.59s\tremaining: 7.26s\n",
      "263:\tlearn: 0.0658902\ttotal: 2.61s\tremaining: 7.29s\n",
      "264:\tlearn: 0.0658238\ttotal: 2.63s\tremaining: 7.28s\n",
      "265:\tlearn: 0.0656191\ttotal: 2.65s\tremaining: 7.3s\n",
      "266:\tlearn: 0.0655135\ttotal: 2.66s\tremaining: 7.3s\n",
      "267:\tlearn: 0.0654473\ttotal: 2.67s\tremaining: 7.28s\n",
      "268:\tlearn: 0.0653276\ttotal: 2.67s\tremaining: 7.27s\n",
      "269:\tlearn: 0.0652389\ttotal: 2.68s\tremaining: 7.25s\n",
      "270:\tlearn: 0.0651575\ttotal: 2.69s\tremaining: 7.24s\n",
      "271:\tlearn: 0.0650428\ttotal: 2.7s\tremaining: 7.22s\n",
      "272:\tlearn: 0.0649019\ttotal: 2.71s\tremaining: 7.21s\n",
      "273:\tlearn: 0.0647757\ttotal: 2.71s\tremaining: 7.19s\n",
      "274:\tlearn: 0.0647038\ttotal: 2.73s\tremaining: 7.18s\n",
      "275:\tlearn: 0.0646312\ttotal: 2.74s\tremaining: 7.18s\n",
      "276:\tlearn: 0.0645955\ttotal: 2.75s\tremaining: 7.17s\n",
      "277:\tlearn: 0.0644552\ttotal: 2.76s\tremaining: 7.17s\n",
      "278:\tlearn: 0.0644032\ttotal: 2.77s\tremaining: 7.16s\n",
      "279:\tlearn: 0.0642985\ttotal: 2.78s\tremaining: 7.14s\n",
      "280:\tlearn: 0.0642845\ttotal: 2.79s\tremaining: 7.14s\n",
      "281:\tlearn: 0.0642652\ttotal: 2.8s\tremaining: 7.13s\n",
      "282:\tlearn: 0.0642139\ttotal: 2.81s\tremaining: 7.13s\n",
      "283:\tlearn: 0.0640887\ttotal: 2.83s\tremaining: 7.13s\n",
      "284:\tlearn: 0.0639721\ttotal: 2.84s\tremaining: 7.12s\n",
      "285:\tlearn: 0.0638507\ttotal: 2.85s\tremaining: 7.11s\n",
      "286:\tlearn: 0.0638180\ttotal: 2.86s\tremaining: 7.1s\n",
      "287:\tlearn: 0.0635982\ttotal: 2.87s\tremaining: 7.09s\n",
      "288:\tlearn: 0.0634989\ttotal: 2.88s\tremaining: 7.07s\n",
      "289:\tlearn: 0.0634451\ttotal: 2.88s\tremaining: 7.06s\n",
      "290:\tlearn: 0.0633187\ttotal: 2.89s\tremaining: 7.04s\n",
      "291:\tlearn: 0.0632656\ttotal: 2.9s\tremaining: 7.03s\n",
      "292:\tlearn: 0.0631712\ttotal: 2.91s\tremaining: 7.02s\n",
      "293:\tlearn: 0.0630740\ttotal: 2.92s\tremaining: 7.01s\n",
      "294:\tlearn: 0.0630634\ttotal: 2.93s\tremaining: 6.99s\n",
      "295:\tlearn: 0.0630219\ttotal: 2.94s\tremaining: 6.98s\n",
      "296:\tlearn: 0.0629572\ttotal: 2.94s\tremaining: 6.97s\n",
      "297:\tlearn: 0.0629280\ttotal: 2.95s\tremaining: 6.95s\n",
      "298:\tlearn: 0.0627736\ttotal: 2.96s\tremaining: 6.94s\n",
      "299:\tlearn: 0.0627473\ttotal: 2.97s\tremaining: 6.92s\n",
      "300:\tlearn: 0.0626232\ttotal: 2.98s\tremaining: 6.93s\n",
      "301:\tlearn: 0.0625960\ttotal: 3s\tremaining: 6.92s\n",
      "302:\tlearn: 0.0624659\ttotal: 3s\tremaining: 6.91s\n",
      "303:\tlearn: 0.0623966\ttotal: 3.01s\tremaining: 6.9s\n",
      "304:\tlearn: 0.0622911\ttotal: 3.02s\tremaining: 6.88s\n",
      "305:\tlearn: 0.0621823\ttotal: 3.03s\tremaining: 6.87s\n",
      "306:\tlearn: 0.0620640\ttotal: 3.04s\tremaining: 6.86s\n",
      "307:\tlearn: 0.0620490\ttotal: 3.05s\tremaining: 6.85s\n",
      "308:\tlearn: 0.0620272\ttotal: 3.06s\tremaining: 6.84s\n",
      "309:\tlearn: 0.0619443\ttotal: 3.07s\tremaining: 6.83s\n",
      "310:\tlearn: 0.0618761\ttotal: 3.07s\tremaining: 6.81s\n",
      "311:\tlearn: 0.0617854\ttotal: 3.08s\tremaining: 6.8s\n",
      "312:\tlearn: 0.0617388\ttotal: 3.09s\tremaining: 6.78s\n",
      "313:\tlearn: 0.0616255\ttotal: 3.1s\tremaining: 6.77s\n",
      "314:\tlearn: 0.0615559\ttotal: 3.11s\tremaining: 6.76s\n",
      "315:\tlearn: 0.0615342\ttotal: 3.12s\tremaining: 6.75s\n",
      "316:\tlearn: 0.0614602\ttotal: 3.13s\tremaining: 6.74s\n",
      "317:\tlearn: 0.0613463\ttotal: 3.13s\tremaining: 6.72s\n",
      "318:\tlearn: 0.0612940\ttotal: 3.14s\tremaining: 6.71s\n",
      "319:\tlearn: 0.0612153\ttotal: 3.15s\tremaining: 6.7s\n",
      "320:\tlearn: 0.0610824\ttotal: 3.16s\tremaining: 6.69s\n",
      "321:\tlearn: 0.0610583\ttotal: 3.17s\tremaining: 6.69s\n",
      "322:\tlearn: 0.0609666\ttotal: 3.19s\tremaining: 6.68s\n",
      "323:\tlearn: 0.0608536\ttotal: 3.19s\tremaining: 6.67s\n",
      "324:\tlearn: 0.0608375\ttotal: 3.2s\tremaining: 6.66s\n",
      "325:\tlearn: 0.0607312\ttotal: 3.21s\tremaining: 6.64s\n",
      "326:\tlearn: 0.0606668\ttotal: 3.22s\tremaining: 6.63s\n",
      "327:\tlearn: 0.0606066\ttotal: 3.23s\tremaining: 6.62s\n",
      "328:\tlearn: 0.0605228\ttotal: 3.24s\tremaining: 6.61s\n",
      "329:\tlearn: 0.0604339\ttotal: 3.25s\tremaining: 6.59s\n",
      "330:\tlearn: 0.0603298\ttotal: 3.25s\tremaining: 6.58s\n",
      "331:\tlearn: 0.0603110\ttotal: 3.26s\tremaining: 6.57s\n",
      "332:\tlearn: 0.0602430\ttotal: 3.27s\tremaining: 6.55s\n",
      "333:\tlearn: 0.0601138\ttotal: 3.28s\tremaining: 6.54s\n",
      "334:\tlearn: 0.0600164\ttotal: 3.29s\tremaining: 6.53s\n",
      "335:\tlearn: 0.0599929\ttotal: 3.3s\tremaining: 6.51s\n",
      "336:\tlearn: 0.0599315\ttotal: 3.3s\tremaining: 6.5s\n",
      "337:\tlearn: 0.0598476\ttotal: 3.31s\tremaining: 6.49s\n"
     ]
    },
    {
     "name": "stdout",
     "output_type": "stream",
     "text": [
      "338:\tlearn: 0.0597579\ttotal: 3.32s\tremaining: 6.48s\n",
      "339:\tlearn: 0.0597409\ttotal: 3.33s\tremaining: 6.47s\n",
      "340:\tlearn: 0.0595878\ttotal: 3.35s\tremaining: 6.47s\n",
      "341:\tlearn: 0.0595629\ttotal: 3.36s\tremaining: 6.46s\n",
      "342:\tlearn: 0.0595372\ttotal: 3.37s\tremaining: 6.45s\n",
      "343:\tlearn: 0.0595141\ttotal: 3.38s\tremaining: 6.44s\n",
      "344:\tlearn: 0.0594532\ttotal: 3.38s\tremaining: 6.42s\n",
      "345:\tlearn: 0.0594226\ttotal: 3.39s\tremaining: 6.41s\n",
      "346:\tlearn: 0.0593227\ttotal: 3.4s\tremaining: 6.41s\n",
      "347:\tlearn: 0.0592570\ttotal: 3.41s\tremaining: 6.39s\n",
      "348:\tlearn: 0.0591875\ttotal: 3.42s\tremaining: 6.38s\n",
      "349:\tlearn: 0.0591590\ttotal: 3.43s\tremaining: 6.37s\n",
      "350:\tlearn: 0.0591307\ttotal: 3.44s\tremaining: 6.36s\n",
      "351:\tlearn: 0.0591147\ttotal: 3.44s\tremaining: 6.34s\n",
      "352:\tlearn: 0.0590119\ttotal: 3.45s\tremaining: 6.33s\n",
      "353:\tlearn: 0.0589766\ttotal: 3.46s\tremaining: 6.32s\n",
      "354:\tlearn: 0.0589640\ttotal: 3.47s\tremaining: 6.3s\n",
      "355:\tlearn: 0.0588586\ttotal: 3.48s\tremaining: 6.29s\n",
      "356:\tlearn: 0.0588415\ttotal: 3.49s\tremaining: 6.28s\n",
      "357:\tlearn: 0.0588175\ttotal: 3.5s\tremaining: 6.27s\n",
      "358:\tlearn: 0.0587320\ttotal: 3.5s\tremaining: 6.26s\n",
      "359:\tlearn: 0.0586825\ttotal: 3.52s\tremaining: 6.25s\n",
      "360:\tlearn: 0.0585610\ttotal: 3.52s\tremaining: 6.24s\n",
      "361:\tlearn: 0.0585129\ttotal: 3.53s\tremaining: 6.23s\n",
      "362:\tlearn: 0.0584945\ttotal: 3.54s\tremaining: 6.21s\n",
      "363:\tlearn: 0.0583942\ttotal: 3.55s\tremaining: 6.2s\n",
      "364:\tlearn: 0.0583178\ttotal: 3.56s\tremaining: 6.19s\n",
      "365:\tlearn: 0.0581819\ttotal: 3.57s\tremaining: 6.18s\n",
      "366:\tlearn: 0.0581209\ttotal: 3.58s\tremaining: 6.17s\n",
      "367:\tlearn: 0.0580176\ttotal: 3.58s\tremaining: 6.16s\n",
      "368:\tlearn: 0.0580044\ttotal: 3.59s\tremaining: 6.15s\n",
      "369:\tlearn: 0.0579417\ttotal: 3.6s\tremaining: 6.13s\n",
      "370:\tlearn: 0.0579301\ttotal: 3.61s\tremaining: 6.13s\n",
      "371:\tlearn: 0.0578302\ttotal: 3.63s\tremaining: 6.13s\n",
      "372:\tlearn: 0.0578174\ttotal: 3.64s\tremaining: 6.12s\n",
      "373:\tlearn: 0.0577757\ttotal: 3.65s\tremaining: 6.11s\n",
      "374:\tlearn: 0.0576997\ttotal: 3.67s\tremaining: 6.11s\n",
      "375:\tlearn: 0.0576866\ttotal: 3.68s\tremaining: 6.1s\n",
      "376:\tlearn: 0.0576257\ttotal: 3.69s\tremaining: 6.09s\n",
      "377:\tlearn: 0.0575389\ttotal: 3.7s\tremaining: 6.08s\n",
      "378:\tlearn: 0.0575207\ttotal: 3.7s\tremaining: 6.07s\n",
      "379:\tlearn: 0.0575031\ttotal: 3.71s\tremaining: 6.05s\n",
      "380:\tlearn: 0.0574007\ttotal: 3.72s\tremaining: 6.04s\n",
      "381:\tlearn: 0.0573420\ttotal: 3.73s\tremaining: 6.03s\n",
      "382:\tlearn: 0.0573184\ttotal: 3.73s\tremaining: 6.02s\n",
      "383:\tlearn: 0.0572635\ttotal: 3.74s\tremaining: 6s\n",
      "384:\tlearn: 0.0572471\ttotal: 3.75s\tremaining: 5.99s\n",
      "385:\tlearn: 0.0572319\ttotal: 3.76s\tremaining: 5.98s\n",
      "386:\tlearn: 0.0570896\ttotal: 3.77s\tremaining: 5.97s\n",
      "387:\tlearn: 0.0570401\ttotal: 3.77s\tremaining: 5.96s\n",
      "388:\tlearn: 0.0569879\ttotal: 3.78s\tremaining: 5.94s\n",
      "389:\tlearn: 0.0569773\ttotal: 3.79s\tremaining: 5.94s\n",
      "390:\tlearn: 0.0569039\ttotal: 3.81s\tremaining: 5.93s\n",
      "391:\tlearn: 0.0568167\ttotal: 3.81s\tremaining: 5.91s\n",
      "392:\tlearn: 0.0567986\ttotal: 3.82s\tremaining: 5.9s\n",
      "393:\tlearn: 0.0567935\ttotal: 3.83s\tremaining: 5.89s\n",
      "394:\tlearn: 0.0567694\ttotal: 3.84s\tremaining: 5.88s\n",
      "395:\tlearn: 0.0567586\ttotal: 3.85s\tremaining: 5.87s\n",
      "396:\tlearn: 0.0566361\ttotal: 3.86s\tremaining: 5.86s\n",
      "397:\tlearn: 0.0566027\ttotal: 3.87s\tremaining: 5.85s\n",
      "398:\tlearn: 0.0564905\ttotal: 3.88s\tremaining: 5.84s\n",
      "399:\tlearn: 0.0564837\ttotal: 3.88s\tremaining: 5.83s\n",
      "400:\tlearn: 0.0563742\ttotal: 3.9s\tremaining: 5.82s\n",
      "401:\tlearn: 0.0562845\ttotal: 3.9s\tremaining: 5.81s\n",
      "402:\tlearn: 0.0561989\ttotal: 3.91s\tremaining: 5.8s\n",
      "403:\tlearn: 0.0561775\ttotal: 3.92s\tremaining: 5.79s\n",
      "404:\tlearn: 0.0561597\ttotal: 3.93s\tremaining: 5.77s\n",
      "405:\tlearn: 0.0561465\ttotal: 3.94s\tremaining: 5.76s\n",
      "406:\tlearn: 0.0560625\ttotal: 3.95s\tremaining: 5.75s\n",
      "407:\tlearn: 0.0559910\ttotal: 3.96s\tremaining: 5.74s\n",
      "408:\tlearn: 0.0559372\ttotal: 3.96s\tremaining: 5.73s\n",
      "409:\tlearn: 0.0558830\ttotal: 3.97s\tremaining: 5.72s\n",
      "410:\tlearn: 0.0557675\ttotal: 3.98s\tremaining: 5.71s\n",
      "411:\tlearn: 0.0556708\ttotal: 3.99s\tremaining: 5.69s\n",
      "412:\tlearn: 0.0556106\ttotal: 4s\tremaining: 5.68s\n",
      "413:\tlearn: 0.0555245\ttotal: 4s\tremaining: 5.67s\n",
      "414:\tlearn: 0.0555087\ttotal: 4.01s\tremaining: 5.66s\n",
      "415:\tlearn: 0.0554394\ttotal: 4.03s\tremaining: 5.66s\n",
      "416:\tlearn: 0.0554287\ttotal: 4.04s\tremaining: 5.65s\n",
      "417:\tlearn: 0.0552865\ttotal: 4.05s\tremaining: 5.64s\n",
      "418:\tlearn: 0.0552092\ttotal: 4.06s\tremaining: 5.63s\n",
      "419:\tlearn: 0.0551930\ttotal: 4.07s\tremaining: 5.62s\n",
      "420:\tlearn: 0.0551613\ttotal: 4.08s\tremaining: 5.61s\n",
      "421:\tlearn: 0.0550454\ttotal: 4.08s\tremaining: 5.59s\n",
      "422:\tlearn: 0.0549754\ttotal: 4.09s\tremaining: 5.58s\n",
      "423:\tlearn: 0.0549696\ttotal: 4.1s\tremaining: 5.57s\n",
      "424:\tlearn: 0.0548967\ttotal: 4.11s\tremaining: 5.56s\n",
      "425:\tlearn: 0.0548245\ttotal: 4.12s\tremaining: 5.54s\n",
      "426:\tlearn: 0.0548159\ttotal: 4.12s\tremaining: 5.53s\n",
      "427:\tlearn: 0.0546786\ttotal: 4.13s\tremaining: 5.52s\n",
      "428:\tlearn: 0.0545803\ttotal: 4.14s\tremaining: 5.51s\n",
      "429:\tlearn: 0.0545689\ttotal: 4.15s\tremaining: 5.5s\n",
      "430:\tlearn: 0.0544603\ttotal: 4.16s\tremaining: 5.49s\n",
      "431:\tlearn: 0.0543838\ttotal: 4.17s\tremaining: 5.48s\n",
      "432:\tlearn: 0.0543688\ttotal: 4.17s\tremaining: 5.46s\n",
      "433:\tlearn: 0.0542964\ttotal: 4.18s\tremaining: 5.45s\n",
      "434:\tlearn: 0.0542822\ttotal: 4.19s\tremaining: 5.45s\n",
      "435:\tlearn: 0.0542644\ttotal: 4.2s\tremaining: 5.44s\n",
      "436:\tlearn: 0.0541967\ttotal: 4.21s\tremaining: 5.43s\n",
      "437:\tlearn: 0.0541812\ttotal: 4.22s\tremaining: 5.42s\n",
      "438:\tlearn: 0.0541690\ttotal: 4.23s\tremaining: 5.41s\n",
      "439:\tlearn: 0.0541585\ttotal: 4.24s\tremaining: 5.4s\n",
      "440:\tlearn: 0.0540984\ttotal: 4.25s\tremaining: 5.39s\n",
      "441:\tlearn: 0.0540017\ttotal: 4.26s\tremaining: 5.38s\n",
      "442:\tlearn: 0.0539383\ttotal: 4.27s\tremaining: 5.37s\n",
      "443:\tlearn: 0.0538399\ttotal: 4.28s\tremaining: 5.36s\n",
      "444:\tlearn: 0.0537519\ttotal: 4.28s\tremaining: 5.34s\n",
      "445:\tlearn: 0.0536688\ttotal: 4.29s\tremaining: 5.33s\n",
      "446:\tlearn: 0.0536452\ttotal: 4.3s\tremaining: 5.32s\n",
      "447:\tlearn: 0.0536121\ttotal: 4.31s\tremaining: 5.31s\n",
      "448:\tlearn: 0.0536010\ttotal: 4.32s\tremaining: 5.3s\n",
      "449:\tlearn: 0.0535227\ttotal: 4.32s\tremaining: 5.29s\n",
      "450:\tlearn: 0.0534282\ttotal: 4.33s\tremaining: 5.27s\n",
      "451:\tlearn: 0.0533488\ttotal: 4.34s\tremaining: 5.26s\n",
      "452:\tlearn: 0.0532728\ttotal: 4.35s\tremaining: 5.25s\n",
      "453:\tlearn: 0.0531954\ttotal: 4.36s\tremaining: 5.24s\n",
      "454:\tlearn: 0.0531832\ttotal: 4.37s\tremaining: 5.24s\n",
      "455:\tlearn: 0.0530945\ttotal: 4.38s\tremaining: 5.23s\n",
      "456:\tlearn: 0.0530160\ttotal: 4.39s\tremaining: 5.22s\n",
      "457:\tlearn: 0.0529356\ttotal: 4.4s\tremaining: 5.21s\n",
      "458:\tlearn: 0.0528524\ttotal: 4.41s\tremaining: 5.2s\n",
      "459:\tlearn: 0.0528092\ttotal: 4.42s\tremaining: 5.19s\n",
      "460:\tlearn: 0.0527314\ttotal: 4.43s\tremaining: 5.18s\n",
      "461:\tlearn: 0.0527110\ttotal: 4.44s\tremaining: 5.17s\n",
      "462:\tlearn: 0.0527009\ttotal: 4.45s\tremaining: 5.16s\n",
      "463:\tlearn: 0.0525872\ttotal: 4.45s\tremaining: 5.15s\n",
      "464:\tlearn: 0.0525447\ttotal: 4.46s\tremaining: 5.13s\n",
      "465:\tlearn: 0.0525268\ttotal: 4.47s\tremaining: 5.12s\n",
      "466:\tlearn: 0.0524372\ttotal: 4.48s\tremaining: 5.11s\n",
      "467:\tlearn: 0.0524075\ttotal: 4.49s\tremaining: 5.1s\n",
      "468:\tlearn: 0.0523591\ttotal: 4.5s\tremaining: 5.09s\n",
      "469:\tlearn: 0.0523038\ttotal: 4.5s\tremaining: 5.08s\n",
      "470:\tlearn: 0.0522270\ttotal: 4.51s\tremaining: 5.07s\n",
      "471:\tlearn: 0.0521298\ttotal: 4.52s\tremaining: 5.06s\n",
      "472:\tlearn: 0.0520668\ttotal: 4.53s\tremaining: 5.04s\n",
      "473:\tlearn: 0.0520194\ttotal: 4.54s\tremaining: 5.04s\n",
      "474:\tlearn: 0.0519842\ttotal: 4.56s\tremaining: 5.04s\n",
      "475:\tlearn: 0.0519200\ttotal: 4.57s\tremaining: 5.03s\n",
      "476:\tlearn: 0.0518471\ttotal: 4.58s\tremaining: 5.02s\n",
      "477:\tlearn: 0.0517548\ttotal: 4.61s\tremaining: 5.03s\n",
      "478:\tlearn: 0.0516842\ttotal: 4.62s\tremaining: 5.03s\n",
      "479:\tlearn: 0.0516777\ttotal: 4.63s\tremaining: 5.02s\n",
      "480:\tlearn: 0.0516088\ttotal: 4.65s\tremaining: 5.01s\n",
      "481:\tlearn: 0.0515721\ttotal: 4.66s\tremaining: 5s\n",
      "482:\tlearn: 0.0515182\ttotal: 4.66s\tremaining: 4.99s\n",
      "483:\tlearn: 0.0514360\ttotal: 4.67s\tremaining: 4.98s\n",
      "484:\tlearn: 0.0513482\ttotal: 4.68s\tremaining: 4.97s\n",
      "485:\tlearn: 0.0513283\ttotal: 4.69s\tremaining: 4.96s\n",
      "486:\tlearn: 0.0512709\ttotal: 4.7s\tremaining: 4.95s\n",
      "487:\tlearn: 0.0512291\ttotal: 4.71s\tremaining: 4.94s\n",
      "488:\tlearn: 0.0511779\ttotal: 4.72s\tremaining: 4.93s\n",
      "489:\tlearn: 0.0511066\ttotal: 4.72s\tremaining: 4.92s\n",
      "490:\tlearn: 0.0510678\ttotal: 4.74s\tremaining: 4.92s\n",
      "491:\tlearn: 0.0509980\ttotal: 4.75s\tremaining: 4.9s\n",
      "492:\tlearn: 0.0509945\ttotal: 4.76s\tremaining: 4.89s\n",
      "493:\tlearn: 0.0509772\ttotal: 4.77s\tremaining: 4.88s\n",
      "494:\tlearn: 0.0508941\ttotal: 4.78s\tremaining: 4.87s\n",
      "495:\tlearn: 0.0508328\ttotal: 4.79s\tremaining: 4.86s\n",
      "496:\tlearn: 0.0508292\ttotal: 4.79s\tremaining: 4.85s\n",
      "497:\tlearn: 0.0507640\ttotal: 4.8s\tremaining: 4.84s\n",
      "498:\tlearn: 0.0507604\ttotal: 4.81s\tremaining: 4.83s\n",
      "499:\tlearn: 0.0506560\ttotal: 4.82s\tremaining: 4.82s\n",
      "500:\tlearn: 0.0506160\ttotal: 4.83s\tremaining: 4.81s\n",
      "501:\tlearn: 0.0506008\ttotal: 4.84s\tremaining: 4.8s\n",
      "502:\tlearn: 0.0505267\ttotal: 4.84s\tremaining: 4.79s\n",
      "503:\tlearn: 0.0505236\ttotal: 4.85s\tremaining: 4.77s\n",
      "504:\tlearn: 0.0504852\ttotal: 4.86s\tremaining: 4.76s\n",
      "505:\tlearn: 0.0504813\ttotal: 4.87s\tremaining: 4.75s\n",
      "506:\tlearn: 0.0504023\ttotal: 4.88s\tremaining: 4.74s\n"
     ]
    },
    {
     "name": "stdout",
     "output_type": "stream",
     "text": [
      "507:\tlearn: 0.0503985\ttotal: 4.89s\tremaining: 4.73s\n",
      "508:\tlearn: 0.0503332\ttotal: 4.9s\tremaining: 4.72s\n",
      "509:\tlearn: 0.0503296\ttotal: 4.91s\tremaining: 4.72s\n",
      "510:\tlearn: 0.0502949\ttotal: 4.92s\tremaining: 4.71s\n",
      "511:\tlearn: 0.0502913\ttotal: 4.93s\tremaining: 4.7s\n",
      "512:\tlearn: 0.0502516\ttotal: 4.94s\tremaining: 4.69s\n",
      "513:\tlearn: 0.0502491\ttotal: 4.95s\tremaining: 4.68s\n",
      "514:\tlearn: 0.0502466\ttotal: 4.96s\tremaining: 4.67s\n",
      "515:\tlearn: 0.0501717\ttotal: 4.97s\tremaining: 4.66s\n",
      "516:\tlearn: 0.0500658\ttotal: 4.98s\tremaining: 4.65s\n",
      "517:\tlearn: 0.0500459\ttotal: 4.98s\tremaining: 4.64s\n",
      "518:\tlearn: 0.0499468\ttotal: 4.99s\tremaining: 4.63s\n",
      "519:\tlearn: 0.0499099\ttotal: 5s\tremaining: 4.61s\n",
      "520:\tlearn: 0.0498580\ttotal: 5.01s\tremaining: 4.6s\n",
      "521:\tlearn: 0.0497596\ttotal: 5.02s\tremaining: 4.59s\n",
      "522:\tlearn: 0.0497067\ttotal: 5.03s\tremaining: 4.58s\n",
      "523:\tlearn: 0.0496358\ttotal: 5.04s\tremaining: 4.57s\n",
      "524:\tlearn: 0.0495841\ttotal: 5.04s\tremaining: 4.56s\n",
      "525:\tlearn: 0.0495130\ttotal: 5.05s\tremaining: 4.55s\n",
      "526:\tlearn: 0.0494204\ttotal: 5.06s\tremaining: 4.54s\n",
      "527:\tlearn: 0.0494175\ttotal: 5.07s\tremaining: 4.54s\n",
      "528:\tlearn: 0.0493603\ttotal: 5.08s\tremaining: 4.53s\n",
      "529:\tlearn: 0.0492904\ttotal: 5.09s\tremaining: 4.51s\n",
      "530:\tlearn: 0.0492254\ttotal: 5.1s\tremaining: 4.51s\n",
      "531:\tlearn: 0.0492065\ttotal: 5.11s\tremaining: 4.5s\n",
      "532:\tlearn: 0.0491536\ttotal: 5.12s\tremaining: 4.49s\n",
      "533:\tlearn: 0.0491305\ttotal: 5.13s\tremaining: 4.48s\n",
      "534:\tlearn: 0.0490442\ttotal: 5.14s\tremaining: 4.46s\n",
      "535:\tlearn: 0.0490126\ttotal: 5.14s\tremaining: 4.45s\n",
      "536:\tlearn: 0.0490093\ttotal: 5.15s\tremaining: 4.44s\n",
      "537:\tlearn: 0.0489408\ttotal: 5.16s\tremaining: 4.43s\n",
      "538:\tlearn: 0.0488972\ttotal: 5.17s\tremaining: 4.42s\n",
      "539:\tlearn: 0.0488356\ttotal: 5.18s\tremaining: 4.41s\n",
      "540:\tlearn: 0.0488169\ttotal: 5.19s\tremaining: 4.4s\n",
      "541:\tlearn: 0.0487745\ttotal: 5.2s\tremaining: 4.39s\n",
      "542:\tlearn: 0.0487712\ttotal: 5.21s\tremaining: 4.38s\n",
      "543:\tlearn: 0.0487680\ttotal: 5.22s\tremaining: 4.38s\n",
      "544:\tlearn: 0.0487461\ttotal: 5.23s\tremaining: 4.37s\n",
      "545:\tlearn: 0.0486614\ttotal: 5.24s\tremaining: 4.36s\n",
      "546:\tlearn: 0.0485945\ttotal: 5.25s\tremaining: 4.35s\n",
      "547:\tlearn: 0.0485226\ttotal: 5.27s\tremaining: 4.34s\n",
      "548:\tlearn: 0.0484921\ttotal: 5.28s\tremaining: 4.33s\n",
      "549:\tlearn: 0.0484313\ttotal: 5.28s\tremaining: 4.32s\n",
      "550:\tlearn: 0.0483665\ttotal: 5.29s\tremaining: 4.31s\n",
      "551:\tlearn: 0.0483633\ttotal: 5.3s\tremaining: 4.3s\n",
      "552:\tlearn: 0.0483286\ttotal: 5.31s\tremaining: 4.29s\n",
      "553:\tlearn: 0.0482627\ttotal: 5.32s\tremaining: 4.28s\n",
      "554:\tlearn: 0.0482134\ttotal: 5.33s\tremaining: 4.28s\n",
      "555:\tlearn: 0.0482104\ttotal: 5.34s\tremaining: 4.26s\n",
      "556:\tlearn: 0.0482076\ttotal: 5.35s\tremaining: 4.25s\n",
      "557:\tlearn: 0.0481360\ttotal: 5.36s\tremaining: 4.25s\n",
      "558:\tlearn: 0.0481149\ttotal: 5.37s\tremaining: 4.24s\n",
      "559:\tlearn: 0.0480544\ttotal: 5.38s\tremaining: 4.23s\n",
      "560:\tlearn: 0.0480488\ttotal: 5.39s\tremaining: 4.22s\n",
      "561:\tlearn: 0.0480400\ttotal: 5.4s\tremaining: 4.21s\n",
      "562:\tlearn: 0.0479925\ttotal: 5.4s\tremaining: 4.2s\n",
      "563:\tlearn: 0.0479143\ttotal: 5.42s\tremaining: 4.19s\n",
      "564:\tlearn: 0.0478570\ttotal: 5.43s\tremaining: 4.18s\n",
      "565:\tlearn: 0.0478517\ttotal: 5.43s\tremaining: 4.17s\n",
      "566:\tlearn: 0.0477806\ttotal: 5.45s\tremaining: 4.16s\n",
      "567:\tlearn: 0.0477394\ttotal: 5.45s\tremaining: 4.15s\n",
      "568:\tlearn: 0.0477061\ttotal: 5.46s\tremaining: 4.14s\n",
      "569:\tlearn: 0.0476609\ttotal: 5.47s\tremaining: 4.13s\n",
      "570:\tlearn: 0.0476009\ttotal: 5.48s\tremaining: 4.12s\n",
      "571:\tlearn: 0.0475546\ttotal: 5.49s\tremaining: 4.11s\n",
      "572:\tlearn: 0.0474406\ttotal: 5.5s\tremaining: 4.1s\n",
      "573:\tlearn: 0.0474028\ttotal: 5.51s\tremaining: 4.09s\n",
      "574:\tlearn: 0.0473379\ttotal: 5.52s\tremaining: 4.08s\n",
      "575:\tlearn: 0.0472521\ttotal: 5.53s\tremaining: 4.07s\n",
      "576:\tlearn: 0.0472368\ttotal: 5.54s\tremaining: 4.06s\n",
      "577:\tlearn: 0.0471923\ttotal: 5.55s\tremaining: 4.05s\n",
      "578:\tlearn: 0.0471721\ttotal: 5.56s\tremaining: 4.04s\n",
      "579:\tlearn: 0.0471638\ttotal: 5.57s\tremaining: 4.03s\n",
      "580:\tlearn: 0.0470658\ttotal: 5.57s\tremaining: 4.02s\n",
      "581:\tlearn: 0.0470116\ttotal: 5.58s\tremaining: 4.01s\n",
      "582:\tlearn: 0.0469863\ttotal: 5.59s\tremaining: 4s\n",
      "583:\tlearn: 0.0469285\ttotal: 5.6s\tremaining: 3.99s\n",
      "584:\tlearn: 0.0468475\ttotal: 5.61s\tremaining: 3.98s\n",
      "585:\tlearn: 0.0468080\ttotal: 5.62s\tremaining: 3.97s\n",
      "586:\tlearn: 0.0467997\ttotal: 5.63s\tremaining: 3.96s\n",
      "587:\tlearn: 0.0467617\ttotal: 5.64s\tremaining: 3.95s\n",
      "588:\tlearn: 0.0466973\ttotal: 5.65s\tremaining: 3.94s\n",
      "589:\tlearn: 0.0466376\ttotal: 5.66s\tremaining: 3.93s\n",
      "590:\tlearn: 0.0466014\ttotal: 5.66s\tremaining: 3.92s\n",
      "591:\tlearn: 0.0465503\ttotal: 5.67s\tremaining: 3.91s\n",
      "592:\tlearn: 0.0465329\ttotal: 5.68s\tremaining: 3.9s\n",
      "593:\tlearn: 0.0464896\ttotal: 5.69s\tremaining: 3.89s\n",
      "594:\tlearn: 0.0464366\ttotal: 5.7s\tremaining: 3.88s\n",
      "595:\tlearn: 0.0463954\ttotal: 5.7s\tremaining: 3.87s\n",
      "596:\tlearn: 0.0463400\ttotal: 5.71s\tremaining: 3.85s\n",
      "597:\tlearn: 0.0463276\ttotal: 5.72s\tremaining: 3.85s\n",
      "598:\tlearn: 0.0462592\ttotal: 5.73s\tremaining: 3.83s\n",
      "599:\tlearn: 0.0462504\ttotal: 5.74s\tremaining: 3.82s\n",
      "600:\tlearn: 0.0462159\ttotal: 5.75s\tremaining: 3.81s\n",
      "601:\tlearn: 0.0461234\ttotal: 5.75s\tremaining: 3.8s\n",
      "602:\tlearn: 0.0460777\ttotal: 5.76s\tremaining: 3.79s\n",
      "603:\tlearn: 0.0460694\ttotal: 5.77s\tremaining: 3.79s\n",
      "604:\tlearn: 0.0460219\ttotal: 5.79s\tremaining: 3.78s\n",
      "605:\tlearn: 0.0460140\ttotal: 5.8s\tremaining: 3.77s\n",
      "606:\tlearn: 0.0459259\ttotal: 5.81s\tremaining: 3.76s\n",
      "607:\tlearn: 0.0458777\ttotal: 5.82s\tremaining: 3.75s\n",
      "608:\tlearn: 0.0457939\ttotal: 5.83s\tremaining: 3.74s\n",
      "609:\tlearn: 0.0457401\ttotal: 5.84s\tremaining: 3.73s\n",
      "610:\tlearn: 0.0457305\ttotal: 5.85s\tremaining: 3.72s\n",
      "611:\tlearn: 0.0456955\ttotal: 5.86s\tremaining: 3.71s\n",
      "612:\tlearn: 0.0456159\ttotal: 5.87s\tremaining: 3.7s\n",
      "613:\tlearn: 0.0455920\ttotal: 5.88s\tremaining: 3.69s\n",
      "614:\tlearn: 0.0455425\ttotal: 5.89s\tremaining: 3.69s\n",
      "615:\tlearn: 0.0454848\ttotal: 5.9s\tremaining: 3.67s\n",
      "616:\tlearn: 0.0454416\ttotal: 5.91s\tremaining: 3.67s\n",
      "617:\tlearn: 0.0453871\ttotal: 5.92s\tremaining: 3.66s\n",
      "618:\tlearn: 0.0453455\ttotal: 5.93s\tremaining: 3.65s\n",
      "619:\tlearn: 0.0452708\ttotal: 5.94s\tremaining: 3.64s\n",
      "620:\tlearn: 0.0452384\ttotal: 5.95s\tremaining: 3.63s\n",
      "621:\tlearn: 0.0452300\ttotal: 5.96s\tremaining: 3.62s\n",
      "622:\tlearn: 0.0451779\ttotal: 5.97s\tremaining: 3.61s\n",
      "623:\tlearn: 0.0451358\ttotal: 5.98s\tremaining: 3.6s\n",
      "624:\tlearn: 0.0450745\ttotal: 5.98s\tremaining: 3.59s\n",
      "625:\tlearn: 0.0450215\ttotal: 5.99s\tremaining: 3.58s\n",
      "626:\tlearn: 0.0449582\ttotal: 6s\tremaining: 3.57s\n",
      "627:\tlearn: 0.0449501\ttotal: 6.01s\tremaining: 3.56s\n",
      "628:\tlearn: 0.0449013\ttotal: 6.02s\tremaining: 3.55s\n",
      "629:\tlearn: 0.0448303\ttotal: 6.02s\tremaining: 3.54s\n",
      "630:\tlearn: 0.0447860\ttotal: 6.03s\tremaining: 3.53s\n",
      "631:\tlearn: 0.0447318\ttotal: 6.04s\tremaining: 3.52s\n",
      "632:\tlearn: 0.0447241\ttotal: 6.05s\tremaining: 3.51s\n",
      "633:\tlearn: 0.0446725\ttotal: 6.06s\tremaining: 3.5s\n",
      "634:\tlearn: 0.0446120\ttotal: 6.07s\tremaining: 3.49s\n",
      "635:\tlearn: 0.0445815\ttotal: 6.08s\tremaining: 3.48s\n",
      "636:\tlearn: 0.0445253\ttotal: 6.08s\tremaining: 3.47s\n",
      "637:\tlearn: 0.0445115\ttotal: 6.09s\tremaining: 3.46s\n",
      "638:\tlearn: 0.0444791\ttotal: 6.1s\tremaining: 3.45s\n",
      "639:\tlearn: 0.0444532\ttotal: 6.11s\tremaining: 3.44s\n",
      "640:\tlearn: 0.0444346\ttotal: 6.12s\tremaining: 3.43s\n",
      "641:\tlearn: 0.0444056\ttotal: 6.13s\tremaining: 3.42s\n",
      "642:\tlearn: 0.0443717\ttotal: 6.14s\tremaining: 3.41s\n",
      "643:\tlearn: 0.0443526\ttotal: 6.15s\tremaining: 3.4s\n",
      "644:\tlearn: 0.0443014\ttotal: 6.16s\tremaining: 3.39s\n",
      "645:\tlearn: 0.0442703\ttotal: 6.17s\tremaining: 3.38s\n",
      "646:\tlearn: 0.0442144\ttotal: 6.18s\tremaining: 3.37s\n",
      "647:\tlearn: 0.0441418\ttotal: 6.19s\tremaining: 3.36s\n",
      "648:\tlearn: 0.0441099\ttotal: 6.2s\tremaining: 3.35s\n",
      "649:\tlearn: 0.0440281\ttotal: 6.21s\tremaining: 3.34s\n",
      "650:\tlearn: 0.0439986\ttotal: 6.22s\tremaining: 3.33s\n",
      "651:\tlearn: 0.0439710\ttotal: 6.22s\tremaining: 3.32s\n",
      "652:\tlearn: 0.0439656\ttotal: 6.23s\tremaining: 3.31s\n",
      "653:\tlearn: 0.0439580\ttotal: 6.24s\tremaining: 3.3s\n",
      "654:\tlearn: 0.0439510\ttotal: 6.25s\tremaining: 3.29s\n",
      "655:\tlearn: 0.0439377\ttotal: 6.25s\tremaining: 3.28s\n",
      "656:\tlearn: 0.0439079\ttotal: 6.26s\tremaining: 3.27s\n",
      "657:\tlearn: 0.0438379\ttotal: 6.27s\tremaining: 3.26s\n",
      "658:\tlearn: 0.0437860\ttotal: 6.28s\tremaining: 3.25s\n",
      "659:\tlearn: 0.0437578\ttotal: 6.29s\tremaining: 3.24s\n",
      "660:\tlearn: 0.0437540\ttotal: 6.31s\tremaining: 3.23s\n",
      "661:\tlearn: 0.0436897\ttotal: 6.32s\tremaining: 3.23s\n",
      "662:\tlearn: 0.0436685\ttotal: 6.33s\tremaining: 3.21s\n",
      "663:\tlearn: 0.0436100\ttotal: 6.33s\tremaining: 3.21s\n",
      "664:\tlearn: 0.0435899\ttotal: 6.34s\tremaining: 3.19s\n",
      "665:\tlearn: 0.0435414\ttotal: 6.35s\tremaining: 3.18s\n",
      "666:\tlearn: 0.0434803\ttotal: 6.36s\tremaining: 3.17s\n",
      "667:\tlearn: 0.0434396\ttotal: 6.37s\tremaining: 3.16s\n",
      "668:\tlearn: 0.0433640\ttotal: 6.37s\tremaining: 3.15s\n",
      "669:\tlearn: 0.0433587\ttotal: 6.38s\tremaining: 3.14s\n",
      "670:\tlearn: 0.0433271\ttotal: 6.39s\tremaining: 3.13s\n",
      "671:\tlearn: 0.0432930\ttotal: 6.4s\tremaining: 3.12s\n",
      "672:\tlearn: 0.0432893\ttotal: 6.41s\tremaining: 3.11s\n",
      "673:\tlearn: 0.0432771\ttotal: 6.41s\tremaining: 3.1s\n",
      "674:\tlearn: 0.0432706\ttotal: 6.42s\tremaining: 3.09s\n",
      "675:\tlearn: 0.0432241\ttotal: 6.43s\tremaining: 3.08s\n",
      "676:\tlearn: 0.0431553\ttotal: 6.44s\tremaining: 3.07s\n",
      "677:\tlearn: 0.0431253\ttotal: 6.45s\tremaining: 3.06s\n"
     ]
    },
    {
     "name": "stdout",
     "output_type": "stream",
     "text": [
      "678:\tlearn: 0.0430889\ttotal: 6.46s\tremaining: 3.06s\n",
      "679:\tlearn: 0.0430409\ttotal: 6.47s\tremaining: 3.05s\n",
      "680:\tlearn: 0.0429956\ttotal: 6.48s\tremaining: 3.04s\n",
      "681:\tlearn: 0.0429796\ttotal: 6.49s\tremaining: 3.03s\n",
      "682:\tlearn: 0.0429410\ttotal: 6.5s\tremaining: 3.02s\n",
      "683:\tlearn: 0.0428986\ttotal: 6.51s\tremaining: 3.01s\n",
      "684:\tlearn: 0.0428915\ttotal: 6.52s\tremaining: 3s\n",
      "685:\tlearn: 0.0428847\ttotal: 6.53s\tremaining: 2.99s\n",
      "686:\tlearn: 0.0428330\ttotal: 6.54s\tremaining: 2.98s\n",
      "687:\tlearn: 0.0427781\ttotal: 6.54s\tremaining: 2.97s\n",
      "688:\tlearn: 0.0427309\ttotal: 6.55s\tremaining: 2.96s\n",
      "689:\tlearn: 0.0426931\ttotal: 6.56s\tremaining: 2.95s\n",
      "690:\tlearn: 0.0426502\ttotal: 6.57s\tremaining: 2.94s\n",
      "691:\tlearn: 0.0425865\ttotal: 6.58s\tremaining: 2.93s\n",
      "692:\tlearn: 0.0425830\ttotal: 6.58s\tremaining: 2.92s\n",
      "693:\tlearn: 0.0425505\ttotal: 6.59s\tremaining: 2.91s\n",
      "694:\tlearn: 0.0425292\ttotal: 6.6s\tremaining: 2.9s\n",
      "695:\tlearn: 0.0424810\ttotal: 6.61s\tremaining: 2.89s\n",
      "696:\tlearn: 0.0424544\ttotal: 6.62s\tremaining: 2.88s\n",
      "697:\tlearn: 0.0424087\ttotal: 6.63s\tremaining: 2.87s\n",
      "698:\tlearn: 0.0424044\ttotal: 6.64s\tremaining: 2.86s\n",
      "699:\tlearn: 0.0423442\ttotal: 6.65s\tremaining: 2.85s\n",
      "700:\tlearn: 0.0423353\ttotal: 6.66s\tremaining: 2.84s\n",
      "701:\tlearn: 0.0423071\ttotal: 6.66s\tremaining: 2.83s\n",
      "702:\tlearn: 0.0422757\ttotal: 6.67s\tremaining: 2.82s\n",
      "703:\tlearn: 0.0422302\ttotal: 6.68s\tremaining: 2.81s\n",
      "704:\tlearn: 0.0421810\ttotal: 6.69s\tremaining: 2.8s\n",
      "705:\tlearn: 0.0421411\ttotal: 6.7s\tremaining: 2.79s\n",
      "706:\tlearn: 0.0420983\ttotal: 6.71s\tremaining: 2.78s\n",
      "707:\tlearn: 0.0420526\ttotal: 6.71s\tremaining: 2.77s\n",
      "708:\tlearn: 0.0420011\ttotal: 6.72s\tremaining: 2.76s\n",
      "709:\tlearn: 0.0419742\ttotal: 6.73s\tremaining: 2.75s\n",
      "710:\tlearn: 0.0419567\ttotal: 6.74s\tremaining: 2.74s\n",
      "711:\tlearn: 0.0419191\ttotal: 6.75s\tremaining: 2.73s\n",
      "712:\tlearn: 0.0418837\ttotal: 6.76s\tremaining: 2.72s\n",
      "713:\tlearn: 0.0418261\ttotal: 6.76s\tremaining: 2.71s\n",
      "714:\tlearn: 0.0417898\ttotal: 6.77s\tremaining: 2.7s\n",
      "715:\tlearn: 0.0417288\ttotal: 6.78s\tremaining: 2.69s\n",
      "716:\tlearn: 0.0417179\ttotal: 6.79s\tremaining: 2.68s\n",
      "717:\tlearn: 0.0417129\ttotal: 6.8s\tremaining: 2.67s\n",
      "718:\tlearn: 0.0417049\ttotal: 6.81s\tremaining: 2.66s\n",
      "719:\tlearn: 0.0416449\ttotal: 6.82s\tremaining: 2.65s\n",
      "720:\tlearn: 0.0416371\ttotal: 6.83s\tremaining: 2.64s\n",
      "721:\tlearn: 0.0415915\ttotal: 6.84s\tremaining: 2.63s\n",
      "722:\tlearn: 0.0415876\ttotal: 6.85s\tremaining: 2.62s\n",
      "723:\tlearn: 0.0415800\ttotal: 6.86s\tremaining: 2.61s\n",
      "724:\tlearn: 0.0415709\ttotal: 6.86s\tremaining: 2.6s\n",
      "725:\tlearn: 0.0415376\ttotal: 6.87s\tremaining: 2.59s\n",
      "726:\tlearn: 0.0415338\ttotal: 6.88s\tremaining: 2.58s\n",
      "727:\tlearn: 0.0415264\ttotal: 6.89s\tremaining: 2.57s\n",
      "728:\tlearn: 0.0414799\ttotal: 6.9s\tremaining: 2.56s\n",
      "729:\tlearn: 0.0414728\ttotal: 6.91s\tremaining: 2.55s\n",
      "730:\tlearn: 0.0414191\ttotal: 6.91s\tremaining: 2.54s\n",
      "731:\tlearn: 0.0413872\ttotal: 6.92s\tremaining: 2.53s\n",
      "732:\tlearn: 0.0413713\ttotal: 6.93s\tremaining: 2.52s\n",
      "733:\tlearn: 0.0413327\ttotal: 6.94s\tremaining: 2.51s\n",
      "734:\tlearn: 0.0412622\ttotal: 6.95s\tremaining: 2.5s\n",
      "735:\tlearn: 0.0412182\ttotal: 6.95s\tremaining: 2.49s\n",
      "736:\tlearn: 0.0411872\ttotal: 6.96s\tremaining: 2.48s\n",
      "737:\tlearn: 0.0411214\ttotal: 6.97s\tremaining: 2.47s\n",
      "738:\tlearn: 0.0411145\ttotal: 6.98s\tremaining: 2.46s\n",
      "739:\tlearn: 0.0410443\ttotal: 6.99s\tremaining: 2.46s\n",
      "740:\tlearn: 0.0410355\ttotal: 7s\tremaining: 2.45s\n",
      "741:\tlearn: 0.0410288\ttotal: 7.01s\tremaining: 2.44s\n",
      "742:\tlearn: 0.0410242\ttotal: 7.02s\tremaining: 2.43s\n",
      "743:\tlearn: 0.0409661\ttotal: 7.03s\tremaining: 2.42s\n",
      "744:\tlearn: 0.0408929\ttotal: 7.04s\tremaining: 2.41s\n",
      "745:\tlearn: 0.0408847\ttotal: 7.05s\tremaining: 2.4s\n",
      "746:\tlearn: 0.0408254\ttotal: 7.06s\tremaining: 2.39s\n",
      "747:\tlearn: 0.0407640\ttotal: 7.06s\tremaining: 2.38s\n",
      "748:\tlearn: 0.0407157\ttotal: 7.07s\tremaining: 2.37s\n",
      "749:\tlearn: 0.0406870\ttotal: 7.08s\tremaining: 2.36s\n",
      "750:\tlearn: 0.0406290\ttotal: 7.09s\tremaining: 2.35s\n",
      "751:\tlearn: 0.0405878\ttotal: 7.1s\tremaining: 2.34s\n",
      "752:\tlearn: 0.0405799\ttotal: 7.11s\tremaining: 2.33s\n",
      "753:\tlearn: 0.0405377\ttotal: 7.11s\tremaining: 2.32s\n",
      "754:\tlearn: 0.0405107\ttotal: 7.12s\tremaining: 2.31s\n",
      "755:\tlearn: 0.0405064\ttotal: 7.13s\tremaining: 2.3s\n",
      "756:\tlearn: 0.0404910\ttotal: 7.14s\tremaining: 2.29s\n",
      "757:\tlearn: 0.0404311\ttotal: 7.14s\tremaining: 2.28s\n",
      "758:\tlearn: 0.0403888\ttotal: 7.16s\tremaining: 2.27s\n",
      "759:\tlearn: 0.0403487\ttotal: 7.17s\tremaining: 2.26s\n",
      "760:\tlearn: 0.0403444\ttotal: 7.18s\tremaining: 2.25s\n",
      "761:\tlearn: 0.0403403\ttotal: 7.19s\tremaining: 2.24s\n",
      "762:\tlearn: 0.0402938\ttotal: 7.2s\tremaining: 2.23s\n",
      "763:\tlearn: 0.0402259\ttotal: 7.2s\tremaining: 2.23s\n",
      "764:\tlearn: 0.0401870\ttotal: 7.21s\tremaining: 2.21s\n",
      "765:\tlearn: 0.0401426\ttotal: 7.22s\tremaining: 2.21s\n",
      "766:\tlearn: 0.0401172\ttotal: 7.23s\tremaining: 2.19s\n",
      "767:\tlearn: 0.0400792\ttotal: 7.24s\tremaining: 2.19s\n",
      "768:\tlearn: 0.0400383\ttotal: 7.24s\tremaining: 2.17s\n",
      "769:\tlearn: 0.0400028\ttotal: 7.25s\tremaining: 2.17s\n",
      "770:\tlearn: 0.0399393\ttotal: 7.26s\tremaining: 2.16s\n",
      "771:\tlearn: 0.0399006\ttotal: 7.27s\tremaining: 2.15s\n",
      "772:\tlearn: 0.0398567\ttotal: 7.28s\tremaining: 2.14s\n",
      "773:\tlearn: 0.0398150\ttotal: 7.28s\tremaining: 2.13s\n",
      "774:\tlearn: 0.0397736\ttotal: 7.29s\tremaining: 2.12s\n",
      "775:\tlearn: 0.0397567\ttotal: 7.3s\tremaining: 2.11s\n",
      "776:\tlearn: 0.0397528\ttotal: 7.31s\tremaining: 2.1s\n",
      "777:\tlearn: 0.0396929\ttotal: 7.33s\tremaining: 2.09s\n",
      "778:\tlearn: 0.0396705\ttotal: 7.34s\tremaining: 2.08s\n",
      "779:\tlearn: 0.0396409\ttotal: 7.35s\tremaining: 2.07s\n",
      "780:\tlearn: 0.0396008\ttotal: 7.36s\tremaining: 2.06s\n",
      "781:\tlearn: 0.0395676\ttotal: 7.37s\tremaining: 2.06s\n",
      "782:\tlearn: 0.0395402\ttotal: 7.38s\tremaining: 2.05s\n",
      "783:\tlearn: 0.0394866\ttotal: 7.39s\tremaining: 2.04s\n",
      "784:\tlearn: 0.0394510\ttotal: 7.4s\tremaining: 2.03s\n",
      "785:\tlearn: 0.0394403\ttotal: 7.41s\tremaining: 2.02s\n",
      "786:\tlearn: 0.0393891\ttotal: 7.42s\tremaining: 2.01s\n",
      "787:\tlearn: 0.0393825\ttotal: 7.42s\tremaining: 2s\n",
      "788:\tlearn: 0.0393786\ttotal: 7.43s\tremaining: 1.99s\n",
      "789:\tlearn: 0.0393575\ttotal: 7.44s\tremaining: 1.98s\n",
      "790:\tlearn: 0.0393207\ttotal: 7.45s\tremaining: 1.97s\n",
      "791:\tlearn: 0.0393131\ttotal: 7.46s\tremaining: 1.96s\n",
      "792:\tlearn: 0.0393113\ttotal: 7.46s\tremaining: 1.95s\n",
      "793:\tlearn: 0.0392645\ttotal: 7.47s\tremaining: 1.94s\n",
      "794:\tlearn: 0.0392251\ttotal: 7.48s\tremaining: 1.93s\n",
      "795:\tlearn: 0.0391854\ttotal: 7.49s\tremaining: 1.92s\n",
      "796:\tlearn: 0.0391406\ttotal: 7.49s\tremaining: 1.91s\n",
      "797:\tlearn: 0.0390840\ttotal: 7.5s\tremaining: 1.9s\n",
      "798:\tlearn: 0.0390392\ttotal: 7.51s\tremaining: 1.89s\n",
      "799:\tlearn: 0.0390156\ttotal: 7.52s\tremaining: 1.88s\n",
      "800:\tlearn: 0.0389754\ttotal: 7.53s\tremaining: 1.87s\n",
      "801:\tlearn: 0.0389351\ttotal: 7.54s\tremaining: 1.86s\n",
      "802:\tlearn: 0.0389276\ttotal: 7.55s\tremaining: 1.85s\n",
      "803:\tlearn: 0.0389081\ttotal: 7.56s\tremaining: 1.84s\n",
      "804:\tlearn: 0.0388771\ttotal: 7.57s\tremaining: 1.83s\n",
      "805:\tlearn: 0.0388754\ttotal: 7.57s\tremaining: 1.82s\n",
      "806:\tlearn: 0.0388680\ttotal: 7.58s\tremaining: 1.81s\n",
      "807:\tlearn: 0.0388194\ttotal: 7.59s\tremaining: 1.8s\n",
      "808:\tlearn: 0.0387901\ttotal: 7.6s\tremaining: 1.79s\n",
      "809:\tlearn: 0.0387676\ttotal: 7.61s\tremaining: 1.78s\n",
      "810:\tlearn: 0.0387314\ttotal: 7.61s\tremaining: 1.77s\n",
      "811:\tlearn: 0.0386766\ttotal: 7.62s\tremaining: 1.76s\n",
      "812:\tlearn: 0.0386450\ttotal: 7.63s\tremaining: 1.75s\n",
      "813:\tlearn: 0.0386350\ttotal: 7.64s\tremaining: 1.75s\n",
      "814:\tlearn: 0.0386057\ttotal: 7.64s\tremaining: 1.74s\n",
      "815:\tlearn: 0.0385984\ttotal: 7.65s\tremaining: 1.73s\n",
      "816:\tlearn: 0.0385643\ttotal: 7.66s\tremaining: 1.72s\n",
      "817:\tlearn: 0.0385157\ttotal: 7.67s\tremaining: 1.71s\n",
      "818:\tlearn: 0.0384812\ttotal: 7.68s\tremaining: 1.7s\n",
      "819:\tlearn: 0.0384545\ttotal: 7.7s\tremaining: 1.69s\n",
      "820:\tlearn: 0.0384367\ttotal: 7.71s\tremaining: 1.68s\n",
      "821:\tlearn: 0.0384021\ttotal: 7.72s\tremaining: 1.67s\n",
      "822:\tlearn: 0.0383949\ttotal: 7.73s\tremaining: 1.66s\n",
      "823:\tlearn: 0.0383878\ttotal: 7.74s\tremaining: 1.65s\n",
      "824:\tlearn: 0.0383611\ttotal: 7.74s\tremaining: 1.64s\n",
      "825:\tlearn: 0.0383562\ttotal: 7.75s\tremaining: 1.63s\n",
      "826:\tlearn: 0.0383491\ttotal: 7.76s\tremaining: 1.62s\n",
      "827:\tlearn: 0.0383423\ttotal: 7.76s\tremaining: 1.61s\n",
      "828:\tlearn: 0.0383349\ttotal: 7.77s\tremaining: 1.6s\n",
      "829:\tlearn: 0.0383096\ttotal: 7.78s\tremaining: 1.59s\n",
      "830:\tlearn: 0.0383026\ttotal: 7.79s\tremaining: 1.58s\n",
      "831:\tlearn: 0.0382953\ttotal: 7.79s\tremaining: 1.57s\n",
      "832:\tlearn: 0.0382571\ttotal: 7.8s\tremaining: 1.56s\n",
      "833:\tlearn: 0.0382500\ttotal: 7.81s\tremaining: 1.55s\n",
      "834:\tlearn: 0.0382429\ttotal: 7.82s\tremaining: 1.54s\n",
      "835:\tlearn: 0.0382127\ttotal: 7.83s\tremaining: 1.53s\n",
      "836:\tlearn: 0.0381912\ttotal: 7.84s\tremaining: 1.53s\n"
     ]
    },
    {
     "name": "stdout",
     "output_type": "stream",
     "text": [
      "837:\tlearn: 0.0381896\ttotal: 7.85s\tremaining: 1.52s\n",
      "838:\tlearn: 0.0381827\ttotal: 7.86s\tremaining: 1.51s\n",
      "839:\tlearn: 0.0381435\ttotal: 7.87s\tremaining: 1.5s\n",
      "840:\tlearn: 0.0380810\ttotal: 7.88s\tremaining: 1.49s\n",
      "841:\tlearn: 0.0380490\ttotal: 7.89s\tremaining: 1.48s\n",
      "842:\tlearn: 0.0380026\ttotal: 7.9s\tremaining: 1.47s\n",
      "843:\tlearn: 0.0379701\ttotal: 7.91s\tremaining: 1.46s\n",
      "844:\tlearn: 0.0379633\ttotal: 7.92s\tremaining: 1.45s\n",
      "845:\tlearn: 0.0379567\ttotal: 7.92s\tremaining: 1.44s\n",
      "846:\tlearn: 0.0379255\ttotal: 7.93s\tremaining: 1.43s\n",
      "847:\tlearn: 0.0378949\ttotal: 7.94s\tremaining: 1.42s\n",
      "848:\tlearn: 0.0378297\ttotal: 7.95s\tremaining: 1.41s\n",
      "849:\tlearn: 0.0378238\ttotal: 7.96s\tremaining: 1.4s\n",
      "850:\tlearn: 0.0378205\ttotal: 7.96s\tremaining: 1.39s\n",
      "851:\tlearn: 0.0377850\ttotal: 7.97s\tremaining: 1.38s\n",
      "852:\tlearn: 0.0377793\ttotal: 7.98s\tremaining: 1.38s\n",
      "853:\tlearn: 0.0377626\ttotal: 7.99s\tremaining: 1.37s\n",
      "854:\tlearn: 0.0377267\ttotal: 8s\tremaining: 1.36s\n",
      "855:\tlearn: 0.0376975\ttotal: 8.01s\tremaining: 1.35s\n",
      "856:\tlearn: 0.0376828\ttotal: 8.02s\tremaining: 1.34s\n",
      "857:\tlearn: 0.0376765\ttotal: 8.03s\tremaining: 1.33s\n",
      "858:\tlearn: 0.0376703\ttotal: 8.04s\tremaining: 1.32s\n",
      "859:\tlearn: 0.0376669\ttotal: 8.05s\tremaining: 1.31s\n",
      "860:\tlearn: 0.0376364\ttotal: 8.06s\tremaining: 1.3s\n",
      "861:\tlearn: 0.0376303\ttotal: 8.07s\tremaining: 1.29s\n",
      "862:\tlearn: 0.0375859\ttotal: 8.07s\tremaining: 1.28s\n",
      "863:\tlearn: 0.0375434\ttotal: 8.08s\tremaining: 1.27s\n",
      "864:\tlearn: 0.0375251\ttotal: 8.09s\tremaining: 1.26s\n",
      "865:\tlearn: 0.0375132\ttotal: 8.1s\tremaining: 1.25s\n",
      "866:\tlearn: 0.0375099\ttotal: 8.11s\tremaining: 1.24s\n",
      "867:\tlearn: 0.0374887\ttotal: 8.12s\tremaining: 1.23s\n",
      "868:\tlearn: 0.0374828\ttotal: 8.12s\tremaining: 1.22s\n",
      "869:\tlearn: 0.0374550\ttotal: 8.13s\tremaining: 1.22s\n",
      "870:\tlearn: 0.0374491\ttotal: 8.14s\tremaining: 1.21s\n",
      "871:\tlearn: 0.0374055\ttotal: 8.15s\tremaining: 1.2s\n",
      "872:\tlearn: 0.0373806\ttotal: 8.16s\tremaining: 1.19s\n",
      "873:\tlearn: 0.0373774\ttotal: 8.16s\tremaining: 1.18s\n",
      "874:\tlearn: 0.0373743\ttotal: 8.17s\tremaining: 1.17s\n",
      "875:\tlearn: 0.0373435\ttotal: 8.18s\tremaining: 1.16s\n",
      "876:\tlearn: 0.0373073\ttotal: 8.19s\tremaining: 1.15s\n",
      "877:\tlearn: 0.0372467\ttotal: 8.2s\tremaining: 1.14s\n",
      "878:\tlearn: 0.0372128\ttotal: 8.21s\tremaining: 1.13s\n",
      "879:\tlearn: 0.0372088\ttotal: 8.22s\tremaining: 1.12s\n",
      "880:\tlearn: 0.0371632\ttotal: 8.23s\tremaining: 1.11s\n",
      "881:\tlearn: 0.0371204\ttotal: 8.23s\tremaining: 1.1s\n",
      "882:\tlearn: 0.0371031\ttotal: 8.24s\tremaining: 1.09s\n",
      "883:\tlearn: 0.0370959\ttotal: 8.25s\tremaining: 1.08s\n",
      "884:\tlearn: 0.0370563\ttotal: 8.26s\tremaining: 1.07s\n",
      "885:\tlearn: 0.0370279\ttotal: 8.27s\tremaining: 1.06s\n",
      "886:\tlearn: 0.0369979\ttotal: 8.28s\tremaining: 1.05s\n",
      "887:\tlearn: 0.0369926\ttotal: 8.29s\tremaining: 1.04s\n",
      "888:\tlearn: 0.0369798\ttotal: 8.3s\tremaining: 1.04s\n",
      "889:\tlearn: 0.0369311\ttotal: 8.31s\tremaining: 1.03s\n",
      "890:\tlearn: 0.0368798\ttotal: 8.32s\tremaining: 1.02s\n",
      "891:\tlearn: 0.0368446\ttotal: 8.33s\tremaining: 1.01s\n",
      "892:\tlearn: 0.0368416\ttotal: 8.34s\tremaining: 999ms\n",
      "893:\tlearn: 0.0368348\ttotal: 8.35s\tremaining: 990ms\n",
      "894:\tlearn: 0.0368193\ttotal: 8.35s\tremaining: 980ms\n",
      "895:\tlearn: 0.0368080\ttotal: 8.36s\tremaining: 971ms\n",
      "896:\tlearn: 0.0367795\ttotal: 8.37s\tremaining: 961ms\n",
      "897:\tlearn: 0.0367446\ttotal: 8.38s\tremaining: 952ms\n",
      "898:\tlearn: 0.0367141\ttotal: 8.39s\tremaining: 943ms\n",
      "899:\tlearn: 0.0366982\ttotal: 8.4s\tremaining: 934ms\n",
      "900:\tlearn: 0.0366696\ttotal: 8.41s\tremaining: 924ms\n",
      "901:\tlearn: 0.0366275\ttotal: 8.42s\tremaining: 915ms\n",
      "902:\tlearn: 0.0365843\ttotal: 8.43s\tremaining: 905ms\n",
      "903:\tlearn: 0.0364964\ttotal: 8.44s\tremaining: 896ms\n",
      "904:\tlearn: 0.0364929\ttotal: 8.44s\tremaining: 886ms\n",
      "905:\tlearn: 0.0364900\ttotal: 8.45s\tremaining: 877ms\n",
      "906:\tlearn: 0.0364590\ttotal: 8.46s\tremaining: 867ms\n",
      "907:\tlearn: 0.0364370\ttotal: 8.47s\tremaining: 858ms\n",
      "908:\tlearn: 0.0363937\ttotal: 8.47s\tremaining: 848ms\n",
      "909:\tlearn: 0.0363909\ttotal: 8.48s\tremaining: 839ms\n",
      "910:\tlearn: 0.0363845\ttotal: 8.49s\tremaining: 829ms\n",
      "911:\tlearn: 0.0363692\ttotal: 8.5s\tremaining: 820ms\n",
      "912:\tlearn: 0.0363209\ttotal: 8.51s\tremaining: 810ms\n",
      "913:\tlearn: 0.0362800\ttotal: 8.51s\tremaining: 801ms\n",
      "914:\tlearn: 0.0362523\ttotal: 8.52s\tremaining: 792ms\n",
      "915:\tlearn: 0.0362472\ttotal: 8.54s\tremaining: 783ms\n",
      "916:\tlearn: 0.0361880\ttotal: 8.55s\tremaining: 774ms\n",
      "917:\tlearn: 0.0361487\ttotal: 8.57s\tremaining: 765ms\n",
      "918:\tlearn: 0.0361213\ttotal: 8.58s\tremaining: 756ms\n",
      "919:\tlearn: 0.0361114\ttotal: 8.59s\tremaining: 747ms\n",
      "920:\tlearn: 0.0361032\ttotal: 8.6s\tremaining: 738ms\n",
      "921:\tlearn: 0.0361003\ttotal: 8.61s\tremaining: 728ms\n",
      "922:\tlearn: 0.0360605\ttotal: 8.62s\tremaining: 719ms\n",
      "923:\tlearn: 0.0360263\ttotal: 8.62s\tremaining: 709ms\n",
      "924:\tlearn: 0.0359988\ttotal: 8.63s\tremaining: 700ms\n",
      "925:\tlearn: 0.0359937\ttotal: 8.64s\tremaining: 690ms\n",
      "926:\tlearn: 0.0359707\ttotal: 8.65s\tremaining: 681ms\n",
      "927:\tlearn: 0.0359381\ttotal: 8.65s\tremaining: 671ms\n",
      "928:\tlearn: 0.0359056\ttotal: 8.66s\tremaining: 662ms\n",
      "929:\tlearn: 0.0358774\ttotal: 8.67s\tremaining: 653ms\n",
      "930:\tlearn: 0.0358316\ttotal: 8.68s\tremaining: 643ms\n",
      "931:\tlearn: 0.0358221\ttotal: 8.69s\tremaining: 634ms\n",
      "932:\tlearn: 0.0357672\ttotal: 8.69s\tremaining: 624ms\n",
      "933:\tlearn: 0.0357624\ttotal: 8.7s\tremaining: 615ms\n",
      "934:\tlearn: 0.0357373\ttotal: 8.71s\tremaining: 605ms\n",
      "935:\tlearn: 0.0356897\ttotal: 8.72s\tremaining: 596ms\n",
      "936:\tlearn: 0.0356345\ttotal: 8.73s\tremaining: 587ms\n",
      "937:\tlearn: 0.0355880\ttotal: 8.74s\tremaining: 578ms\n",
      "938:\tlearn: 0.0355400\ttotal: 8.75s\tremaining: 568ms\n",
      "939:\tlearn: 0.0355053\ttotal: 8.76s\tremaining: 559ms\n",
      "940:\tlearn: 0.0355005\ttotal: 8.77s\tremaining: 550ms\n",
      "941:\tlearn: 0.0354737\ttotal: 8.77s\tremaining: 540ms\n",
      "942:\tlearn: 0.0354414\ttotal: 8.78s\tremaining: 531ms\n",
      "943:\tlearn: 0.0354122\ttotal: 8.79s\tremaining: 521ms\n",
      "944:\tlearn: 0.0353715\ttotal: 8.8s\tremaining: 512ms\n",
      "945:\tlearn: 0.0353670\ttotal: 8.8s\tremaining: 503ms\n",
      "946:\tlearn: 0.0353643\ttotal: 8.81s\tremaining: 493ms\n",
      "947:\tlearn: 0.0353284\ttotal: 8.82s\tremaining: 484ms\n",
      "948:\tlearn: 0.0353161\ttotal: 8.83s\tremaining: 474ms\n",
      "949:\tlearn: 0.0353115\ttotal: 8.84s\tremaining: 465ms\n",
      "950:\tlearn: 0.0352789\ttotal: 8.85s\tremaining: 456ms\n",
      "951:\tlearn: 0.0352369\ttotal: 8.85s\tremaining: 446ms\n",
      "952:\tlearn: 0.0352179\ttotal: 8.86s\tremaining: 437ms\n",
      "953:\tlearn: 0.0352146\ttotal: 8.87s\tremaining: 428ms\n",
      "954:\tlearn: 0.0352114\ttotal: 8.88s\tremaining: 418ms\n",
      "955:\tlearn: 0.0351805\ttotal: 8.89s\tremaining: 409ms\n",
      "956:\tlearn: 0.0351761\ttotal: 8.91s\tremaining: 400ms\n",
      "957:\tlearn: 0.0351642\ttotal: 8.92s\tremaining: 391ms\n",
      "958:\tlearn: 0.0351600\ttotal: 8.92s\tremaining: 382ms\n",
      "959:\tlearn: 0.0351510\ttotal: 8.93s\tremaining: 372ms\n",
      "960:\tlearn: 0.0350997\ttotal: 8.94s\tremaining: 363ms\n",
      "961:\tlearn: 0.0350701\ttotal: 8.95s\tremaining: 354ms\n",
      "962:\tlearn: 0.0350426\ttotal: 8.96s\tremaining: 344ms\n",
      "963:\tlearn: 0.0350220\ttotal: 8.97s\tremaining: 335ms\n",
      "964:\tlearn: 0.0349899\ttotal: 8.98s\tremaining: 326ms\n",
      "965:\tlearn: 0.0349718\ttotal: 8.99s\tremaining: 316ms\n",
      "966:\tlearn: 0.0349686\ttotal: 9s\tremaining: 307ms\n",
      "967:\tlearn: 0.0349397\ttotal: 9.01s\tremaining: 298ms\n",
      "968:\tlearn: 0.0349178\ttotal: 9.02s\tremaining: 288ms\n",
      "969:\tlearn: 0.0348809\ttotal: 9.02s\tremaining: 279ms\n",
      "970:\tlearn: 0.0348203\ttotal: 9.03s\tremaining: 270ms\n",
      "971:\tlearn: 0.0348162\ttotal: 9.04s\tremaining: 260ms\n",
      "972:\tlearn: 0.0347991\ttotal: 9.04s\tremaining: 251ms\n",
      "973:\tlearn: 0.0347717\ttotal: 9.05s\tremaining: 242ms\n",
      "974:\tlearn: 0.0347687\ttotal: 9.06s\tremaining: 232ms\n",
      "975:\tlearn: 0.0347388\ttotal: 9.07s\tremaining: 223ms\n",
      "976:\tlearn: 0.0347030\ttotal: 9.09s\tremaining: 214ms\n",
      "977:\tlearn: 0.0346995\ttotal: 9.1s\tremaining: 205ms\n",
      "978:\tlearn: 0.0346940\ttotal: 9.11s\tremaining: 195ms\n",
      "979:\tlearn: 0.0346674\ttotal: 9.12s\tremaining: 186ms\n",
      "980:\tlearn: 0.0346281\ttotal: 9.12s\tremaining: 177ms\n",
      "981:\tlearn: 0.0346043\ttotal: 9.13s\tremaining: 167ms\n",
      "982:\tlearn: 0.0345730\ttotal: 9.14s\tremaining: 158ms\n",
      "983:\tlearn: 0.0345393\ttotal: 9.15s\tremaining: 149ms\n",
      "984:\tlearn: 0.0345175\ttotal: 9.16s\tremaining: 139ms\n",
      "985:\tlearn: 0.0345037\ttotal: 9.16s\tremaining: 130ms\n",
      "986:\tlearn: 0.0344726\ttotal: 9.17s\tremaining: 121ms\n",
      "987:\tlearn: 0.0344494\ttotal: 9.18s\tremaining: 112ms\n",
      "988:\tlearn: 0.0344464\ttotal: 9.19s\tremaining: 102ms\n",
      "989:\tlearn: 0.0344254\ttotal: 9.2s\tremaining: 92.9ms\n",
      "990:\tlearn: 0.0344200\ttotal: 9.2s\tremaining: 83.6ms\n",
      "991:\tlearn: 0.0343768\ttotal: 9.21s\tremaining: 74.3ms\n",
      "992:\tlearn: 0.0343548\ttotal: 9.23s\tremaining: 65.1ms\n",
      "993:\tlearn: 0.0343256\ttotal: 9.24s\tremaining: 55.8ms\n",
      "994:\tlearn: 0.0343151\ttotal: 9.25s\tremaining: 46.5ms\n",
      "995:\tlearn: 0.0343062\ttotal: 9.26s\tremaining: 37.2ms\n",
      "996:\tlearn: 0.0343028\ttotal: 9.28s\tremaining: 27.9ms\n",
      "997:\tlearn: 0.0342795\ttotal: 9.28s\tremaining: 18.6ms\n",
      "998:\tlearn: 0.0342337\ttotal: 9.29s\tremaining: 9.3ms\n",
      "999:\tlearn: 0.0342304\ttotal: 9.31s\tremaining: 0us\n"
     ]
    },
    {
     "data": {
      "text/plain": [
       "<catboost.core.CatBoostClassifier at 0x285be888f10>"
      ]
     },
     "execution_count": 132,
     "metadata": {},
     "output_type": "execute_result"
    }
   ],
   "source": [
    "model3.fit(X_train, y_train)"
   ]
  },
  {
   "cell_type": "code",
   "execution_count": 133,
   "metadata": {},
   "outputs": [
    {
     "name": "stderr",
     "output_type": "stream",
     "text": [
      "<ipython-input-133-e1373b20bd5a>:1: DataConversionWarning: A column-vector y was passed when a 1d array was expected. Please change the shape of y to (n_samples,), for example using ravel().\n",
      "  model4.fit(X_train, y_train)\n"
     ]
    },
    {
     "data": {
      "text/plain": [
       "RandomForestClassifier()"
      ]
     },
     "execution_count": 133,
     "metadata": {},
     "output_type": "execute_result"
    }
   ],
   "source": [
    "model4.fit(X_train, y_train)"
   ]
  },
  {
   "cell_type": "code",
   "execution_count": 134,
   "metadata": {},
   "outputs": [
    {
     "name": "stderr",
     "output_type": "stream",
     "text": [
      "<ipython-input-134-22bcca698d6e>:1: DataConversionWarning: A column-vector y was passed when a 1d array was expected. Please change the shape of y to (n_samples,), for example using ravel().\n",
      "  model5.fit(X_train, y_train)\n"
     ]
    },
    {
     "data": {
      "text/plain": [
       "RandomForestClassifier(max_depth=8, n_estimators=20)"
      ]
     },
     "execution_count": 134,
     "metadata": {},
     "output_type": "execute_result"
    }
   ],
   "source": [
    "model5.fit(X_train, y_train)"
   ]
  },
  {
   "cell_type": "code",
   "execution_count": 135,
   "metadata": {
    "id": "_UFpx06Mp7Wy"
   },
   "outputs": [
    {
     "data": {
      "text/plain": [
       "DecisionTreeClassifier()"
      ]
     },
     "execution_count": 135,
     "metadata": {},
     "output_type": "execute_result"
    }
   ],
   "source": [
    "# Agregabdo un clasificador de arbol simple\n",
    "from sklearn.tree import DecisionTreeClassifier\n",
    "\n",
    "model6 = DecisionTreeClassifier()\n",
    "model6.fit(X_train, y_train)"
   ]
  },
  {
   "cell_type": "code",
   "execution_count": 136,
   "metadata": {},
   "outputs": [
    {
     "data": {
      "text/plain": [
       "'0.23.2'"
      ]
     },
     "execution_count": 136,
     "metadata": {},
     "output_type": "execute_result"
    }
   ],
   "source": [
    "import sklearn\n",
    "sklearn.__version__"
   ]
  },
  {
   "cell_type": "code",
   "execution_count": 137,
   "metadata": {
    "colab": {
     "base_uri": "https://localhost:8080/"
    },
    "id": "SWLcxXcmoOFr",
    "outputId": "4650c982-b9cf-473d-9439-cc6175b12425"
   },
   "outputs": [],
   "source": [
    "from sklearn.metrics import classification_report\n",
    "\n",
    "pred1 = model1.predict(X_test)\n",
    "pred2 = model2.predict(X_test)\n",
    "pred3 = model3.predict(X_test)\n",
    "pred4 = model4.predict(X_test)\n",
    "pred5 = model5.predict(X_test)\n",
    "pred6 = model6.predict(X_test)"
   ]
  },
  {
   "cell_type": "code",
   "execution_count": 138,
   "metadata": {},
   "outputs": [
    {
     "data": {
      "text/plain": [
       "array([1., 0., 0., ..., 0., 0., 0.])"
      ]
     },
     "execution_count": 138,
     "metadata": {},
     "output_type": "execute_result"
    }
   ],
   "source": [
    "pred1"
   ]
  },
  {
   "cell_type": "code",
   "execution_count": 165,
   "metadata": {},
   "outputs": [
    {
     "data": {
      "text/plain": [
       "array([[4476,   44],\n",
       "       [ 101,  411]], dtype=int64)"
      ]
     },
     "execution_count": 165,
     "metadata": {},
     "output_type": "execute_result"
    }
   ],
   "source": [
    "from sklearn.metrics import confusion_matrix\n",
    "confusion_matrix(y_test, pred1)"
   ]
  },
  {
   "cell_type": "code",
   "execution_count": 154,
   "metadata": {},
   "outputs": [
    {
     "name": "stdout",
     "output_type": "stream",
     "text": [
      "              precision    recall  f1-score   support\n",
      "\n",
      "         0.0       0.98      0.99      0.98      4520\n",
      "         1.0       0.90      0.80      0.85       512\n",
      "\n",
      "    accuracy                           0.97      5032\n",
      "   macro avg       0.94      0.90      0.92      5032\n",
      "weighted avg       0.97      0.97      0.97      5032\n",
      "\n"
     ]
    }
   ],
   "source": [
    "print(classification_report(y_test,pred1))"
   ]
  },
  {
   "cell_type": "code",
   "execution_count": 155,
   "metadata": {},
   "outputs": [
    {
     "name": "stdout",
     "output_type": "stream",
     "text": [
      "              precision    recall  f1-score   support\n",
      "\n",
      "         0.0       0.97      0.99      0.98      4520\n",
      "         1.0       0.91      0.72      0.80       512\n",
      "\n",
      "    accuracy                           0.96      5032\n",
      "   macro avg       0.94      0.85      0.89      5032\n",
      "weighted avg       0.96      0.96      0.96      5032\n",
      "\n"
     ]
    }
   ],
   "source": [
    "print(classification_report(y_test,pred2))"
   ]
  },
  {
   "cell_type": "code",
   "execution_count": 156,
   "metadata": {},
   "outputs": [
    {
     "name": "stdout",
     "output_type": "stream",
     "text": [
      "              precision    recall  f1-score   support\n",
      "\n",
      "         0.0       0.98      0.99      0.98      4520\n",
      "         1.0       0.92      0.78      0.85       512\n",
      "\n",
      "    accuracy                           0.97      5032\n",
      "   macro avg       0.95      0.89      0.92      5032\n",
      "weighted avg       0.97      0.97      0.97      5032\n",
      "\n"
     ]
    }
   ],
   "source": [
    "print(classification_report(y_test,pred3))"
   ]
  },
  {
   "cell_type": "code",
   "execution_count": 157,
   "metadata": {},
   "outputs": [
    {
     "name": "stdout",
     "output_type": "stream",
     "text": [
      "              precision    recall  f1-score   support\n",
      "\n",
      "         0.0       0.98      0.99      0.98      4520\n",
      "         1.0       0.92      0.79      0.85       512\n",
      "\n",
      "    accuracy                           0.97      5032\n",
      "   macro avg       0.95      0.89      0.92      5032\n",
      "weighted avg       0.97      0.97      0.97      5032\n",
      "\n"
     ]
    }
   ],
   "source": [
    "print(classification_report(y_test,pred4))"
   ]
  },
  {
   "cell_type": "code",
   "execution_count": 158,
   "metadata": {},
   "outputs": [
    {
     "name": "stdout",
     "output_type": "stream",
     "text": [
      "              precision    recall  f1-score   support\n",
      "\n",
      "         0.0       0.97      1.00      0.98      4520\n",
      "         1.0       0.96      0.69      0.81       512\n",
      "\n",
      "    accuracy                           0.97      5032\n",
      "   macro avg       0.96      0.85      0.89      5032\n",
      "weighted avg       0.97      0.97      0.96      5032\n",
      "\n"
     ]
    }
   ],
   "source": [
    "print(classification_report(y_test,pred5))"
   ]
  },
  {
   "cell_type": "code",
   "execution_count": 159,
   "metadata": {},
   "outputs": [
    {
     "name": "stdout",
     "output_type": "stream",
     "text": [
      "              precision    recall  f1-score   support\n",
      "\n",
      "         0.0       0.98      0.98      0.98      4520\n",
      "         1.0       0.81      0.79      0.80       512\n",
      "\n",
      "    accuracy                           0.96      5032\n",
      "   macro avg       0.89      0.89      0.89      5032\n",
      "weighted avg       0.96      0.96      0.96      5032\n",
      "\n"
     ]
    }
   ],
   "source": [
    "print(classification_report(y_test,pred6))"
   ]
  },
  {
   "cell_type": "code",
   "execution_count": 160,
   "metadata": {},
   "outputs": [],
   "source": [
    "df = pd.DataFrame({'algorithm' : ['XGBoost','XGBoost Tuneado','Catboost','RF','RF Tuneado','Arbol de Decision'],\n",
    "                   'precision' : [0.90, 0.91, 0.92,0.92,0.96,0.81],\n",
    "                   'recall' : [0.80, 0.72, 0.78,0.79,0.69,0.79]})"
   ]
  },
  {
   "cell_type": "code",
   "execution_count": 95,
   "metadata": {},
   "outputs": [
    {
     "data": {
      "text/html": [
       "<div>\n",
       "<style scoped>\n",
       "    .dataframe tbody tr th:only-of-type {\n",
       "        vertical-align: middle;\n",
       "    }\n",
       "\n",
       "    .dataframe tbody tr th {\n",
       "        vertical-align: top;\n",
       "    }\n",
       "\n",
       "    .dataframe thead th {\n",
       "        text-align: right;\n",
       "    }\n",
       "</style>\n",
       "<table border=\"1\" class=\"dataframe\">\n",
       "  <thead>\n",
       "    <tr style=\"text-align: right;\">\n",
       "      <th></th>\n",
       "      <th>algorithm</th>\n",
       "      <th>precision</th>\n",
       "      <th>recall</th>\n",
       "    </tr>\n",
       "  </thead>\n",
       "  <tbody>\n",
       "    <tr>\n",
       "      <th>0</th>\n",
       "      <td>XGBoost</td>\n",
       "      <td>0.90</td>\n",
       "      <td>0.80</td>\n",
       "    </tr>\n",
       "    <tr>\n",
       "      <th>1</th>\n",
       "      <td>XGBoost Tuneado</td>\n",
       "      <td>0.91</td>\n",
       "      <td>0.72</td>\n",
       "    </tr>\n",
       "    <tr>\n",
       "      <th>2</th>\n",
       "      <td>Catboost</td>\n",
       "      <td>0.92</td>\n",
       "      <td>0.78</td>\n",
       "    </tr>\n",
       "    <tr>\n",
       "      <th>3</th>\n",
       "      <td>RF</td>\n",
       "      <td>0.92</td>\n",
       "      <td>0.77</td>\n",
       "    </tr>\n",
       "    <tr>\n",
       "      <th>4</th>\n",
       "      <td>RF Tuneado</td>\n",
       "      <td>0.95</td>\n",
       "      <td>0.71</td>\n",
       "    </tr>\n",
       "    <tr>\n",
       "      <th>5</th>\n",
       "      <td>Arbol de Decision</td>\n",
       "      <td>0.82</td>\n",
       "      <td>0.78</td>\n",
       "    </tr>\n",
       "  </tbody>\n",
       "</table>\n",
       "</div>"
      ],
      "text/plain": [
       "           algorithm  precision  recall\n",
       "0            XGBoost       0.90    0.80\n",
       "1    XGBoost Tuneado       0.91    0.72\n",
       "2           Catboost       0.92    0.78\n",
       "3                 RF       0.92    0.77\n",
       "4         RF Tuneado       0.95    0.71\n",
       "5  Arbol de Decision       0.82    0.78"
      ]
     },
     "execution_count": 95,
     "metadata": {},
     "output_type": "execute_result"
    }
   ],
   "source": [
    "df"
   ]
  },
  {
   "cell_type": "code",
   "execution_count": 161,
   "metadata": {
    "colab": {
     "base_uri": "https://localhost:8080/"
    },
    "id": "morZL1L6o_Ic",
    "outputId": "ab7fa081-76e4-4d19-9ca9-fbdeba845baf"
   },
   "outputs": [
    {
     "name": "stdout",
     "output_type": "stream",
     "text": [
      "Accuracy for model 1: 97.12\n",
      "Accuracy for model 2: 96.38\n",
      "Accuracy for model 3: 97.12\n",
      "Accuracy for model 4: 97.14\n",
      "Accuracy for model 5: 96.60\n",
      "Accuracy for model 6: 96.05\n"
     ]
    }
   ],
   "source": [
    "#Let's use accuracy score\n",
    "from sklearn.metrics import accuracy_score\n",
    "\n",
    "print(\"Accuracy for model 1: %.2f\" % (accuracy_score(y_test, pred1) * 100))\n",
    "print(\"Accuracy for model 2: %.2f\" % (accuracy_score(y_test, pred2) * 100))\n",
    "print(\"Accuracy for model 3: %.2f\" % (accuracy_score(y_test, pred3) * 100))\n",
    "print(\"Accuracy for model 4: %.2f\" % (accuracy_score(y_test, pred4) * 100))\n",
    "print(\"Accuracy for model 5: %.2f\" % (accuracy_score(y_test, pred5) * 100))\n",
    "print(\"Accuracy for model 6: %.2f\" % (accuracy_score(y_test, pred6) * 100))"
   ]
  },
  {
   "cell_type": "code",
   "execution_count": 162,
   "metadata": {
    "colab": {
     "base_uri": "https://localhost:8080/",
     "height": 606
    },
    "id": "q5Xm1yFYoRpp",
    "outputId": "878a5018-4393-418a-f62c-1f87c4031c46"
   },
   "outputs": [
    {
     "name": "stdout",
     "output_type": "stream",
     "text": [
      "Matriz de Confusión MODELO GANADOR:\n",
      " [[4476   44]\n",
      " [ 101  411]]\n",
      "Métricas de Matriz de Confusión - MODELO GANADOR:\n",
      "               precision    recall  f1-score   support\n",
      "\n",
      "         0.0       0.98      0.99      0.98      4520\n",
      "         1.0       0.90      0.80      0.85       512\n",
      "\n",
      "    accuracy                           0.97      5032\n",
      "   macro avg       0.94      0.90      0.92      5032\n",
      "weighted avg       0.97      0.97      0.97      5032\n",
      "\n"
     ]
    },
    {
     "name": "stderr",
     "output_type": "stream",
     "text": [
      "<ipython-input-162-a888068966c2>:18: UserWarning: FixedFormatter should only be used together with FixedLocator\n",
      "  ax.set_xticklabels([''] + labels)\n",
      "<ipython-input-162-a888068966c2>:19: UserWarning: FixedFormatter should only be used together with FixedLocator\n",
      "  ax.set_yticklabels([''] + labels)\n"
     ]
    },
    {
     "data": {
      "image/png": "[encoded data removed]",
      "text/plain": [
       "<Figure size 1152x648 with 2 Axes>"
      ]
     },
     "metadata": {},
     "output_type": "display_data"
    }
   ],
   "source": [
    "from sklearn.metrics import confusion_matrix\n",
    "from matplotlib import pyplot as plt\n",
    "\n",
    "# EVLUANDO LA MATRIZ DE CONFUSION\n",
    "#--------------------------------------------------------------------\n",
    "conf_mat = confusion_matrix(y_true=y_test, y_pred=pred1) ##Modificar al modelo\n",
    "#--------------------------------------------------------------------\n",
    "\n",
    "print('Matriz de Confusión MODELO GANADOR:\\n', conf_mat)\n",
    "\n",
    "print('Métricas de Matriz de Confusión - MODELO GANADOR:\\n',classification_report(y_test,pred6))\n",
    "\n",
    "labels = ['Class 0', 'Class 1']\n",
    "fig = plt.figure()\n",
    "ax = fig.add_subplot(111)\n",
    "cax = ax.matshow(conf_mat, cmap=plt.cm.Blues)\n",
    "fig.colorbar(cax)\n",
    "ax.set_xticklabels([''] + labels)\n",
    "ax.set_yticklabels([''] + labels)\n",
    "plt.xlabel('Predicted')\n",
    "plt.ylabel('Expected')\n",
    "plt.show()"
   ]
  },
  {
   "cell_type": "code",
   "execution_count": 164,
   "metadata": {},
   "outputs": [
    {
     "data": {
      "image/png": "[encoded data removed]",
      "text/plain": [
       "<Figure size 1152x648 with 1 Axes>"
      ]
     },
     "metadata": {},
     "output_type": "display_data"
    }
   ],
   "source": [
    "from xgboost import plot_importance\n",
    "from matplotlib import pyplot\n",
    "\n",
    "plot_importance(model2)\n",
    "pyplot.show()"
   ]
  },
  {
   "cell_type": "code",
   "execution_count": null,
   "metadata": {},
   "outputs": [],
   "source": []
  }
 ],
 "metadata": {
  "colab": {
   "name": "ML_XGboost Clasificacion_Caso_Riesgo_Credito_BIC_VF_Jupyter .ipynb",
   "provenance": []
  },
  "kernelspec": {
   "display_name": "Python 3",
   "language": "python",
   "name": "python3"
  },
  "language_info": {
   "codemirror_mode": {
    "name": "ipython",
    "version": 3
   },
   "file_extension": ".py",
   "mimetype": "text/x-python",
   "name": "python",
   "nbconvert_exporter": "python",
   "pygments_lexer": "ipython3",
   "version": "3.8.5"
  }
 },
 "nbformat": 4,
 "nbformat_minor": 1
}
