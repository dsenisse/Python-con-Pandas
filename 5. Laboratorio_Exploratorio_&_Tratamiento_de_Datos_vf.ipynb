{
  "nbformat": 4,
  "nbformat_minor": 0,
  "metadata": {
    "colab": {
      "name": "Laboratorio_Exploratorio_&_Tratamiento_de_Datos_v2.ipynb",
      "provenance": [],
      "toc_visible": true
    },
    "kernelspec": {
      "display_name": "Python 3",
      "language": "python",
      "name": "python3"
    },
    "language_info": {
      "codemirror_mode": {
        "name": "ipython",
        "version": 3
      },
      "file_extension": ".py",
      "mimetype": "text/x-python",
      "name": "python",
      "nbconvert_exporter": "python",
      "pygments_lexer": "ipython3",
      "version": "3.8.5"
    }
  },
  "cells": [
    {
      "cell_type": "markdown",
      "metadata": {
        "id": "609x8QHELq0w"
      },
      "source": [
        "## Análisis Descriptivo: ¿Quién llegará al número uno en Billboard 100?"
      ]
    },
    {
      "cell_type": "code",
      "metadata": {
        "id": "WHJJZ2cJLq1i"
      },
      "source": [
        "import numpy as np\n",
        "import pandas as pd\n",
        "import seaborn as sns\n",
        "import matplotlib.pyplot as plt\n",
        "%matplotlib inline\n",
        "plt.rcParams['figure.figsize'] = (16, 9)\n",
        "plt.style.use('ggplot')"
      ],
      "execution_count": null,
      "outputs": []
    },
    {
      "cell_type": "code",
      "metadata": {
        "colab": {
          "base_uri": "https://localhost:8080/",
          "height": 35
        },
        "id": "5oFjuaPbLq1w",
        "outputId": "4e935103-1ceb-4046-83bb-92188eef302e"
      },
      "source": [
        "pwd"
      ],
      "execution_count": null,
      "outputs": [
        {
          "output_type": "execute_result",
          "data": {
            "application/vnd.google.colaboratory.intrinsic+json": {
              "type": "string"
            },
            "text/plain": [
              "'/content'"
            ]
          },
          "metadata": {
            "tags": []
          },
          "execution_count": 64
        }
      ]
    },
    {
      "cell_type": "markdown",
      "metadata": {
        "id": "mgrhNvQGLq11"
      },
      "source": [
        "## Cargamos los datos de entrada"
      ]
    },
    {
      "cell_type": "code",
      "metadata": {
        "id": "bP5gAxGKLq12"
      },
      "source": [
        "artists_billboard=pd.read_csv('artists_billboard_fix3.csv',sep = \",\",encoding = 'latin1') "
      ],
      "execution_count": null,
      "outputs": []
    },
    {
      "cell_type": "code",
      "metadata": {
        "colab": {
          "base_uri": "https://localhost:8080/"
        },
        "id": "eCOGtMfvLq13",
        "outputId": "8ddf4c7e-04b9-40aa-8ded-f3126fd56c01"
      },
      "source": [
        "artists_billboard.shape"
      ],
      "execution_count": null,
      "outputs": [
        {
          "output_type": "execute_result",
          "data": {
            "text/plain": [
              "(635, 11)"
            ]
          },
          "metadata": {
            "tags": []
          },
          "execution_count": 66
        }
      ]
    },
    {
      "cell_type": "code",
      "metadata": {
        "colab": {
          "base_uri": "https://localhost:8080/",
          "height": 281
        },
        "id": "Khru13jFLq14",
        "scrolled": true,
        "outputId": "4648c138-c850-4972-aa54-16bb840ab20f"
      },
      "source": [
        "artists_billboard.head(5)"
      ],
      "execution_count": null,
      "outputs": [
        {
          "output_type": "execute_result",
          "data": {
            "text/html": [
              "<div>\n",
              "<style scoped>\n",
              "    .dataframe tbody tr th:only-of-type {\n",
              "        vertical-align: middle;\n",
              "    }\n",
              "\n",
              "    .dataframe tbody tr th {\n",
              "        vertical-align: top;\n",
              "    }\n",
              "\n",
              "    .dataframe thead th {\n",
              "        text-align: right;\n",
              "    }\n",
              "</style>\n",
              "<table border=\"1\" class=\"dataframe\">\n",
              "  <thead>\n",
              "    <tr style=\"text-align: right;\">\n",
              "      <th></th>\n",
              "      <th>id</th>\n",
              "      <th>title</th>\n",
              "      <th>artist</th>\n",
              "      <th>mood</th>\n",
              "      <th>tempo</th>\n",
              "      <th>genre</th>\n",
              "      <th>artist_type</th>\n",
              "      <th>chart_date</th>\n",
              "      <th>durationSeg</th>\n",
              "      <th>top</th>\n",
              "      <th>anioNacimiento</th>\n",
              "    </tr>\n",
              "  </thead>\n",
              "  <tbody>\n",
              "    <tr>\n",
              "      <th>0</th>\n",
              "      <td>0</td>\n",
              "      <td>Small Town Throwdown</td>\n",
              "      <td>BRANTLEY GILBERT featuring JUSTIN MOORE &amp; THOM...</td>\n",
              "      <td>Brooding</td>\n",
              "      <td>Medium Tempo</td>\n",
              "      <td>Traditional</td>\n",
              "      <td>Male</td>\n",
              "      <td>20140628</td>\n",
              "      <td>191.0</td>\n",
              "      <td>0</td>\n",
              "      <td>1975.0</td>\n",
              "    </tr>\n",
              "    <tr>\n",
              "      <th>1</th>\n",
              "      <td>1</td>\n",
              "      <td>Bang Bang</td>\n",
              "      <td>JESSIE J, ARIANA GRANDE &amp; NICKI MINAJ</td>\n",
              "      <td>Energizing</td>\n",
              "      <td>Medium Tempo</td>\n",
              "      <td>Pop</td>\n",
              "      <td>Female</td>\n",
              "      <td>20140816</td>\n",
              "      <td>368.0</td>\n",
              "      <td>0</td>\n",
              "      <td>1989.0</td>\n",
              "    </tr>\n",
              "    <tr>\n",
              "      <th>2</th>\n",
              "      <td>2</td>\n",
              "      <td>Timber</td>\n",
              "      <td>PITBULL featuring KE$HA</td>\n",
              "      <td>Excited</td>\n",
              "      <td>Medium Tempo</td>\n",
              "      <td>Urban</td>\n",
              "      <td>Mixed</td>\n",
              "      <td>20140118</td>\n",
              "      <td>223.0</td>\n",
              "      <td>1</td>\n",
              "      <td>1993.0</td>\n",
              "    </tr>\n",
              "    <tr>\n",
              "      <th>3</th>\n",
              "      <td>3</td>\n",
              "      <td>Sweater Weather</td>\n",
              "      <td>THE NEIGHBOURHOOD</td>\n",
              "      <td>Brooding</td>\n",
              "      <td>Medium Tempo</td>\n",
              "      <td>Alternative &amp; Punk</td>\n",
              "      <td>Male</td>\n",
              "      <td>20140104</td>\n",
              "      <td>206.0</td>\n",
              "      <td>0</td>\n",
              "      <td>1989.0</td>\n",
              "    </tr>\n",
              "    <tr>\n",
              "      <th>4</th>\n",
              "      <td>4</td>\n",
              "      <td>Automatic</td>\n",
              "      <td>MIRANDA LAMBERT</td>\n",
              "      <td>Yearning</td>\n",
              "      <td>Medium Tempo</td>\n",
              "      <td>Traditional</td>\n",
              "      <td>Female</td>\n",
              "      <td>20140301</td>\n",
              "      <td>232.0</td>\n",
              "      <td>0</td>\n",
              "      <td>0.0</td>\n",
              "    </tr>\n",
              "  </tbody>\n",
              "</table>\n",
              "</div>"
            ],
            "text/plain": [
              "   id                 title  ... top anioNacimiento\n",
              "0   0  Small Town Throwdown  ...   0         1975.0\n",
              "1   1             Bang Bang  ...   0         1989.0\n",
              "2   2                Timber  ...   1         1993.0\n",
              "3   3       Sweater Weather  ...   0         1989.0\n",
              "4   4             Automatic  ...   0            0.0\n",
              "\n",
              "[5 rows x 11 columns]"
            ]
          },
          "metadata": {
            "tags": []
          },
          "execution_count": 73
        }
      ]
    },
    {
      "cell_type": "code",
      "metadata": {
        "colab": {
          "base_uri": "https://localhost:8080/"
        },
        "id": "bP-_dMD3Lq15",
        "outputId": "9ced85a7-feb8-4de2-b56d-ec169fd94adf"
      },
      "source": [
        "artists_billboard.info()"
      ],
      "execution_count": null,
      "outputs": [
        {
          "output_type": "stream",
          "text": [
            "<class 'pandas.core.frame.DataFrame'>\n",
            "RangeIndex: 635 entries, 0 to 634\n",
            "Data columns (total 11 columns):\n",
            " #   Column          Non-Null Count  Dtype  \n",
            "---  ------          --------------  -----  \n",
            " 0   id              635 non-null    int64  \n",
            " 1   title           635 non-null    object \n",
            " 2   artist          635 non-null    object \n",
            " 3   mood            635 non-null    object \n",
            " 4   tempo           635 non-null    object \n",
            " 5   genre           635 non-null    object \n",
            " 6   artist_type     635 non-null    object \n",
            " 7   chart_date      635 non-null    int64  \n",
            " 8   durationSeg     635 non-null    float64\n",
            " 9   top             635 non-null    int64  \n",
            " 10  anioNacimiento  635 non-null    float64\n",
            "dtypes: float64(2), int64(3), object(6)\n",
            "memory usage: 54.7+ KB\n"
          ],
          "name": "stdout"
        }
      ]
    },
    {
      "cell_type": "markdown",
      "metadata": {
        "id": "4CdjhIbYLq16"
      },
      "source": [
        "## ¿Cuántos alcanzaron el número 1?"
      ]
    },
    {
      "cell_type": "code",
      "metadata": {
        "colab": {
          "base_uri": "https://localhost:8080/"
        },
        "id": "FAdt_BicLq2G",
        "outputId": "47d60f22-e014-4185-fd8a-dc7dee83fba0"
      },
      "source": [
        "artists_billboard.groupby('top').size()"
      ],
      "execution_count": null,
      "outputs": [
        {
          "output_type": "execute_result",
          "data": {
            "text/plain": [
              "top\n",
              "0    494\n",
              "1    141\n",
              "dtype: int64"
            ]
          },
          "metadata": {
            "tags": []
          },
          "execution_count": 74
        }
      ]
    },
    {
      "cell_type": "code",
      "metadata": {
        "colab": {
          "base_uri": "https://localhost:8080/",
          "height": 494
        },
        "id": "IT76S_qPLq2H",
        "scrolled": false,
        "outputId": "75a2d58f-f9e1-4e67-a05b-70480d3b26d6"
      },
      "source": [
        "sns.factorplot('top',data=artists_billboard,kind=\"count\")"
      ],
      "execution_count": null,
      "outputs": [
        {
          "output_type": "stream",
          "text": [
            "/usr/local/lib/python3.7/dist-packages/seaborn/categorical.py:3714: UserWarning: The `factorplot` function has been renamed to `catplot`. The original name will be removed in a future release. Please update your code. Note that the default `kind` in `factorplot` (`'point'`) has changed `'strip'` in `catplot`.\n",
            "  warnings.warn(msg)\n",
            "/usr/local/lib/python3.7/dist-packages/seaborn/_decorators.py:43: FutureWarning: Pass the following variable as a keyword arg: x. From version 0.12, the only valid positional argument will be `data`, and passing other arguments without an explicit keyword will result in an error or misinterpretation.\n",
            "  FutureWarning\n"
          ],
          "name": "stderr"
        },
        {
          "output_type": "execute_result",
          "data": {
            "text/plain": [
              "<seaborn.axisgrid.FacetGrid at 0x7f96dc3f1c10>"
            ]
          },
          "metadata": {
            "tags": []
          },
          "execution_count": 75
        },
        {
          "output_type": "display_data",
          "data": {
            "image/png": "[encoded data removed]",
            "text/plain": [
              "<Figure size 360x360 with 1 Axes>"
            ]
          },
          "metadata": {
            "tags": []
          }
        }
      ]
    },
    {
      "cell_type": "code",
      "metadata": {
        "colab": {
          "base_uri": "https://localhost:8080/",
          "height": 287
        },
        "id": "yIXZQUkJLq2I",
        "outputId": "d8b14bc6-923c-45f6-d2c0-34d3146f2de7"
      },
      "source": [
        "artists_billboard.describe()"
      ],
      "execution_count": null,
      "outputs": [
        {
          "output_type": "execute_result",
          "data": {
            "text/html": [
              "<div>\n",
              "<style scoped>\n",
              "    .dataframe tbody tr th:only-of-type {\n",
              "        vertical-align: middle;\n",
              "    }\n",
              "\n",
              "    .dataframe tbody tr th {\n",
              "        vertical-align: top;\n",
              "    }\n",
              "\n",
              "    .dataframe thead th {\n",
              "        text-align: right;\n",
              "    }\n",
              "</style>\n",
              "<table border=\"1\" class=\"dataframe\">\n",
              "  <thead>\n",
              "    <tr style=\"text-align: right;\">\n",
              "      <th></th>\n",
              "      <th>id</th>\n",
              "      <th>chart_date</th>\n",
              "      <th>durationSeg</th>\n",
              "      <th>top</th>\n",
              "      <th>anioNacimiento</th>\n",
              "    </tr>\n",
              "  </thead>\n",
              "  <tbody>\n",
              "    <tr>\n",
              "      <th>count</th>\n",
              "      <td>635.000000</td>\n",
              "      <td>6.350000e+02</td>\n",
              "      <td>635.000000</td>\n",
              "      <td>635.000000</td>\n",
              "      <td>635.000000</td>\n",
              "    </tr>\n",
              "    <tr>\n",
              "      <th>mean</th>\n",
              "      <td>317.000000</td>\n",
              "      <td>2.013036e+07</td>\n",
              "      <td>321.768504</td>\n",
              "      <td>0.222047</td>\n",
              "      <td>1548.590551</td>\n",
              "    </tr>\n",
              "    <tr>\n",
              "      <th>std</th>\n",
              "      <td>183.452991</td>\n",
              "      <td>2.617996e+04</td>\n",
              "      <td>633.753787</td>\n",
              "      <td>0.415950</td>\n",
              "      <td>820.470454</td>\n",
              "    </tr>\n",
              "    <tr>\n",
              "      <th>min</th>\n",
              "      <td>0.000000</td>\n",
              "      <td>2.004021e+07</td>\n",
              "      <td>0.000000</td>\n",
              "      <td>0.000000</td>\n",
              "      <td>0.000000</td>\n",
              "    </tr>\n",
              "    <tr>\n",
              "      <th>25%</th>\n",
              "      <td>158.500000</td>\n",
              "      <td>2.014010e+07</td>\n",
              "      <td>200.000000</td>\n",
              "      <td>0.000000</td>\n",
              "      <td>1969.000000</td>\n",
              "    </tr>\n",
              "    <tr>\n",
              "      <th>50%</th>\n",
              "      <td>317.000000</td>\n",
              "      <td>2.014051e+07</td>\n",
              "      <td>232.000000</td>\n",
              "      <td>0.000000</td>\n",
              "      <td>1981.000000</td>\n",
              "    </tr>\n",
              "    <tr>\n",
              "      <th>75%</th>\n",
              "      <td>475.500000</td>\n",
              "      <td>2.014101e+07</td>\n",
              "      <td>266.500000</td>\n",
              "      <td>0.000000</td>\n",
              "      <td>1986.000000</td>\n",
              "    </tr>\n",
              "    <tr>\n",
              "      <th>max</th>\n",
              "      <td>634.000000</td>\n",
              "      <td>2.015031e+07</td>\n",
              "      <td>6840.000000</td>\n",
              "      <td>1.000000</td>\n",
              "      <td>1999.000000</td>\n",
              "    </tr>\n",
              "  </tbody>\n",
              "</table>\n",
              "</div>"
            ],
            "text/plain": [
              "               id    chart_date  durationSeg         top  anioNacimiento\n",
              "count  635.000000  6.350000e+02   635.000000  635.000000      635.000000\n",
              "mean   317.000000  2.013036e+07   321.768504    0.222047     1548.590551\n",
              "std    183.452991  2.617996e+04   633.753787    0.415950      820.470454\n",
              "min      0.000000  2.004021e+07     0.000000    0.000000        0.000000\n",
              "25%    158.500000  2.014010e+07   200.000000    0.000000     1969.000000\n",
              "50%    317.000000  2.014051e+07   232.000000    0.000000     1981.000000\n",
              "75%    475.500000  2.014101e+07   266.500000    0.000000     1986.000000\n",
              "max    634.000000  2.015031e+07  6840.000000    1.000000     1999.000000"
            ]
          },
          "metadata": {
            "tags": []
          },
          "execution_count": 76
        }
      ]
    },
    {
      "cell_type": "code",
      "metadata": {
        "colab": {
          "base_uri": "https://localhost:8080/",
          "height": 408
        },
        "id": "Utu7g0_DLq2L",
        "outputId": "15126945-cab2-4eec-aa16-f1bc97aa6777"
      },
      "source": [
        "plt.figure(figsize=(12,6))\n",
        "sns.boxplot(x=\"artist_type\",y=\"durationSeg\", hue=\"top\", data=artists_billboard)"
      ],
      "execution_count": null,
      "outputs": [
        {
          "output_type": "execute_result",
          "data": {
            "text/plain": [
              "<matplotlib.axes._subplots.AxesSubplot at 0x7f96dc289490>"
            ]
          },
          "metadata": {
            "tags": []
          },
          "execution_count": 77
        },
        {
          "output_type": "display_data",
          "data": {
            "image/png": "[encoded data removed]",
            "text/plain": [
              "<Figure size 864x432 with 1 Axes>"
            ]
          },
          "metadata": {
            "tags": []
          }
        }
      ]
    },
    {
      "cell_type": "code",
      "metadata": {
        "id": "2-YYEi8BLq2M"
      },
      "source": [
        "def outlier_capping(x):\n",
        "    x = x.clip(upper=x.quantile(0.95))\n",
        "    \n",
        "    return(x)"
      ],
      "execution_count": null,
      "outputs": []
    },
    {
      "cell_type": "code",
      "metadata": {
        "id": "xkBLN7PiLq2N"
      },
      "source": [
        "artists_billboard_tratamiento = artists_billboard[['durationSeg']].apply(lambda x: outlier_capping(x))"
      ],
      "execution_count": null,
      "outputs": []
    },
    {
      "cell_type": "code",
      "metadata": {
        "colab": {
          "base_uri": "https://localhost:8080/",
          "height": 137
        },
        "id": "DPcZHwXALq2O",
        "outputId": "17eeb1be-b183-4078-c076-8575952ec197"
      },
      "source": [
        "artists_billboard_tratamiento.head(3)"
      ],
      "execution_count": null,
      "outputs": [
        {
          "output_type": "execute_result",
          "data": {
            "text/html": [
              "<div>\n",
              "<style scoped>\n",
              "    .dataframe tbody tr th:only-of-type {\n",
              "        vertical-align: middle;\n",
              "    }\n",
              "\n",
              "    .dataframe tbody tr th {\n",
              "        vertical-align: top;\n",
              "    }\n",
              "\n",
              "    .dataframe thead th {\n",
              "        text-align: right;\n",
              "    }\n",
              "</style>\n",
              "<table border=\"1\" class=\"dataframe\">\n",
              "  <thead>\n",
              "    <tr style=\"text-align: right;\">\n",
              "      <th></th>\n",
              "      <th>durationSeg</th>\n",
              "    </tr>\n",
              "  </thead>\n",
              "  <tbody>\n",
              "    <tr>\n",
              "      <th>0</th>\n",
              "      <td>191.0</td>\n",
              "    </tr>\n",
              "    <tr>\n",
              "      <th>1</th>\n",
              "      <td>368.0</td>\n",
              "    </tr>\n",
              "    <tr>\n",
              "      <th>2</th>\n",
              "      <td>223.0</td>\n",
              "    </tr>\n",
              "  </tbody>\n",
              "</table>\n",
              "</div>"
            ],
            "text/plain": [
              "   durationSeg\n",
              "0        191.0\n",
              "1        368.0\n",
              "2        223.0"
            ]
          },
          "metadata": {
            "tags": []
          },
          "execution_count": 80
        }
      ]
    },
    {
      "cell_type": "code",
      "metadata": {
        "id": "uTJS28VWLq2O"
      },
      "source": [
        "artists_billboard = pd.concat([artists_billboard.drop(columns=['durationSeg']), artists_billboard_tratamiento], axis=1,)"
      ],
      "execution_count": null,
      "outputs": []
    },
    {
      "cell_type": "code",
      "metadata": {
        "colab": {
          "base_uri": "https://localhost:8080/",
          "height": 187
        },
        "id": "gMEIZKNbLq2P",
        "outputId": "4ec09356-f6b0-4ae9-f42c-fe621dbda04c"
      },
      "source": [
        "artists_billboard.head(3)"
      ],
      "execution_count": null,
      "outputs": [
        {
          "output_type": "execute_result",
          "data": {
            "text/html": [
              "<div>\n",
              "<style scoped>\n",
              "    .dataframe tbody tr th:only-of-type {\n",
              "        vertical-align: middle;\n",
              "    }\n",
              "\n",
              "    .dataframe tbody tr th {\n",
              "        vertical-align: top;\n",
              "    }\n",
              "\n",
              "    .dataframe thead th {\n",
              "        text-align: right;\n",
              "    }\n",
              "</style>\n",
              "<table border=\"1\" class=\"dataframe\">\n",
              "  <thead>\n",
              "    <tr style=\"text-align: right;\">\n",
              "      <th></th>\n",
              "      <th>id</th>\n",
              "      <th>title</th>\n",
              "      <th>artist</th>\n",
              "      <th>mood</th>\n",
              "      <th>tempo</th>\n",
              "      <th>genre</th>\n",
              "      <th>artist_type</th>\n",
              "      <th>chart_date</th>\n",
              "      <th>top</th>\n",
              "      <th>anioNacimiento</th>\n",
              "      <th>durationSeg</th>\n",
              "    </tr>\n",
              "  </thead>\n",
              "  <tbody>\n",
              "    <tr>\n",
              "      <th>0</th>\n",
              "      <td>0</td>\n",
              "      <td>Small Town Throwdown</td>\n",
              "      <td>BRANTLEY GILBERT featuring JUSTIN MOORE &amp; THOM...</td>\n",
              "      <td>Brooding</td>\n",
              "      <td>Medium Tempo</td>\n",
              "      <td>Traditional</td>\n",
              "      <td>Male</td>\n",
              "      <td>20140628</td>\n",
              "      <td>0</td>\n",
              "      <td>1975.0</td>\n",
              "      <td>191.0</td>\n",
              "    </tr>\n",
              "    <tr>\n",
              "      <th>1</th>\n",
              "      <td>1</td>\n",
              "      <td>Bang Bang</td>\n",
              "      <td>JESSIE J, ARIANA GRANDE &amp; NICKI MINAJ</td>\n",
              "      <td>Energizing</td>\n",
              "      <td>Medium Tempo</td>\n",
              "      <td>Pop</td>\n",
              "      <td>Female</td>\n",
              "      <td>20140816</td>\n",
              "      <td>0</td>\n",
              "      <td>1989.0</td>\n",
              "      <td>368.0</td>\n",
              "    </tr>\n",
              "    <tr>\n",
              "      <th>2</th>\n",
              "      <td>2</td>\n",
              "      <td>Timber</td>\n",
              "      <td>PITBULL featuring KE$HA</td>\n",
              "      <td>Excited</td>\n",
              "      <td>Medium Tempo</td>\n",
              "      <td>Urban</td>\n",
              "      <td>Mixed</td>\n",
              "      <td>20140118</td>\n",
              "      <td>1</td>\n",
              "      <td>1993.0</td>\n",
              "      <td>223.0</td>\n",
              "    </tr>\n",
              "  </tbody>\n",
              "</table>\n",
              "</div>"
            ],
            "text/plain": [
              "   id                 title  ... anioNacimiento durationSeg\n",
              "0   0  Small Town Throwdown  ...         1975.0       191.0\n",
              "1   1             Bang Bang  ...         1989.0       368.0\n",
              "2   2                Timber  ...         1993.0       223.0\n",
              "\n",
              "[3 rows x 11 columns]"
            ]
          },
          "metadata": {
            "tags": []
          },
          "execution_count": 82
        }
      ]
    },
    {
      "cell_type": "code",
      "metadata": {
        "colab": {
          "base_uri": "https://localhost:8080/",
          "height": 287
        },
        "id": "TC97LIysLq2Q",
        "outputId": "9e4b0f9c-a032-4a11-df14-815c73aa7544"
      },
      "source": [
        "artists_billboard.describe()"
      ],
      "execution_count": null,
      "outputs": [
        {
          "output_type": "execute_result",
          "data": {
            "text/html": [
              "<div>\n",
              "<style scoped>\n",
              "    .dataframe tbody tr th:only-of-type {\n",
              "        vertical-align: middle;\n",
              "    }\n",
              "\n",
              "    .dataframe tbody tr th {\n",
              "        vertical-align: top;\n",
              "    }\n",
              "\n",
              "    .dataframe thead th {\n",
              "        text-align: right;\n",
              "    }\n",
              "</style>\n",
              "<table border=\"1\" class=\"dataframe\">\n",
              "  <thead>\n",
              "    <tr style=\"text-align: right;\">\n",
              "      <th></th>\n",
              "      <th>id</th>\n",
              "      <th>chart_date</th>\n",
              "      <th>top</th>\n",
              "      <th>anioNacimiento</th>\n",
              "      <th>durationSeg</th>\n",
              "    </tr>\n",
              "  </thead>\n",
              "  <tbody>\n",
              "    <tr>\n",
              "      <th>count</th>\n",
              "      <td>635.000000</td>\n",
              "      <td>6.350000e+02</td>\n",
              "      <td>635.000000</td>\n",
              "      <td>635.000000</td>\n",
              "      <td>635.000000</td>\n",
              "    </tr>\n",
              "    <tr>\n",
              "      <th>mean</th>\n",
              "      <td>317.000000</td>\n",
              "      <td>2.013036e+07</td>\n",
              "      <td>0.222047</td>\n",
              "      <td>1548.590551</td>\n",
              "      <td>227.240630</td>\n",
              "    </tr>\n",
              "    <tr>\n",
              "      <th>std</th>\n",
              "      <td>183.452991</td>\n",
              "      <td>2.617996e+04</td>\n",
              "      <td>0.415950</td>\n",
              "      <td>820.470454</td>\n",
              "      <td>84.984158</td>\n",
              "    </tr>\n",
              "    <tr>\n",
              "      <th>min</th>\n",
              "      <td>0.000000</td>\n",
              "      <td>2.004021e+07</td>\n",
              "      <td>0.000000</td>\n",
              "      <td>0.000000</td>\n",
              "      <td>0.000000</td>\n",
              "    </tr>\n",
              "    <tr>\n",
              "      <th>25%</th>\n",
              "      <td>158.500000</td>\n",
              "      <td>2.014010e+07</td>\n",
              "      <td>0.000000</td>\n",
              "      <td>1969.000000</td>\n",
              "      <td>200.000000</td>\n",
              "    </tr>\n",
              "    <tr>\n",
              "      <th>50%</th>\n",
              "      <td>317.000000</td>\n",
              "      <td>2.014051e+07</td>\n",
              "      <td>0.000000</td>\n",
              "      <td>1981.000000</td>\n",
              "      <td>232.000000</td>\n",
              "    </tr>\n",
              "    <tr>\n",
              "      <th>75%</th>\n",
              "      <td>475.500000</td>\n",
              "      <td>2.014101e+07</td>\n",
              "      <td>0.000000</td>\n",
              "      <td>1986.000000</td>\n",
              "      <td>266.500000</td>\n",
              "    </tr>\n",
              "    <tr>\n",
              "      <th>max</th>\n",
              "      <td>634.000000</td>\n",
              "      <td>2.015031e+07</td>\n",
              "      <td>1.000000</td>\n",
              "      <td>1999.000000</td>\n",
              "      <td>401.400000</td>\n",
              "    </tr>\n",
              "  </tbody>\n",
              "</table>\n",
              "</div>"
            ],
            "text/plain": [
              "               id    chart_date         top  anioNacimiento  durationSeg\n",
              "count  635.000000  6.350000e+02  635.000000      635.000000   635.000000\n",
              "mean   317.000000  2.013036e+07    0.222047     1548.590551   227.240630\n",
              "std    183.452991  2.617996e+04    0.415950      820.470454    84.984158\n",
              "min      0.000000  2.004021e+07    0.000000        0.000000     0.000000\n",
              "25%    158.500000  2.014010e+07    0.000000     1969.000000   200.000000\n",
              "50%    317.000000  2.014051e+07    0.000000     1981.000000   232.000000\n",
              "75%    475.500000  2.014101e+07    0.000000     1986.000000   266.500000\n",
              "max    634.000000  2.015031e+07    1.000000     1999.000000   401.400000"
            ]
          },
          "metadata": {
            "tags": []
          },
          "execution_count": 83
        }
      ]
    },
    {
      "cell_type": "code",
      "metadata": {
        "colab": {
          "base_uri": "https://localhost:8080/",
          "height": 408
        },
        "id": "KxG6CxCrLq2Q",
        "outputId": "37f19138-1928-4644-aa15-e71e7a15b40c"
      },
      "source": [
        "plt.figure(figsize=(12,6))\n",
        "sns.boxplot(x=\"artist_type\",y=\"durationSeg\", hue=\"top\", data=artists_billboard)"
      ],
      "execution_count": null,
      "outputs": [
        {
          "output_type": "execute_result",
          "data": {
            "text/plain": [
              "<matplotlib.axes._subplots.AxesSubplot at 0x7f96e04dca10>"
            ]
          },
          "metadata": {
            "tags": []
          },
          "execution_count": 84
        },
        {
          "output_type": "display_data",
          "data": {
            "image/png": "[encoded data removed]",
            "text/plain": [
              "<Figure size 864x432 with 1 Axes>"
            ]
          },
          "metadata": {
            "tags": []
          }
        }
      ]
    },
    {
      "cell_type": "code",
      "metadata": {
        "colab": {
          "base_uri": "https://localhost:8080/",
          "height": 408
        },
        "id": "Q8F76abyLq2R",
        "outputId": "4ad689cc-0c00-4dbc-c3ff-a9973de13b5b"
      },
      "source": [
        "plt.figure(figsize=(12,6))\n",
        "sns.boxplot(x=\"genre\",y=\"durationSeg\", hue=\"top\", data=artists_billboard)"
      ],
      "execution_count": null,
      "outputs": [
        {
          "output_type": "execute_result",
          "data": {
            "text/plain": [
              "<matplotlib.axes._subplots.AxesSubplot at 0x7f96dc0a5e10>"
            ]
          },
          "metadata": {
            "tags": []
          },
          "execution_count": 85
        },
        {
          "output_type": "display_data",
          "data": {
            "image/png": "[encoded data removed]",
            "text/plain": [
              "<Figure size 864x432 with 1 Axes>"
            ]
          },
          "metadata": {
            "tags": []
          }
        }
      ]
    },
    {
      "cell_type": "code",
      "metadata": {
        "colab": {
          "base_uri": "https://localhost:8080/",
          "height": 408
        },
        "id": "Y5lE0S_sLq2S",
        "outputId": "a734357c-d89f-4982-9da1-cc363e851220"
      },
      "source": [
        "plt.figure(figsize=(12,6))\n",
        "sns.boxplot(x=\"mood\",y=\"durationSeg\", hue=\"top\", data=artists_billboard)"
      ],
      "execution_count": null,
      "outputs": [
        {
          "output_type": "execute_result",
          "data": {
            "text/plain": [
              "<matplotlib.axes._subplots.AxesSubplot at 0x7f96dbed8b90>"
            ]
          },
          "metadata": {
            "tags": []
          },
          "execution_count": 86
        },
        {
          "output_type": "display_data",
          "data": {
            "image/png": "[encoded data removed]",
            "text/plain": [
              "<Figure size 864x432 with 1 Axes>"
            ]
          },
          "metadata": {
            "tags": []
          }
        }
      ]
    },
    {
      "cell_type": "markdown",
      "metadata": {
        "id": "v-t4whAaLq2i"
      },
      "source": [
        "### Visualizamos los años de nacimiento de los artistas"
      ]
    },
    {
      "cell_type": "code",
      "metadata": {
        "id": "trCYPeCDLq2j",
        "colab": {
          "base_uri": "https://localhost:8080/",
          "height": 494
        },
        "outputId": "d42a9689-bb7e-483a-d391-e17296cc6822"
      },
      "source": [
        "sns.factorplot('anioNacimiento',data=artists_billboard,kind=\"count\", aspect=3)"
      ],
      "execution_count": null,
      "outputs": [
        {
          "output_type": "stream",
          "text": [
            "/usr/local/lib/python3.7/dist-packages/seaborn/categorical.py:3714: UserWarning: The `factorplot` function has been renamed to `catplot`. The original name will be removed in a future release. Please update your code. Note that the default `kind` in `factorplot` (`'point'`) has changed `'strip'` in `catplot`.\n",
            "  warnings.warn(msg)\n",
            "/usr/local/lib/python3.7/dist-packages/seaborn/_decorators.py:43: FutureWarning: Pass the following variable as a keyword arg: x. From version 0.12, the only valid positional argument will be `data`, and passing other arguments without an explicit keyword will result in an error or misinterpretation.\n",
            "  FutureWarning\n"
          ],
          "name": "stderr"
        },
        {
          "output_type": "execute_result",
          "data": {
            "text/plain": [
              "<seaborn.axisgrid.FacetGrid at 0x7f96dbc16190>"
            ]
          },
          "metadata": {
            "tags": []
          },
          "execution_count": 87
        },
        {
          "output_type": "display_data",
          "data": {
            "image/png": "[encoded data removed]",
            "text/plain": [
              "<Figure size 1080x360 with 1 Axes>"
            ]
          },
          "metadata": {
            "tags": []
          }
        }
      ]
    },
    {
      "cell_type": "markdown",
      "metadata": {
        "id": "3jsaYSNVLq2s"
      },
      "source": [
        "### Calculamos promedio de edad y asignamos a los registros Nulos"
      ]
    },
    {
      "cell_type": "code",
      "metadata": {
        "id": "t6rmdT_7Lq2T"
      },
      "source": [
        "def calcula_edad(anio,cuando):\n",
        "    cad = str(cuando)\n",
        "    momento = cad[:4]\n",
        "    if anio==0.0:\n",
        "        return None\n",
        "    return int(momento) - anio\n",
        "\n",
        "artists_billboard['edad_en_billboard']=artists_billboard.apply(lambda x: calcula_edad(x['anioNacimiento'],x['chart_date']), axis=1);"
      ],
      "execution_count": null,
      "outputs": []
    },
    {
      "cell_type": "code",
      "metadata": {
        "id": "nRF4mvydLq2T"
      },
      "source": [
        "def edad_fix(anio):\n",
        "    if anio==0:\n",
        "        return None\n",
        "    return anio\n",
        "\n",
        "artists_billboard['anioNacimiento']=artists_billboard.apply(lambda x: edad_fix(x['anioNacimiento']), axis=1);"
      ],
      "execution_count": null,
      "outputs": []
    },
    {
      "cell_type": "code",
      "metadata": {
        "colab": {
          "base_uri": "https://localhost:8080/"
        },
        "id": "B7MAaevuLq2s",
        "outputId": "53364626-c6d1-4c7b-f4cf-5a63f7bbf3ee"
      },
      "source": [
        "age_avg = artists_billboard['edad_en_billboard'].mean()\n",
        "age_std = artists_billboard['edad_en_billboard'].std()\n",
        "age_null_count = artists_billboard['edad_en_billboard'].isnull().sum()\n",
        "age_null_random_list = np.random.randint(age_avg - age_std, age_avg + age_std, size=age_null_count)\n",
        "\n",
        "conValoresNulos = np.isnan(artists_billboard['edad_en_billboard'])\n",
        "\n",
        "artists_billboard.loc[np.isnan(artists_billboard['edad_en_billboard']), 'edad_en_billboard'] = age_null_random_list\n",
        "artists_billboard['edad_en_billboard'] = artists_billboard['edad_en_billboard'].astype(int)\n",
        "print(\"Edad Promedio: \" + str(age_avg))\n",
        "print(\"Desvió Std Edad: \" + str(age_std))\n",
        "print(\"Intervalo para asignar edad aleatoria: \" + str(int(age_avg - age_std)) + \" a \" + str(int(age_avg + age_std)))"
      ],
      "execution_count": null,
      "outputs": [
        {
          "output_type": "stream",
          "text": [
            "Edad Promedio: 30.10282258064516\n",
            "Desvió Std Edad: 8.40078832861513\n",
            "Intervalo para asignar edad aleatoria: 21 a 38\n"
          ],
          "name": "stdout"
        }
      ]
    },
    {
      "cell_type": "code",
      "metadata": {
        "colab": {
          "base_uri": "https://localhost:8080/",
          "height": 494
        },
        "id": "pP1Kg19KHke-",
        "outputId": "5370158e-faca-4988-a7eb-6b39f7c0605e"
      },
      "source": [
        "sns.factorplot('anioNacimiento',data=artists_billboard,kind=\"count\", aspect=3)"
      ],
      "execution_count": null,
      "outputs": [
        {
          "output_type": "stream",
          "text": [
            "/usr/local/lib/python3.7/dist-packages/seaborn/categorical.py:3714: UserWarning: The `factorplot` function has been renamed to `catplot`. The original name will be removed in a future release. Please update your code. Note that the default `kind` in `factorplot` (`'point'`) has changed `'strip'` in `catplot`.\n",
            "  warnings.warn(msg)\n",
            "/usr/local/lib/python3.7/dist-packages/seaborn/_decorators.py:43: FutureWarning: Pass the following variable as a keyword arg: x. From version 0.12, the only valid positional argument will be `data`, and passing other arguments without an explicit keyword will result in an error or misinterpretation.\n",
            "  FutureWarning\n"
          ],
          "name": "stderr"
        },
        {
          "output_type": "execute_result",
          "data": {
            "text/plain": [
              "<seaborn.axisgrid.FacetGrid at 0x7f96db9d6150>"
            ]
          },
          "metadata": {
            "tags": []
          },
          "execution_count": 91
        },
        {
          "output_type": "display_data",
          "data": {
            "image/png": "[encoded data removed]",
            "text/plain": [
              "<Figure size 1080x360 with 1 Axes>"
            ]
          },
          "metadata": {
            "tags": []
          }
        }
      ]
    },
    {
      "cell_type": "markdown",
      "metadata": {
        "id": "tb9lRC99Lq2n"
      },
      "source": [
        "# Comparemos los Top y los No-top"
      ]
    },
    {
      "cell_type": "markdown",
      "metadata": {
        "id": "InEJrFqQLq2o"
      },
      "source": [
        "### Buscamos si hay alguna relación evidente entre Año y duración de Canción"
      ]
    },
    {
      "cell_type": "code",
      "metadata": {
        "colab": {
          "base_uri": "https://localhost:8080/",
          "height": 541
        },
        "id": "J09STFX8Lq2p",
        "scrolled": false,
        "outputId": "fb5f6506-2a2d-453b-fc16-52aeccf39e3b"
      },
      "source": [
        "colores=['orange','blue']\n",
        "tamanios=[60,40]\n",
        "\n",
        "f1 = artists_billboard['anioNacimiento'].values\n",
        "f2 = artists_billboard['durationSeg'].values\n",
        "\n",
        "asignar=[]\n",
        "for index, row in artists_billboard.iterrows():    \n",
        "    asignar.append(colores[row['top']])\n",
        "\n",
        "plt.scatter(f1, f2, c=asignar, s=30)\n",
        "plt.axis([1960,2005,10,600])\n",
        "plt.show()"
      ],
      "execution_count": null,
      "outputs": [
        {
          "output_type": "display_data",
          "data": {
            "image/png": "[encoded data removed]",
            "text/plain": [
              "<Figure size 1152x648 with 1 Axes>"
            ]
          },
          "metadata": {
            "tags": []
          }
        }
      ]
    },
    {
      "cell_type": "markdown",
      "metadata": {
        "id": "HA5bXtBsLq2q"
      },
      "source": [
        "No perece haber ningún patron a la vista, están bastante mezclados los top de los no-top."
      ]
    },
    {
      "cell_type": "markdown",
      "metadata": {
        "id": "lZ8NnfJzLq2t"
      },
      "source": [
        "### Visualizamos las edades que agregamos"
      ]
    },
    {
      "cell_type": "code",
      "metadata": {
        "colab": {
          "base_uri": "https://localhost:8080/",
          "height": 536
        },
        "id": "f-WKhgCcHkfC",
        "outputId": "61d4c1f6-b679-4e43-f26b-a54c462dfe00"
      },
      "source": [
        "f1 = artists_billboard['edad_en_billboard'].values\n",
        "f2 = artists_billboard.index\n",
        "\n",
        "colores = ['orange','blue','green']\n",
        "\n",
        "asignar=[]\n",
        "for index, row in artists_billboard.iterrows():    \n",
        "    if (conValoresNulos[index]):\n",
        "        asignar.append(colores[2]) # verde\n",
        "    else:\n",
        "        asignar.append(colores[row['top']])\n",
        "\n",
        "plt.scatter(f1, f2, c=asignar, s=30)\n",
        "plt.axis([15,50,0,650])\n",
        "plt.show()"
      ],
      "execution_count": null,
      "outputs": [
        {
          "output_type": "display_data",
          "data": {
            "image/png": "[encoded data removed]",
            "text/plain": [
              "<Figure size 1152x648 with 1 Axes>"
            ]
          },
          "metadata": {
            "tags": []
          }
        }
      ]
    },
    {
      "cell_type": "code",
      "metadata": {
        "colab": {
          "base_uri": "https://localhost:8080/",
          "height": 271
        },
        "id": "-A4-JY_dLq2U",
        "scrolled": true,
        "outputId": "5c21df1d-cce5-43f3-ae96-2f8540fb72f6"
      },
      "source": [
        "artists_billboard.head(3)"
      ],
      "execution_count": null,
      "outputs": [
        {
          "output_type": "execute_result",
          "data": {
            "text/html": [
              "<div>\n",
              "<style scoped>\n",
              "    .dataframe tbody tr th:only-of-type {\n",
              "        vertical-align: middle;\n",
              "    }\n",
              "\n",
              "    .dataframe tbody tr th {\n",
              "        vertical-align: top;\n",
              "    }\n",
              "\n",
              "    .dataframe thead th {\n",
              "        text-align: right;\n",
              "    }\n",
              "</style>\n",
              "<table border=\"1\" class=\"dataframe\">\n",
              "  <thead>\n",
              "    <tr style=\"text-align: right;\">\n",
              "      <th></th>\n",
              "      <th>id</th>\n",
              "      <th>title</th>\n",
              "      <th>artist</th>\n",
              "      <th>mood</th>\n",
              "      <th>tempo</th>\n",
              "      <th>genre</th>\n",
              "      <th>artist_type</th>\n",
              "      <th>chart_date</th>\n",
              "      <th>top</th>\n",
              "      <th>anioNacimiento</th>\n",
              "      <th>durationSeg</th>\n",
              "      <th>edad_en_billboard</th>\n",
              "    </tr>\n",
              "  </thead>\n",
              "  <tbody>\n",
              "    <tr>\n",
              "      <th>0</th>\n",
              "      <td>0</td>\n",
              "      <td>Small Town Throwdown</td>\n",
              "      <td>BRANTLEY GILBERT featuring JUSTIN MOORE &amp; THOM...</td>\n",
              "      <td>Brooding</td>\n",
              "      <td>Medium Tempo</td>\n",
              "      <td>Traditional</td>\n",
              "      <td>Male</td>\n",
              "      <td>20140628</td>\n",
              "      <td>0</td>\n",
              "      <td>1975.0</td>\n",
              "      <td>191.0</td>\n",
              "      <td>39</td>\n",
              "    </tr>\n",
              "    <tr>\n",
              "      <th>1</th>\n",
              "      <td>1</td>\n",
              "      <td>Bang Bang</td>\n",
              "      <td>JESSIE J, ARIANA GRANDE &amp; NICKI MINAJ</td>\n",
              "      <td>Energizing</td>\n",
              "      <td>Medium Tempo</td>\n",
              "      <td>Pop</td>\n",
              "      <td>Female</td>\n",
              "      <td>20140816</td>\n",
              "      <td>0</td>\n",
              "      <td>1989.0</td>\n",
              "      <td>368.0</td>\n",
              "      <td>25</td>\n",
              "    </tr>\n",
              "    <tr>\n",
              "      <th>2</th>\n",
              "      <td>2</td>\n",
              "      <td>Timber</td>\n",
              "      <td>PITBULL featuring KE$HA</td>\n",
              "      <td>Excited</td>\n",
              "      <td>Medium Tempo</td>\n",
              "      <td>Urban</td>\n",
              "      <td>Mixed</td>\n",
              "      <td>20140118</td>\n",
              "      <td>1</td>\n",
              "      <td>1993.0</td>\n",
              "      <td>223.0</td>\n",
              "      <td>21</td>\n",
              "    </tr>\n",
              "  </tbody>\n",
              "</table>\n",
              "</div>"
            ],
            "text/plain": [
              "   id                 title  ... durationSeg edad_en_billboard\n",
              "0   0  Small Town Throwdown  ...       191.0                39\n",
              "1   1             Bang Bang  ...       368.0                25\n",
              "2   2                Timber  ...       223.0                21\n",
              "\n",
              "[3 rows x 12 columns]"
            ]
          },
          "metadata": {
            "tags": []
          },
          "execution_count": 94
        }
      ]
    },
    {
      "cell_type": "code",
      "metadata": {
        "colab": {
          "base_uri": "https://localhost:8080/",
          "height": 287
        },
        "id": "88AKg40PLq2V",
        "outputId": "c18a6a12-156f-41a9-c014-0bd667ebc1bd"
      },
      "source": [
        "artists_billboard.describe()"
      ],
      "execution_count": null,
      "outputs": [
        {
          "output_type": "execute_result",
          "data": {
            "text/html": [
              "<div>\n",
              "<style scoped>\n",
              "    .dataframe tbody tr th:only-of-type {\n",
              "        vertical-align: middle;\n",
              "    }\n",
              "\n",
              "    .dataframe tbody tr th {\n",
              "        vertical-align: top;\n",
              "    }\n",
              "\n",
              "    .dataframe thead th {\n",
              "        text-align: right;\n",
              "    }\n",
              "</style>\n",
              "<table border=\"1\" class=\"dataframe\">\n",
              "  <thead>\n",
              "    <tr style=\"text-align: right;\">\n",
              "      <th></th>\n",
              "      <th>id</th>\n",
              "      <th>chart_date</th>\n",
              "      <th>top</th>\n",
              "      <th>anioNacimiento</th>\n",
              "      <th>durationSeg</th>\n",
              "      <th>edad_en_billboard</th>\n",
              "    </tr>\n",
              "  </thead>\n",
              "  <tbody>\n",
              "    <tr>\n",
              "      <th>count</th>\n",
              "      <td>635.000000</td>\n",
              "      <td>6.350000e+02</td>\n",
              "      <td>635.000000</td>\n",
              "      <td>496.000000</td>\n",
              "      <td>635.000000</td>\n",
              "      <td>635.000000</td>\n",
              "    </tr>\n",
              "    <tr>\n",
              "      <th>mean</th>\n",
              "      <td>317.000000</td>\n",
              "      <td>2.013036e+07</td>\n",
              "      <td>0.222047</td>\n",
              "      <td>1982.570565</td>\n",
              "      <td>227.240630</td>\n",
              "      <td>29.878740</td>\n",
              "    </tr>\n",
              "    <tr>\n",
              "      <th>std</th>\n",
              "      <td>183.452991</td>\n",
              "      <td>2.617996e+04</td>\n",
              "      <td>0.415950</td>\n",
              "      <td>8.346478</td>\n",
              "      <td>84.984158</td>\n",
              "      <td>7.788374</td>\n",
              "    </tr>\n",
              "    <tr>\n",
              "      <th>min</th>\n",
              "      <td>0.000000</td>\n",
              "      <td>2.004021e+07</td>\n",
              "      <td>0.000000</td>\n",
              "      <td>1919.000000</td>\n",
              "      <td>0.000000</td>\n",
              "      <td>15.000000</td>\n",
              "    </tr>\n",
              "    <tr>\n",
              "      <th>25%</th>\n",
              "      <td>158.500000</td>\n",
              "      <td>2.014010e+07</td>\n",
              "      <td>0.000000</td>\n",
              "      <td>1978.000000</td>\n",
              "      <td>200.000000</td>\n",
              "      <td>25.000000</td>\n",
              "    </tr>\n",
              "    <tr>\n",
              "      <th>50%</th>\n",
              "      <td>317.000000</td>\n",
              "      <td>2.014051e+07</td>\n",
              "      <td>0.000000</td>\n",
              "      <td>1984.000000</td>\n",
              "      <td>232.000000</td>\n",
              "      <td>29.000000</td>\n",
              "    </tr>\n",
              "    <tr>\n",
              "      <th>75%</th>\n",
              "      <td>475.500000</td>\n",
              "      <td>2.014101e+07</td>\n",
              "      <td>0.000000</td>\n",
              "      <td>1988.000000</td>\n",
              "      <td>266.500000</td>\n",
              "      <td>35.000000</td>\n",
              "    </tr>\n",
              "    <tr>\n",
              "      <th>max</th>\n",
              "      <td>634.000000</td>\n",
              "      <td>2.015031e+07</td>\n",
              "      <td>1.000000</td>\n",
              "      <td>1999.000000</td>\n",
              "      <td>401.400000</td>\n",
              "      <td>95.000000</td>\n",
              "    </tr>\n",
              "  </tbody>\n",
              "</table>\n",
              "</div>"
            ],
            "text/plain": [
              "               id    chart_date  ...  durationSeg  edad_en_billboard\n",
              "count  635.000000  6.350000e+02  ...   635.000000         635.000000\n",
              "mean   317.000000  2.013036e+07  ...   227.240630          29.878740\n",
              "std    183.452991  2.617996e+04  ...    84.984158           7.788374\n",
              "min      0.000000  2.004021e+07  ...     0.000000          15.000000\n",
              "25%    158.500000  2.014010e+07  ...   200.000000          25.000000\n",
              "50%    317.000000  2.014051e+07  ...   232.000000          29.000000\n",
              "75%    475.500000  2.014101e+07  ...   266.500000          35.000000\n",
              "max    634.000000  2.015031e+07  ...   401.400000          95.000000\n",
              "\n",
              "[8 rows x 6 columns]"
            ]
          },
          "metadata": {
            "tags": []
          },
          "execution_count": 95
        }
      ]
    },
    {
      "cell_type": "code",
      "metadata": {
        "colab": {
          "base_uri": "https://localhost:8080/",
          "height": 408
        },
        "id": "UnPj_Bo9Lq2V",
        "outputId": "d67c969e-79a9-429c-a887-dfffe482eb7a"
      },
      "source": [
        "plt.figure(figsize=(12,6))\n",
        "sns.boxplot(x=\"artist_type\",y=\"edad_en_billboard\", hue=\"top\", data=artists_billboard)"
      ],
      "execution_count": null,
      "outputs": [
        {
          "output_type": "execute_result",
          "data": {
            "text/plain": [
              "<matplotlib.axes._subplots.AxesSubplot at 0x7f96db7f9c50>"
            ]
          },
          "metadata": {
            "tags": []
          },
          "execution_count": 96
        },
        {
          "output_type": "display_data",
          "data": {
            "image/png": "[encoded data removed]",
            "text/plain": [
              "<Figure size 864x432 with 1 Axes>"
            ]
          },
          "metadata": {
            "tags": []
          }
        }
      ]
    },
    {
      "cell_type": "markdown",
      "metadata": {
        "id": "wcDr6ZMALq2W"
      },
      "source": [
        "## Visualicemos los Atributos de entrada"
      ]
    },
    {
      "cell_type": "code",
      "metadata": {
        "colab": {
          "base_uri": "https://localhost:8080/",
          "height": 547
        },
        "id": "67-PSN9kLq2Y",
        "outputId": "13215c3d-f14f-4e8b-e5e5-cd565be9f07b"
      },
      "source": [
        "sns.factorplot('artist_type',data=artists_billboard,kind=\"count\")\n",
        "artists_billboard['artist_type'].value_counts().sort_index"
      ],
      "execution_count": null,
      "outputs": [
        {
          "output_type": "stream",
          "text": [
            "/usr/local/lib/python3.7/dist-packages/seaborn/categorical.py:3714: UserWarning: The `factorplot` function has been renamed to `catplot`. The original name will be removed in a future release. Please update your code. Note that the default `kind` in `factorplot` (`'point'`) has changed `'strip'` in `catplot`.\n",
            "  warnings.warn(msg)\n",
            "/usr/local/lib/python3.7/dist-packages/seaborn/_decorators.py:43: FutureWarning: Pass the following variable as a keyword arg: x. From version 0.12, the only valid positional argument will be `data`, and passing other arguments without an explicit keyword will result in an error or misinterpretation.\n",
            "  FutureWarning\n"
          ],
          "name": "stderr"
        },
        {
          "output_type": "execute_result",
          "data": {
            "text/plain": [
              "<bound method Series.sort_index of Male      387\n",
              "Female    153\n",
              "Mixed      95\n",
              "Name: artist_type, dtype: int64>"
            ]
          },
          "metadata": {
            "tags": []
          },
          "execution_count": 97
        },
        {
          "output_type": "display_data",
          "data": {
            "image/png": "[encoded data removed]",
            "text/plain": [
              "<Figure size 360x360 with 1 Axes>"
            ]
          },
          "metadata": {
            "tags": []
          }
        }
      ]
    },
    {
      "cell_type": "code",
      "metadata": {
        "colab": {
          "base_uri": "https://localhost:8080/",
          "height": 657
        },
        "id": "C7BeWLQMLq2Z",
        "outputId": "447841f4-fe0d-4a46-bda0-0a1745927c7a"
      },
      "source": [
        "sns.factorplot('top',data=artists_billboard,hue='artist_type',kind=\"count\")\n",
        "\n",
        "artists_billboard[['artist_type','top']].groupby(['artist_type'], as_index=False).agg(['count','sum','mean'])"
      ],
      "execution_count": null,
      "outputs": [
        {
          "output_type": "stream",
          "text": [
            "/usr/local/lib/python3.7/dist-packages/seaborn/categorical.py:3714: UserWarning: The `factorplot` function has been renamed to `catplot`. The original name will be removed in a future release. Please update your code. Note that the default `kind` in `factorplot` (`'point'`) has changed `'strip'` in `catplot`.\n",
            "  warnings.warn(msg)\n",
            "/usr/local/lib/python3.7/dist-packages/seaborn/_decorators.py:43: FutureWarning: Pass the following variable as a keyword arg: x. From version 0.12, the only valid positional argument will be `data`, and passing other arguments without an explicit keyword will result in an error or misinterpretation.\n",
            "  FutureWarning\n"
          ],
          "name": "stderr"
        },
        {
          "output_type": "execute_result",
          "data": {
            "text/html": [
              "<div>\n",
              "<style scoped>\n",
              "    .dataframe tbody tr th:only-of-type {\n",
              "        vertical-align: middle;\n",
              "    }\n",
              "\n",
              "    .dataframe tbody tr th {\n",
              "        vertical-align: top;\n",
              "    }\n",
              "\n",
              "    .dataframe thead tr th {\n",
              "        text-align: left;\n",
              "    }\n",
              "\n",
              "    .dataframe thead tr:last-of-type th {\n",
              "        text-align: right;\n",
              "    }\n",
              "</style>\n",
              "<table border=\"1\" class=\"dataframe\">\n",
              "  <thead>\n",
              "    <tr>\n",
              "      <th></th>\n",
              "      <th colspan=\"3\" halign=\"left\">top</th>\n",
              "    </tr>\n",
              "    <tr>\n",
              "      <th></th>\n",
              "      <th>count</th>\n",
              "      <th>sum</th>\n",
              "      <th>mean</th>\n",
              "    </tr>\n",
              "    <tr>\n",
              "      <th>artist_type</th>\n",
              "      <th></th>\n",
              "      <th></th>\n",
              "      <th></th>\n",
              "    </tr>\n",
              "  </thead>\n",
              "  <tbody>\n",
              "    <tr>\n",
              "      <th>Female</th>\n",
              "      <td>153</td>\n",
              "      <td>49</td>\n",
              "      <td>0.320261</td>\n",
              "    </tr>\n",
              "    <tr>\n",
              "      <th>Male</th>\n",
              "      <td>387</td>\n",
              "      <td>63</td>\n",
              "      <td>0.162791</td>\n",
              "    </tr>\n",
              "    <tr>\n",
              "      <th>Mixed</th>\n",
              "      <td>95</td>\n",
              "      <td>29</td>\n",
              "      <td>0.305263</td>\n",
              "    </tr>\n",
              "  </tbody>\n",
              "</table>\n",
              "</div>"
            ],
            "text/plain": [
              "              top              \n",
              "            count sum      mean\n",
              "artist_type                    \n",
              "Female        153  49  0.320261\n",
              "Male          387  63  0.162791\n",
              "Mixed          95  29  0.305263"
            ]
          },
          "metadata": {
            "tags": []
          },
          "execution_count": 98
        },
        {
          "output_type": "display_data",
          "data": {
            "image/png": "[encoded data removed]",
            "text/plain": [
              "<Figure size 432.125x360 with 1 Axes>"
            ]
          },
          "metadata": {
            "tags": []
          }
        }
      ]
    },
    {
      "cell_type": "code",
      "metadata": {
        "id": "ph8PnDrKLq2b",
        "colab": {
          "base_uri": "https://localhost:8080/",
          "height": 494
        },
        "outputId": "6e4ae30b-fb3d-4c4a-a0e1-5e0bc830b988"
      },
      "source": [
        "sns.factorplot('mood',data=artists_billboard,kind=\"count\", aspect=3)"
      ],
      "execution_count": null,
      "outputs": [
        {
          "output_type": "stream",
          "text": [
            "/usr/local/lib/python3.7/dist-packages/seaborn/categorical.py:3714: UserWarning: The `factorplot` function has been renamed to `catplot`. The original name will be removed in a future release. Please update your code. Note that the default `kind` in `factorplot` (`'point'`) has changed `'strip'` in `catplot`.\n",
            "  warnings.warn(msg)\n",
            "/usr/local/lib/python3.7/dist-packages/seaborn/_decorators.py:43: FutureWarning: Pass the following variable as a keyword arg: x. From version 0.12, the only valid positional argument will be `data`, and passing other arguments without an explicit keyword will result in an error or misinterpretation.\n",
            "  FutureWarning\n"
          ],
          "name": "stderr"
        },
        {
          "output_type": "execute_result",
          "data": {
            "text/plain": [
              "<seaborn.axisgrid.FacetGrid at 0x7f96db648e10>"
            ]
          },
          "metadata": {
            "tags": []
          },
          "execution_count": 99
        },
        {
          "output_type": "display_data",
          "data": {
            "image/png": "[encoded data removed]",
            "text/plain": [
              "<Figure size 1080x360 with 1 Axes>"
            ]
          },
          "metadata": {
            "tags": []
          }
        }
      ]
    },
    {
      "cell_type": "code",
      "metadata": {
        "id": "4c9jSyeHgUyl",
        "colab": {
          "base_uri": "https://localhost:8080/",
          "height": 1000
        },
        "outputId": "169835c5-fb1e-4938-c67e-86c015c85d4d"
      },
      "source": [
        "sns.factorplot('top',data=artists_billboard,hue='mood',kind=\"count\")\n",
        "artists_billboard[['mood','top']].groupby(['mood'], as_index=False).agg(['count','sum','mean'])"
      ],
      "execution_count": null,
      "outputs": [
        {
          "output_type": "stream",
          "text": [
            "/usr/local/lib/python3.7/dist-packages/seaborn/categorical.py:3714: UserWarning: The `factorplot` function has been renamed to `catplot`. The original name will be removed in a future release. Please update your code. Note that the default `kind` in `factorplot` (`'point'`) has changed `'strip'` in `catplot`.\n",
            "  warnings.warn(msg)\n",
            "/usr/local/lib/python3.7/dist-packages/seaborn/_decorators.py:43: FutureWarning: Pass the following variable as a keyword arg: x. From version 0.12, the only valid positional argument will be `data`, and passing other arguments without an explicit keyword will result in an error or misinterpretation.\n",
            "  FutureWarning\n"
          ],
          "name": "stderr"
        },
        {
          "output_type": "execute_result",
          "data": {
            "text/html": [
              "<div>\n",
              "<style scoped>\n",
              "    .dataframe tbody tr th:only-of-type {\n",
              "        vertical-align: middle;\n",
              "    }\n",
              "\n",
              "    .dataframe tbody tr th {\n",
              "        vertical-align: top;\n",
              "    }\n",
              "\n",
              "    .dataframe thead tr th {\n",
              "        text-align: left;\n",
              "    }\n",
              "\n",
              "    .dataframe thead tr:last-of-type th {\n",
              "        text-align: right;\n",
              "    }\n",
              "</style>\n",
              "<table border=\"1\" class=\"dataframe\">\n",
              "  <thead>\n",
              "    <tr>\n",
              "      <th></th>\n",
              "      <th colspan=\"3\" halign=\"left\">top</th>\n",
              "    </tr>\n",
              "    <tr>\n",
              "      <th></th>\n",
              "      <th>count</th>\n",
              "      <th>sum</th>\n",
              "      <th>mean</th>\n",
              "    </tr>\n",
              "    <tr>\n",
              "      <th>mood</th>\n",
              "      <th></th>\n",
              "      <th></th>\n",
              "      <th></th>\n",
              "    </tr>\n",
              "  </thead>\n",
              "  <tbody>\n",
              "    <tr>\n",
              "      <th>Aggressive</th>\n",
              "      <td>11</td>\n",
              "      <td>3</td>\n",
              "      <td>0.272727</td>\n",
              "    </tr>\n",
              "    <tr>\n",
              "      <th>Brooding</th>\n",
              "      <td>14</td>\n",
              "      <td>3</td>\n",
              "      <td>0.214286</td>\n",
              "    </tr>\n",
              "    <tr>\n",
              "      <th>Cool</th>\n",
              "      <td>78</td>\n",
              "      <td>27</td>\n",
              "      <td>0.346154</td>\n",
              "    </tr>\n",
              "    <tr>\n",
              "      <th>Defiant</th>\n",
              "      <td>64</td>\n",
              "      <td>5</td>\n",
              "      <td>0.078125</td>\n",
              "    </tr>\n",
              "    <tr>\n",
              "      <th>Easygoing</th>\n",
              "      <td>4</td>\n",
              "      <td>0</td>\n",
              "      <td>0.000000</td>\n",
              "    </tr>\n",
              "    <tr>\n",
              "      <th>Empowering</th>\n",
              "      <td>88</td>\n",
              "      <td>10</td>\n",
              "      <td>0.113636</td>\n",
              "    </tr>\n",
              "    <tr>\n",
              "      <th>Energizing</th>\n",
              "      <td>71</td>\n",
              "      <td>33</td>\n",
              "      <td>0.464789</td>\n",
              "    </tr>\n",
              "    <tr>\n",
              "      <th>Excited</th>\n",
              "      <td>62</td>\n",
              "      <td>19</td>\n",
              "      <td>0.306452</td>\n",
              "    </tr>\n",
              "    <tr>\n",
              "      <th>Fiery</th>\n",
              "      <td>6</td>\n",
              "      <td>1</td>\n",
              "      <td>0.166667</td>\n",
              "    </tr>\n",
              "    <tr>\n",
              "      <th>Gritty</th>\n",
              "      <td>9</td>\n",
              "      <td>2</td>\n",
              "      <td>0.222222</td>\n",
              "    </tr>\n",
              "    <tr>\n",
              "      <th>Lively</th>\n",
              "      <td>2</td>\n",
              "      <td>0</td>\n",
              "      <td>0.000000</td>\n",
              "    </tr>\n",
              "    <tr>\n",
              "      <th>Melancholy</th>\n",
              "      <td>10</td>\n",
              "      <td>0</td>\n",
              "      <td>0.000000</td>\n",
              "    </tr>\n",
              "    <tr>\n",
              "      <th>Other</th>\n",
              "      <td>1</td>\n",
              "      <td>0</td>\n",
              "      <td>0.000000</td>\n",
              "    </tr>\n",
              "    <tr>\n",
              "      <th>Peaceful</th>\n",
              "      <td>4</td>\n",
              "      <td>0</td>\n",
              "      <td>0.000000</td>\n",
              "    </tr>\n",
              "    <tr>\n",
              "      <th>Romantic</th>\n",
              "      <td>7</td>\n",
              "      <td>0</td>\n",
              "      <td>0.000000</td>\n",
              "    </tr>\n",
              "    <tr>\n",
              "      <th>Rowdy</th>\n",
              "      <td>15</td>\n",
              "      <td>3</td>\n",
              "      <td>0.200000</td>\n",
              "    </tr>\n",
              "    <tr>\n",
              "      <th>Sensual</th>\n",
              "      <td>55</td>\n",
              "      <td>17</td>\n",
              "      <td>0.309091</td>\n",
              "    </tr>\n",
              "    <tr>\n",
              "      <th>Sentimental</th>\n",
              "      <td>7</td>\n",
              "      <td>0</td>\n",
              "      <td>0.000000</td>\n",
              "    </tr>\n",
              "    <tr>\n",
              "      <th>Sophisticated</th>\n",
              "      <td>15</td>\n",
              "      <td>4</td>\n",
              "      <td>0.266667</td>\n",
              "    </tr>\n",
              "    <tr>\n",
              "      <th>Stirring</th>\n",
              "      <td>2</td>\n",
              "      <td>0</td>\n",
              "      <td>0.000000</td>\n",
              "    </tr>\n",
              "    <tr>\n",
              "      <th>Upbeat</th>\n",
              "      <td>12</td>\n",
              "      <td>0</td>\n",
              "      <td>0.000000</td>\n",
              "    </tr>\n",
              "    <tr>\n",
              "      <th>Urgent</th>\n",
              "      <td>30</td>\n",
              "      <td>8</td>\n",
              "      <td>0.266667</td>\n",
              "    </tr>\n",
              "    <tr>\n",
              "      <th>Yearning</th>\n",
              "      <td>68</td>\n",
              "      <td>6</td>\n",
              "      <td>0.088235</td>\n",
              "    </tr>\n",
              "  </tbody>\n",
              "</table>\n",
              "</div>"
            ],
            "text/plain": [
              "                top              \n",
              "              count sum      mean\n",
              "mood                             \n",
              "Aggressive       11   3  0.272727\n",
              "Brooding         14   3  0.214286\n",
              "Cool             78  27  0.346154\n",
              "Defiant          64   5  0.078125\n",
              "Easygoing         4   0  0.000000\n",
              "Empowering       88  10  0.113636\n",
              "Energizing       71  33  0.464789\n",
              "Excited          62  19  0.306452\n",
              "Fiery             6   1  0.166667\n",
              "Gritty            9   2  0.222222\n",
              "Lively            2   0  0.000000\n",
              "Melancholy       10   0  0.000000\n",
              "Other             1   0  0.000000\n",
              "Peaceful          4   0  0.000000\n",
              "Romantic          7   0  0.000000\n",
              "Rowdy            15   3  0.200000\n",
              "Sensual          55  17  0.309091\n",
              "Sentimental       7   0  0.000000\n",
              "Sophisticated    15   4  0.266667\n",
              "Stirring          2   0  0.000000\n",
              "Upbeat           12   0  0.000000\n",
              "Urgent           30   8  0.266667\n",
              "Yearning         68   6  0.088235"
            ]
          },
          "metadata": {
            "tags": []
          },
          "execution_count": 100
        },
        {
          "output_type": "display_data",
          "data": {
            "image/png": "[encoded data removed]",
            "text/plain": [
              "<Figure size 463.75x360 with 1 Axes>"
            ]
          },
          "metadata": {
            "tags": []
          }
        }
      ]
    },
    {
      "cell_type": "code",
      "metadata": {
        "id": "1Ca3kIH9Lq2e",
        "colab": {
          "base_uri": "https://localhost:8080/",
          "height": 657
        },
        "outputId": "7faad7d8-1234-471d-9f52-e3818024e805"
      },
      "source": [
        "sns.factorplot('tempo',data=artists_billboard,hue='top',kind=\"count\")\n",
        "artists_billboard[['tempo','top']].groupby(['tempo'], as_index=False).agg(['count','sum','mean'])"
      ],
      "execution_count": null,
      "outputs": [
        {
          "output_type": "stream",
          "text": [
            "/usr/local/lib/python3.7/dist-packages/seaborn/categorical.py:3714: UserWarning: The `factorplot` function has been renamed to `catplot`. The original name will be removed in a future release. Please update your code. Note that the default `kind` in `factorplot` (`'point'`) has changed `'strip'` in `catplot`.\n",
            "  warnings.warn(msg)\n",
            "/usr/local/lib/python3.7/dist-packages/seaborn/_decorators.py:43: FutureWarning: Pass the following variable as a keyword arg: x. From version 0.12, the only valid positional argument will be `data`, and passing other arguments without an explicit keyword will result in an error or misinterpretation.\n",
            "  FutureWarning\n"
          ],
          "name": "stderr"
        },
        {
          "output_type": "execute_result",
          "data": {
            "text/html": [
              "<div>\n",
              "<style scoped>\n",
              "    .dataframe tbody tr th:only-of-type {\n",
              "        vertical-align: middle;\n",
              "    }\n",
              "\n",
              "    .dataframe tbody tr th {\n",
              "        vertical-align: top;\n",
              "    }\n",
              "\n",
              "    .dataframe thead tr th {\n",
              "        text-align: left;\n",
              "    }\n",
              "\n",
              "    .dataframe thead tr:last-of-type th {\n",
              "        text-align: right;\n",
              "    }\n",
              "</style>\n",
              "<table border=\"1\" class=\"dataframe\">\n",
              "  <thead>\n",
              "    <tr>\n",
              "      <th></th>\n",
              "      <th colspan=\"3\" halign=\"left\">top</th>\n",
              "    </tr>\n",
              "    <tr>\n",
              "      <th></th>\n",
              "      <th>count</th>\n",
              "      <th>sum</th>\n",
              "      <th>mean</th>\n",
              "    </tr>\n",
              "    <tr>\n",
              "      <th>tempo</th>\n",
              "      <th></th>\n",
              "      <th></th>\n",
              "      <th></th>\n",
              "    </tr>\n",
              "  </thead>\n",
              "  <tbody>\n",
              "    <tr>\n",
              "      <th>Fast Tempo</th>\n",
              "      <td>53</td>\n",
              "      <td>12</td>\n",
              "      <td>0.226415</td>\n",
              "    </tr>\n",
              "    <tr>\n",
              "      <th>Medium Tempo</th>\n",
              "      <td>517</td>\n",
              "      <td>113</td>\n",
              "      <td>0.218569</td>\n",
              "    </tr>\n",
              "    <tr>\n",
              "      <th>Slow Tempo</th>\n",
              "      <td>65</td>\n",
              "      <td>16</td>\n",
              "      <td>0.246154</td>\n",
              "    </tr>\n",
              "  </tbody>\n",
              "</table>\n",
              "</div>"
            ],
            "text/plain": [
              "               top               \n",
              "             count  sum      mean\n",
              "tempo                            \n",
              "Fast Tempo      53   12  0.226415\n",
              "Medium Tempo   517  113  0.218569\n",
              "Slow Tempo      65   16  0.246154"
            ]
          },
          "metadata": {
            "tags": []
          },
          "execution_count": 101
        },
        {
          "output_type": "display_data",
          "data": {
            "image/png": "[encoded data removed]",
            "text/plain": [
              "<Figure size 402.375x360 with 1 Axes>"
            ]
          },
          "metadata": {
            "tags": []
          }
        }
      ]
    },
    {
      "cell_type": "code",
      "metadata": {
        "id": "F1Rq5uJALq2f",
        "colab": {
          "base_uri": "https://localhost:8080/",
          "height": 1000
        },
        "outputId": "ad3e59e8-6d52-4ae8-d582-07c218bb19fc"
      },
      "source": [
        "sns.factorplot('mood',data=artists_billboard,hue='top',kind=\"count\", aspect=3)\n",
        "artists_billboard[['mood','top']].groupby(['mood'], as_index=False).agg(['count','sum','mean'])"
      ],
      "execution_count": null,
      "outputs": [
        {
          "output_type": "stream",
          "text": [
            "/usr/local/lib/python3.7/dist-packages/seaborn/categorical.py:3714: UserWarning: The `factorplot` function has been renamed to `catplot`. The original name will be removed in a future release. Please update your code. Note that the default `kind` in `factorplot` (`'point'`) has changed `'strip'` in `catplot`.\n",
            "  warnings.warn(msg)\n",
            "/usr/local/lib/python3.7/dist-packages/seaborn/_decorators.py:43: FutureWarning: Pass the following variable as a keyword arg: x. From version 0.12, the only valid positional argument will be `data`, and passing other arguments without an explicit keyword will result in an error or misinterpretation.\n",
            "  FutureWarning\n"
          ],
          "name": "stderr"
        },
        {
          "output_type": "execute_result",
          "data": {
            "text/html": [
              "<div>\n",
              "<style scoped>\n",
              "    .dataframe tbody tr th:only-of-type {\n",
              "        vertical-align: middle;\n",
              "    }\n",
              "\n",
              "    .dataframe tbody tr th {\n",
              "        vertical-align: top;\n",
              "    }\n",
              "\n",
              "    .dataframe thead tr th {\n",
              "        text-align: left;\n",
              "    }\n",
              "\n",
              "    .dataframe thead tr:last-of-type th {\n",
              "        text-align: right;\n",
              "    }\n",
              "</style>\n",
              "<table border=\"1\" class=\"dataframe\">\n",
              "  <thead>\n",
              "    <tr>\n",
              "      <th></th>\n",
              "      <th colspan=\"3\" halign=\"left\">top</th>\n",
              "    </tr>\n",
              "    <tr>\n",
              "      <th></th>\n",
              "      <th>count</th>\n",
              "      <th>sum</th>\n",
              "      <th>mean</th>\n",
              "    </tr>\n",
              "    <tr>\n",
              "      <th>mood</th>\n",
              "      <th></th>\n",
              "      <th></th>\n",
              "      <th></th>\n",
              "    </tr>\n",
              "  </thead>\n",
              "  <tbody>\n",
              "    <tr>\n",
              "      <th>Aggressive</th>\n",
              "      <td>11</td>\n",
              "      <td>3</td>\n",
              "      <td>0.272727</td>\n",
              "    </tr>\n",
              "    <tr>\n",
              "      <th>Brooding</th>\n",
              "      <td>14</td>\n",
              "      <td>3</td>\n",
              "      <td>0.214286</td>\n",
              "    </tr>\n",
              "    <tr>\n",
              "      <th>Cool</th>\n",
              "      <td>78</td>\n",
              "      <td>27</td>\n",
              "      <td>0.346154</td>\n",
              "    </tr>\n",
              "    <tr>\n",
              "      <th>Defiant</th>\n",
              "      <td>64</td>\n",
              "      <td>5</td>\n",
              "      <td>0.078125</td>\n",
              "    </tr>\n",
              "    <tr>\n",
              "      <th>Easygoing</th>\n",
              "      <td>4</td>\n",
              "      <td>0</td>\n",
              "      <td>0.000000</td>\n",
              "    </tr>\n",
              "    <tr>\n",
              "      <th>Empowering</th>\n",
              "      <td>88</td>\n",
              "      <td>10</td>\n",
              "      <td>0.113636</td>\n",
              "    </tr>\n",
              "    <tr>\n",
              "      <th>Energizing</th>\n",
              "      <td>71</td>\n",
              "      <td>33</td>\n",
              "      <td>0.464789</td>\n",
              "    </tr>\n",
              "    <tr>\n",
              "      <th>Excited</th>\n",
              "      <td>62</td>\n",
              "      <td>19</td>\n",
              "      <td>0.306452</td>\n",
              "    </tr>\n",
              "    <tr>\n",
              "      <th>Fiery</th>\n",
              "      <td>6</td>\n",
              "      <td>1</td>\n",
              "      <td>0.166667</td>\n",
              "    </tr>\n",
              "    <tr>\n",
              "      <th>Gritty</th>\n",
              "      <td>9</td>\n",
              "      <td>2</td>\n",
              "      <td>0.222222</td>\n",
              "    </tr>\n",
              "    <tr>\n",
              "      <th>Lively</th>\n",
              "      <td>2</td>\n",
              "      <td>0</td>\n",
              "      <td>0.000000</td>\n",
              "    </tr>\n",
              "    <tr>\n",
              "      <th>Melancholy</th>\n",
              "      <td>10</td>\n",
              "      <td>0</td>\n",
              "      <td>0.000000</td>\n",
              "    </tr>\n",
              "    <tr>\n",
              "      <th>Other</th>\n",
              "      <td>1</td>\n",
              "      <td>0</td>\n",
              "      <td>0.000000</td>\n",
              "    </tr>\n",
              "    <tr>\n",
              "      <th>Peaceful</th>\n",
              "      <td>4</td>\n",
              "      <td>0</td>\n",
              "      <td>0.000000</td>\n",
              "    </tr>\n",
              "    <tr>\n",
              "      <th>Romantic</th>\n",
              "      <td>7</td>\n",
              "      <td>0</td>\n",
              "      <td>0.000000</td>\n",
              "    </tr>\n",
              "    <tr>\n",
              "      <th>Rowdy</th>\n",
              "      <td>15</td>\n",
              "      <td>3</td>\n",
              "      <td>0.200000</td>\n",
              "    </tr>\n",
              "    <tr>\n",
              "      <th>Sensual</th>\n",
              "      <td>55</td>\n",
              "      <td>17</td>\n",
              "      <td>0.309091</td>\n",
              "    </tr>\n",
              "    <tr>\n",
              "      <th>Sentimental</th>\n",
              "      <td>7</td>\n",
              "      <td>0</td>\n",
              "      <td>0.000000</td>\n",
              "    </tr>\n",
              "    <tr>\n",
              "      <th>Sophisticated</th>\n",
              "      <td>15</td>\n",
              "      <td>4</td>\n",
              "      <td>0.266667</td>\n",
              "    </tr>\n",
              "    <tr>\n",
              "      <th>Stirring</th>\n",
              "      <td>2</td>\n",
              "      <td>0</td>\n",
              "      <td>0.000000</td>\n",
              "    </tr>\n",
              "    <tr>\n",
              "      <th>Upbeat</th>\n",
              "      <td>12</td>\n",
              "      <td>0</td>\n",
              "      <td>0.000000</td>\n",
              "    </tr>\n",
              "    <tr>\n",
              "      <th>Urgent</th>\n",
              "      <td>30</td>\n",
              "      <td>8</td>\n",
              "      <td>0.266667</td>\n",
              "    </tr>\n",
              "    <tr>\n",
              "      <th>Yearning</th>\n",
              "      <td>68</td>\n",
              "      <td>6</td>\n",
              "      <td>0.088235</td>\n",
              "    </tr>\n",
              "  </tbody>\n",
              "</table>\n",
              "</div>"
            ],
            "text/plain": [
              "                top              \n",
              "              count sum      mean\n",
              "mood                             \n",
              "Aggressive       11   3  0.272727\n",
              "Brooding         14   3  0.214286\n",
              "Cool             78  27  0.346154\n",
              "Defiant          64   5  0.078125\n",
              "Easygoing         4   0  0.000000\n",
              "Empowering       88  10  0.113636\n",
              "Energizing       71  33  0.464789\n",
              "Excited          62  19  0.306452\n",
              "Fiery             6   1  0.166667\n",
              "Gritty            9   2  0.222222\n",
              "Lively            2   0  0.000000\n",
              "Melancholy       10   0  0.000000\n",
              "Other             1   0  0.000000\n",
              "Peaceful          4   0  0.000000\n",
              "Romantic          7   0  0.000000\n",
              "Rowdy            15   3  0.200000\n",
              "Sensual          55  17  0.309091\n",
              "Sentimental       7   0  0.000000\n",
              "Sophisticated    15   4  0.266667\n",
              "Stirring          2   0  0.000000\n",
              "Upbeat           12   0  0.000000\n",
              "Urgent           30   8  0.266667\n",
              "Yearning         68   6  0.088235"
            ]
          },
          "metadata": {
            "tags": []
          },
          "execution_count": 102
        },
        {
          "output_type": "display_data",
          "data": {
            "image/png": "[encoded data removed]",
            "text/plain": [
              "<Figure size 1122.38x360 with 1 Axes>"
            ]
          },
          "metadata": {
            "tags": []
          }
        }
      ]
    },
    {
      "cell_type": "code",
      "metadata": {
        "id": "N_mvsdBvLq2g",
        "colab": {
          "base_uri": "https://localhost:8080/",
          "height": 837
        },
        "outputId": "ec48fac1-5bb3-43c8-b836-a9e0e6d241ca"
      },
      "source": [
        "sns.factorplot('genre',data=artists_billboard,kind=\"count\", aspect=3)\n",
        "artists_billboard[['genre','top']].groupby(['genre'], as_index=False).agg(['count','sum','mean'])"
      ],
      "execution_count": null,
      "outputs": [
        {
          "output_type": "stream",
          "text": [
            "/usr/local/lib/python3.7/dist-packages/seaborn/categorical.py:3714: UserWarning: The `factorplot` function has been renamed to `catplot`. The original name will be removed in a future release. Please update your code. Note that the default `kind` in `factorplot` (`'point'`) has changed `'strip'` in `catplot`.\n",
            "  warnings.warn(msg)\n",
            "/usr/local/lib/python3.7/dist-packages/seaborn/_decorators.py:43: FutureWarning: Pass the following variable as a keyword arg: x. From version 0.12, the only valid positional argument will be `data`, and passing other arguments without an explicit keyword will result in an error or misinterpretation.\n",
            "  FutureWarning\n"
          ],
          "name": "stderr"
        },
        {
          "output_type": "execute_result",
          "data": {
            "text/html": [
              "<div>\n",
              "<style scoped>\n",
              "    .dataframe tbody tr th:only-of-type {\n",
              "        vertical-align: middle;\n",
              "    }\n",
              "\n",
              "    .dataframe tbody tr th {\n",
              "        vertical-align: top;\n",
              "    }\n",
              "\n",
              "    .dataframe thead tr th {\n",
              "        text-align: left;\n",
              "    }\n",
              "\n",
              "    .dataframe thead tr:last-of-type th {\n",
              "        text-align: right;\n",
              "    }\n",
              "</style>\n",
              "<table border=\"1\" class=\"dataframe\">\n",
              "  <thead>\n",
              "    <tr>\n",
              "      <th></th>\n",
              "      <th colspan=\"3\" halign=\"left\">top</th>\n",
              "    </tr>\n",
              "    <tr>\n",
              "      <th></th>\n",
              "      <th>count</th>\n",
              "      <th>sum</th>\n",
              "      <th>mean</th>\n",
              "    </tr>\n",
              "    <tr>\n",
              "      <th>genre</th>\n",
              "      <th></th>\n",
              "      <th></th>\n",
              "      <th></th>\n",
              "    </tr>\n",
              "  </thead>\n",
              "  <tbody>\n",
              "    <tr>\n",
              "      <th>Alternative &amp; Punk</th>\n",
              "      <td>60</td>\n",
              "      <td>5</td>\n",
              "      <td>0.083333</td>\n",
              "    </tr>\n",
              "    <tr>\n",
              "      <th>Electronica</th>\n",
              "      <td>27</td>\n",
              "      <td>2</td>\n",
              "      <td>0.074074</td>\n",
              "    </tr>\n",
              "    <tr>\n",
              "      <th>Jazz</th>\n",
              "      <td>2</td>\n",
              "      <td>0</td>\n",
              "      <td>0.000000</td>\n",
              "    </tr>\n",
              "    <tr>\n",
              "      <th>Other</th>\n",
              "      <td>12</td>\n",
              "      <td>2</td>\n",
              "      <td>0.166667</td>\n",
              "    </tr>\n",
              "    <tr>\n",
              "      <th>Pop</th>\n",
              "      <td>188</td>\n",
              "      <td>60</td>\n",
              "      <td>0.319149</td>\n",
              "    </tr>\n",
              "    <tr>\n",
              "      <th>Rock</th>\n",
              "      <td>13</td>\n",
              "      <td>0</td>\n",
              "      <td>0.000000</td>\n",
              "    </tr>\n",
              "    <tr>\n",
              "      <th>Soundtrack</th>\n",
              "      <td>5</td>\n",
              "      <td>0</td>\n",
              "      <td>0.000000</td>\n",
              "    </tr>\n",
              "    <tr>\n",
              "      <th>Traditional</th>\n",
              "      <td>113</td>\n",
              "      <td>1</td>\n",
              "      <td>0.008850</td>\n",
              "    </tr>\n",
              "    <tr>\n",
              "      <th>Urban</th>\n",
              "      <td>215</td>\n",
              "      <td>71</td>\n",
              "      <td>0.330233</td>\n",
              "    </tr>\n",
              "  </tbody>\n",
              "</table>\n",
              "</div>"
            ],
            "text/plain": [
              "                     top              \n",
              "                   count sum      mean\n",
              "genre                                 \n",
              "Alternative & Punk    60   5  0.083333\n",
              "Electronica           27   2  0.074074\n",
              "Jazz                   2   0  0.000000\n",
              "Other                 12   2  0.166667\n",
              "Pop                  188  60  0.319149\n",
              "Rock                  13   0  0.000000\n",
              "Soundtrack             5   0  0.000000\n",
              "Traditional          113   1  0.008850\n",
              "Urban                215  71  0.330233"
            ]
          },
          "metadata": {
            "tags": []
          },
          "execution_count": 103
        },
        {
          "output_type": "display_data",
          "data": {
            "image/png": "[encoded data removed]",
            "text/plain": [
              "<Figure size 1080x360 with 1 Axes>"
            ]
          },
          "metadata": {
            "tags": []
          }
        }
      ]
    },
    {
      "cell_type": "code",
      "metadata": {
        "id": "VqQNPD_Ydvbk"
      },
      "source": [
        "# Mood Mapping \n",
        "artists_billboard['moodEncoded'] = artists_billboard['mood'].map( {'Energizing': 6, \n",
        "                                        'Empowering': 6,\n",
        "                                        'Cool': 5, \n",
        "                                        'Yearning': 4, # anhelo, deseo, ansia\n",
        "                                        'Excited': 5, #emocionado\n",
        "                                        'Defiant': 3, \n",
        "                                        'Sensual': 2, \n",
        "                                        'Gritty': 3, #coraje \n",
        "                                        'Sophisticated': 4,\n",
        "                                        'Aggressive': 4, # provocativo\n",
        "                                        'Fiery': 4, #caracter fuerte\n",
        "                                        'Urgent': 3, \n",
        "                                        'Rowdy': 4, #ruidoso alboroto\n",
        "                                        'Sentimental': 4,\n",
        "                                        'Easygoing': 1, # sencillo\n",
        "                                        'Melancholy': 4, \n",
        "                                        'Romantic': 2, \n",
        "                                        'Peaceful': 1, \n",
        "                                        'Brooding': 4, # melancolico\n",
        "                                        'Upbeat': 5, #optimista alegre\n",
        "                                        'Stirring': 5, #emocionante\n",
        "                                        'Lively': 5, #animado\n",
        "                                        'Other': 0,'':0} ).astype(int)"
      ],
      "execution_count": null,
      "outputs": []
    },
    {
      "cell_type": "code",
      "metadata": {
        "id": "fXv-v1NvdvqF"
      },
      "source": [
        "# Tempo Mapping \n",
        "artists_billboard['tempoEncoded'] = artists_billboard['tempo'].map( {'Fast Tempo': 0, 'Medium Tempo': 2, 'Slow Tempo': 1, '': 0} ).astype(int)"
      ],
      "execution_count": null,
      "outputs": []
    },
    {
      "cell_type": "code",
      "metadata": {
        "id": "OGxxCoNSdvvY"
      },
      "source": [
        "# Genre Mapping \n",
        "artists_billboard['genreEncoded'] = artists_billboard['genre'].map( {'Urban': 4, \n",
        "                                          'Pop': 3, \n",
        "                                          'Traditional': 2, \n",
        "                                          'Alternative & Punk': 1,\n",
        "                                         'Electronica': 1, \n",
        "                                          'Rock': 1, \n",
        "                                          'Soundtrack': 0, \n",
        "                                          'Jazz': 0,\n",
        "                                          'Other':0,'':0} \n",
        "                                       ).astype(int)"
      ],
      "execution_count": null,
      "outputs": []
    },
    {
      "cell_type": "code",
      "metadata": {
        "id": "sU-f6Baudvyk"
      },
      "source": [
        "# artist_type Mapping \n",
        "artists_billboard['artist_typeEncoded'] = artists_billboard['artist_type'].map( {'Female': 2, 'Male': 3, 'Mixed': 1, '': 0} ).astype(int)\n"
      ],
      "execution_count": null,
      "outputs": []
    },
    {
      "cell_type": "code",
      "metadata": {
        "id": "9YZlRkXcdv1n"
      },
      "source": [
        "# Mapping edad en la que llegaron al billboard\n",
        "artists_billboard.loc[ artists_billboard['edad_en_billboard'] <= 21, 'edadEncoded'] \t\t\t\t\t       = 0\n",
        "artists_billboard.loc[(artists_billboard['edad_en_billboard'] > 21) & (artists_billboard['edad_en_billboard'] <= 26), 'edadEncoded'] = 1\n",
        "artists_billboard.loc[(artists_billboard['edad_en_billboard'] > 26) & (artists_billboard['edad_en_billboard'] <= 30), 'edadEncoded'] = 2\n",
        "artists_billboard.loc[(artists_billboard['edad_en_billboard'] > 30) & (artists_billboard['edad_en_billboard'] <= 40), 'edadEncoded'] = 3\n",
        "artists_billboard.loc[ artists_billboard['edad_en_billboard'] > 40, 'edadEncoded'] = 4"
      ],
      "execution_count": null,
      "outputs": []
    },
    {
      "cell_type": "code",
      "metadata": {
        "id": "M5nNI_C0dv4-"
      },
      "source": [
        "# Mapping Song Duration\n",
        "artists_billboard.loc[ artists_billboard['durationSeg'] <= 150, 'durationEncoded'] \t\t\t\t\t       = 0\n",
        "artists_billboard.loc[(artists_billboard['durationSeg'] > 150) & (artists_billboard['durationSeg'] <= 180), 'durationEncoded'] = 1\n",
        "artists_billboard.loc[(artists_billboard['durationSeg'] > 180) & (artists_billboard['durationSeg'] <= 210), 'durationEncoded'] = 2\n",
        "artists_billboard.loc[(artists_billboard['durationSeg'] > 210) & (artists_billboard['durationSeg'] <= 240), 'durationEncoded'] = 3\n",
        "artists_billboard.loc[(artists_billboard['durationSeg'] > 240) & (artists_billboard['durationSeg'] <= 270), 'durationEncoded'] = 4\n",
        "artists_billboard.loc[(artists_billboard['durationSeg'] > 270) & (artists_billboard['durationSeg'] <= 300), 'durationEncoded'] = 5\n",
        "artists_billboard.loc[ artists_billboard['durationSeg'] > 300, 'durationEncoded'] = 6"
      ],
      "execution_count": null,
      "outputs": []
    },
    {
      "cell_type": "code",
      "metadata": {
        "id": "Um6cumRzeT3r"
      },
      "source": [
        "drop_elements = ['id','title','artist','mood','tempo','genre','artist_type','chart_date','anioNacimiento','durationSeg','edad_en_billboard']\n",
        "artists_encoded = artists_billboard.drop(drop_elements, axis = 1)"
      ],
      "execution_count": null,
      "outputs": []
    },
    {
      "cell_type": "markdown",
      "metadata": {
        "id": "PxbAFgdOHkfd"
      },
      "source": [
        "### Analizamos nuestros datos de Entrada Categóricos"
      ]
    },
    {
      "cell_type": "code",
      "metadata": {
        "id": "coxPEBd0eUAT",
        "colab": {
          "base_uri": "https://localhost:8080/",
          "height": 347
        },
        "outputId": "636cc613-c235-4ef6-cb69-73d58a49b189"
      },
      "source": [
        "artists_encoded.head(10)"
      ],
      "execution_count": null,
      "outputs": [
        {
          "output_type": "execute_result",
          "data": {
            "text/html": [
              "<div>\n",
              "<style scoped>\n",
              "    .dataframe tbody tr th:only-of-type {\n",
              "        vertical-align: middle;\n",
              "    }\n",
              "\n",
              "    .dataframe tbody tr th {\n",
              "        vertical-align: top;\n",
              "    }\n",
              "\n",
              "    .dataframe thead th {\n",
              "        text-align: right;\n",
              "    }\n",
              "</style>\n",
              "<table border=\"1\" class=\"dataframe\">\n",
              "  <thead>\n",
              "    <tr style=\"text-align: right;\">\n",
              "      <th></th>\n",
              "      <th>top</th>\n",
              "      <th>moodEncoded</th>\n",
              "      <th>tempoEncoded</th>\n",
              "      <th>genreEncoded</th>\n",
              "      <th>artist_typeEncoded</th>\n",
              "      <th>edadEncoded</th>\n",
              "      <th>durationEncoded</th>\n",
              "    </tr>\n",
              "  </thead>\n",
              "  <tbody>\n",
              "    <tr>\n",
              "      <th>0</th>\n",
              "      <td>0</td>\n",
              "      <td>4</td>\n",
              "      <td>2</td>\n",
              "      <td>2</td>\n",
              "      <td>3</td>\n",
              "      <td>3.0</td>\n",
              "      <td>2.0</td>\n",
              "    </tr>\n",
              "    <tr>\n",
              "      <th>1</th>\n",
              "      <td>0</td>\n",
              "      <td>6</td>\n",
              "      <td>2</td>\n",
              "      <td>3</td>\n",
              "      <td>2</td>\n",
              "      <td>1.0</td>\n",
              "      <td>6.0</td>\n",
              "    </tr>\n",
              "    <tr>\n",
              "      <th>2</th>\n",
              "      <td>1</td>\n",
              "      <td>5</td>\n",
              "      <td>2</td>\n",
              "      <td>4</td>\n",
              "      <td>1</td>\n",
              "      <td>0.0</td>\n",
              "      <td>3.0</td>\n",
              "    </tr>\n",
              "    <tr>\n",
              "      <th>3</th>\n",
              "      <td>0</td>\n",
              "      <td>4</td>\n",
              "      <td>2</td>\n",
              "      <td>1</td>\n",
              "      <td>3</td>\n",
              "      <td>1.0</td>\n",
              "      <td>2.0</td>\n",
              "    </tr>\n",
              "    <tr>\n",
              "      <th>4</th>\n",
              "      <td>0</td>\n",
              "      <td>4</td>\n",
              "      <td>2</td>\n",
              "      <td>2</td>\n",
              "      <td>2</td>\n",
              "      <td>3.0</td>\n",
              "      <td>3.0</td>\n",
              "    </tr>\n",
              "    <tr>\n",
              "      <th>5</th>\n",
              "      <td>0</td>\n",
              "      <td>5</td>\n",
              "      <td>2</td>\n",
              "      <td>2</td>\n",
              "      <td>3</td>\n",
              "      <td>1.0</td>\n",
              "      <td>3.0</td>\n",
              "    </tr>\n",
              "    <tr>\n",
              "      <th>6</th>\n",
              "      <td>1</td>\n",
              "      <td>5</td>\n",
              "      <td>1</td>\n",
              "      <td>4</td>\n",
              "      <td>2</td>\n",
              "      <td>2.0</td>\n",
              "      <td>0.0</td>\n",
              "    </tr>\n",
              "    <tr>\n",
              "      <th>7</th>\n",
              "      <td>0</td>\n",
              "      <td>3</td>\n",
              "      <td>0</td>\n",
              "      <td>3</td>\n",
              "      <td>3</td>\n",
              "      <td>4.0</td>\n",
              "      <td>6.0</td>\n",
              "    </tr>\n",
              "    <tr>\n",
              "      <th>8</th>\n",
              "      <td>0</td>\n",
              "      <td>4</td>\n",
              "      <td>2</td>\n",
              "      <td>4</td>\n",
              "      <td>2</td>\n",
              "      <td>4.0</td>\n",
              "      <td>2.0</td>\n",
              "    </tr>\n",
              "    <tr>\n",
              "      <th>9</th>\n",
              "      <td>0</td>\n",
              "      <td>4</td>\n",
              "      <td>2</td>\n",
              "      <td>1</td>\n",
              "      <td>3</td>\n",
              "      <td>3.0</td>\n",
              "      <td>6.0</td>\n",
              "    </tr>\n",
              "  </tbody>\n",
              "</table>\n",
              "</div>"
            ],
            "text/plain": [
              "   top  moodEncoded  ...  edadEncoded  durationEncoded\n",
              "0    0            4  ...          3.0              2.0\n",
              "1    0            6  ...          1.0              6.0\n",
              "2    1            5  ...          0.0              3.0\n",
              "3    0            4  ...          1.0              2.0\n",
              "4    0            4  ...          3.0              3.0\n",
              "5    0            5  ...          1.0              3.0\n",
              "6    1            5  ...          2.0              0.0\n",
              "7    0            3  ...          4.0              6.0\n",
              "8    0            4  ...          4.0              2.0\n",
              "9    0            4  ...          3.0              6.0\n",
              "\n",
              "[10 rows x 7 columns]"
            ]
          },
          "metadata": {
            "tags": []
          },
          "execution_count": 112
        }
      ]
    },
    {
      "cell_type": "code",
      "metadata": {
        "id": "xFaWGyt1eUFz",
        "colab": {
          "base_uri": "https://localhost:8080/",
          "height": 287
        },
        "outputId": "53f294c3-42df-403d-cc04-4542f16420a3"
      },
      "source": [
        "artists_encoded.describe()"
      ],
      "execution_count": null,
      "outputs": [
        {
          "output_type": "execute_result",
          "data": {
            "text/html": [
              "<div>\n",
              "<style scoped>\n",
              "    .dataframe tbody tr th:only-of-type {\n",
              "        vertical-align: middle;\n",
              "    }\n",
              "\n",
              "    .dataframe tbody tr th {\n",
              "        vertical-align: top;\n",
              "    }\n",
              "\n",
              "    .dataframe thead th {\n",
              "        text-align: right;\n",
              "    }\n",
              "</style>\n",
              "<table border=\"1\" class=\"dataframe\">\n",
              "  <thead>\n",
              "    <tr style=\"text-align: right;\">\n",
              "      <th></th>\n",
              "      <th>top</th>\n",
              "      <th>moodEncoded</th>\n",
              "      <th>tempoEncoded</th>\n",
              "      <th>genreEncoded</th>\n",
              "      <th>artist_typeEncoded</th>\n",
              "      <th>edadEncoded</th>\n",
              "      <th>durationEncoded</th>\n",
              "    </tr>\n",
              "  </thead>\n",
              "  <tbody>\n",
              "    <tr>\n",
              "      <th>count</th>\n",
              "      <td>635.000000</td>\n",
              "      <td>635.000000</td>\n",
              "      <td>635.000000</td>\n",
              "      <td>635.000000</td>\n",
              "      <td>635.000000</td>\n",
              "      <td>635.000000</td>\n",
              "      <td>635.000000</td>\n",
              "    </tr>\n",
              "    <tr>\n",
              "      <th>mean</th>\n",
              "      <td>0.222047</td>\n",
              "      <td>4.344882</td>\n",
              "      <td>1.730709</td>\n",
              "      <td>2.755906</td>\n",
              "      <td>2.459843</td>\n",
              "      <td>2.031496</td>\n",
              "      <td>3.179528</td>\n",
              "    </tr>\n",
              "    <tr>\n",
              "      <th>std</th>\n",
              "      <td>0.415950</td>\n",
              "      <td>1.350003</td>\n",
              "      <td>0.603553</td>\n",
              "      <td>1.165463</td>\n",
              "      <td>0.740583</td>\n",
              "      <td>1.145124</td>\n",
              "      <td>1.775017</td>\n",
              "    </tr>\n",
              "    <tr>\n",
              "      <th>min</th>\n",
              "      <td>0.000000</td>\n",
              "      <td>0.000000</td>\n",
              "      <td>0.000000</td>\n",
              "      <td>0.000000</td>\n",
              "      <td>1.000000</td>\n",
              "      <td>0.000000</td>\n",
              "      <td>0.000000</td>\n",
              "    </tr>\n",
              "    <tr>\n",
              "      <th>25%</th>\n",
              "      <td>0.000000</td>\n",
              "      <td>3.000000</td>\n",
              "      <td>2.000000</td>\n",
              "      <td>2.000000</td>\n",
              "      <td>2.000000</td>\n",
              "      <td>1.000000</td>\n",
              "      <td>2.000000</td>\n",
              "    </tr>\n",
              "    <tr>\n",
              "      <th>50%</th>\n",
              "      <td>0.000000</td>\n",
              "      <td>4.000000</td>\n",
              "      <td>2.000000</td>\n",
              "      <td>3.000000</td>\n",
              "      <td>3.000000</td>\n",
              "      <td>2.000000</td>\n",
              "      <td>3.000000</td>\n",
              "    </tr>\n",
              "    <tr>\n",
              "      <th>75%</th>\n",
              "      <td>0.000000</td>\n",
              "      <td>5.500000</td>\n",
              "      <td>2.000000</td>\n",
              "      <td>4.000000</td>\n",
              "      <td>3.000000</td>\n",
              "      <td>3.000000</td>\n",
              "      <td>4.000000</td>\n",
              "    </tr>\n",
              "    <tr>\n",
              "      <th>max</th>\n",
              "      <td>1.000000</td>\n",
              "      <td>6.000000</td>\n",
              "      <td>2.000000</td>\n",
              "      <td>4.000000</td>\n",
              "      <td>3.000000</td>\n",
              "      <td>4.000000</td>\n",
              "      <td>6.000000</td>\n",
              "    </tr>\n",
              "  </tbody>\n",
              "</table>\n",
              "</div>"
            ],
            "text/plain": [
              "              top  moodEncoded  ...  edadEncoded  durationEncoded\n",
              "count  635.000000   635.000000  ...   635.000000       635.000000\n",
              "mean     0.222047     4.344882  ...     2.031496         3.179528\n",
              "std      0.415950     1.350003  ...     1.145124         1.775017\n",
              "min      0.000000     0.000000  ...     0.000000         0.000000\n",
              "25%      0.000000     3.000000  ...     1.000000         2.000000\n",
              "50%      0.000000     4.000000  ...     2.000000         3.000000\n",
              "75%      0.000000     5.500000  ...     3.000000         4.000000\n",
              "max      1.000000     6.000000  ...     4.000000         6.000000\n",
              "\n",
              "[8 rows x 7 columns]"
            ]
          },
          "metadata": {
            "tags": []
          },
          "execution_count": 113
        }
      ]
    },
    {
      "cell_type": "code",
      "metadata": {
        "id": "CDZErokQeeqY",
        "colab": {
          "base_uri": "https://localhost:8080/",
          "height": 750
        },
        "outputId": "b4da89ed-3b94-4ace-fa05-93cd5f07ded6"
      },
      "source": [
        "colormap = plt.cm.viridis\n",
        "plt.figure(figsize=(12,12))\n",
        "plt.title('Pearson Correlation of Features', y=1.05, size=15)\n",
        "sns.heatmap(artists_encoded.astype(float).corr(),linewidths=0.1,vmax=1.0, square=True, cmap=colormap, linecolor='white', annot=True)"
      ],
      "execution_count": null,
      "outputs": [
        {
          "output_type": "execute_result",
          "data": {
            "text/plain": [
              "<matplotlib.axes._subplots.AxesSubplot at 0x7f96db8c19d0>"
            ]
          },
          "metadata": {
            "tags": []
          },
          "execution_count": 114
        },
        {
          "output_type": "display_data",
          "data": {
            "image/png": "[encoded data removed]",
            "text/plain": [
              "<Figure size 864x864 with 2 Axes>"
            ]
          },
          "metadata": {
            "tags": []
          }
        }
      ]
    },
    {
      "cell_type": "code",
      "metadata": {
        "id": "bJbZjW4SHkfe"
      },
      "source": [
        "from sklearn.feature_selection import SelectKBest"
      ],
      "execution_count": null,
      "outputs": []
    },
    {
      "cell_type": "code",
      "metadata": {
        "colab": {
          "base_uri": "https://localhost:8080/"
        },
        "id": "UjhmjfamHkfo",
        "outputId": "8fe21cb7-012b-4ebe-abdf-264eea26b478"
      },
      "source": [
        "X=artists_encoded.drop(['top'], axis=1)\n",
        "y=artists_encoded['top']\n",
        "\n",
        "best=SelectKBest(k=3)\n",
        "X_new = best.fit_transform(X, y)\n",
        "X_new.shape\n",
        "selected = best.get_support(indices=True)\n",
        "print(X.columns[selected])"
      ],
      "execution_count": null,
      "outputs": [
        {
          "output_type": "stream",
          "text": [
            "Index(['genreEncoded', 'artist_typeEncoded', 'edadEncoded'], dtype='object')\n"
          ],
          "name": "stdout"
        }
      ]
    },
    {
      "cell_type": "code",
      "metadata": {
        "id": "mxWFM4-ieezw",
        "colab": {
          "base_uri": "https://localhost:8080/",
          "height": 257
        },
        "outputId": "88df5472-acd3-408c-f2f9-642692b94ad8"
      },
      "source": [
        "artists_encoded[['genreEncoded', 'top']].groupby(['genreEncoded'], as_index=False).agg(['mean', 'count', 'sum'])"
      ],
      "execution_count": null,
      "outputs": [
        {
          "output_type": "execute_result",
          "data": {
            "text/html": [
              "<div>\n",
              "<style scoped>\n",
              "    .dataframe tbody tr th:only-of-type {\n",
              "        vertical-align: middle;\n",
              "    }\n",
              "\n",
              "    .dataframe tbody tr th {\n",
              "        vertical-align: top;\n",
              "    }\n",
              "\n",
              "    .dataframe thead tr th {\n",
              "        text-align: left;\n",
              "    }\n",
              "\n",
              "    .dataframe thead tr:last-of-type th {\n",
              "        text-align: right;\n",
              "    }\n",
              "</style>\n",
              "<table border=\"1\" class=\"dataframe\">\n",
              "  <thead>\n",
              "    <tr>\n",
              "      <th></th>\n",
              "      <th colspan=\"3\" halign=\"left\">top</th>\n",
              "    </tr>\n",
              "    <tr>\n",
              "      <th></th>\n",
              "      <th>mean</th>\n",
              "      <th>count</th>\n",
              "      <th>sum</th>\n",
              "    </tr>\n",
              "    <tr>\n",
              "      <th>genreEncoded</th>\n",
              "      <th></th>\n",
              "      <th></th>\n",
              "      <th></th>\n",
              "    </tr>\n",
              "  </thead>\n",
              "  <tbody>\n",
              "    <tr>\n",
              "      <th>0</th>\n",
              "      <td>0.105263</td>\n",
              "      <td>19</td>\n",
              "      <td>2</td>\n",
              "    </tr>\n",
              "    <tr>\n",
              "      <th>1</th>\n",
              "      <td>0.070000</td>\n",
              "      <td>100</td>\n",
              "      <td>7</td>\n",
              "    </tr>\n",
              "    <tr>\n",
              "      <th>2</th>\n",
              "      <td>0.008850</td>\n",
              "      <td>113</td>\n",
              "      <td>1</td>\n",
              "    </tr>\n",
              "    <tr>\n",
              "      <th>3</th>\n",
              "      <td>0.319149</td>\n",
              "      <td>188</td>\n",
              "      <td>60</td>\n",
              "    </tr>\n",
              "    <tr>\n",
              "      <th>4</th>\n",
              "      <td>0.330233</td>\n",
              "      <td>215</td>\n",
              "      <td>71</td>\n",
              "    </tr>\n",
              "  </tbody>\n",
              "</table>\n",
              "</div>"
            ],
            "text/plain": [
              "                   top          \n",
              "                  mean count sum\n",
              "genreEncoded                    \n",
              "0             0.105263    19   2\n",
              "1             0.070000   100   7\n",
              "2             0.008850   113   1\n",
              "3             0.319149   188  60\n",
              "4             0.330233   215  71"
            ]
          },
          "metadata": {
            "tags": []
          },
          "execution_count": 122
        }
      ]
    },
    {
      "cell_type": "code",
      "metadata": {
        "id": "gzTJErdIeiOB",
        "colab": {
          "base_uri": "https://localhost:8080/",
          "height": 197
        },
        "outputId": "c49dca4c-c211-438f-a148-fb4541f6f330"
      },
      "source": [
        "artists_encoded[['artist_typeEncoded', 'top']].groupby(['artist_typeEncoded'], as_index=False).agg(['mean', 'count', 'sum'])"
      ],
      "execution_count": null,
      "outputs": [
        {
          "output_type": "execute_result",
          "data": {
            "text/html": [
              "<div>\n",
              "<style scoped>\n",
              "    .dataframe tbody tr th:only-of-type {\n",
              "        vertical-align: middle;\n",
              "    }\n",
              "\n",
              "    .dataframe tbody tr th {\n",
              "        vertical-align: top;\n",
              "    }\n",
              "\n",
              "    .dataframe thead tr th {\n",
              "        text-align: left;\n",
              "    }\n",
              "\n",
              "    .dataframe thead tr:last-of-type th {\n",
              "        text-align: right;\n",
              "    }\n",
              "</style>\n",
              "<table border=\"1\" class=\"dataframe\">\n",
              "  <thead>\n",
              "    <tr>\n",
              "      <th></th>\n",
              "      <th colspan=\"3\" halign=\"left\">top</th>\n",
              "    </tr>\n",
              "    <tr>\n",
              "      <th></th>\n",
              "      <th>mean</th>\n",
              "      <th>count</th>\n",
              "      <th>sum</th>\n",
              "    </tr>\n",
              "    <tr>\n",
              "      <th>artist_typeEncoded</th>\n",
              "      <th></th>\n",
              "      <th></th>\n",
              "      <th></th>\n",
              "    </tr>\n",
              "  </thead>\n",
              "  <tbody>\n",
              "    <tr>\n",
              "      <th>1</th>\n",
              "      <td>0.305263</td>\n",
              "      <td>95</td>\n",
              "      <td>29</td>\n",
              "    </tr>\n",
              "    <tr>\n",
              "      <th>2</th>\n",
              "      <td>0.320261</td>\n",
              "      <td>153</td>\n",
              "      <td>49</td>\n",
              "    </tr>\n",
              "    <tr>\n",
              "      <th>3</th>\n",
              "      <td>0.162791</td>\n",
              "      <td>387</td>\n",
              "      <td>63</td>\n",
              "    </tr>\n",
              "  </tbody>\n",
              "</table>\n",
              "</div>"
            ],
            "text/plain": [
              "                         top          \n",
              "                        mean count sum\n",
              "artist_typeEncoded                    \n",
              "1                   0.305263    95  29\n",
              "2                   0.320261   153  49\n",
              "3                   0.162791   387  63"
            ]
          },
          "metadata": {
            "tags": []
          },
          "execution_count": 50
        }
      ]
    },
    {
      "cell_type": "code",
      "metadata": {
        "id": "P9a6d0QneiWs",
        "colab": {
          "base_uri": "https://localhost:8080/",
          "height": 257
        },
        "outputId": "1cc37dd3-8b0f-433d-dfe1-b9f7905210d2"
      },
      "source": [
        "artists_encoded[['genreEncoded', 'top']].groupby(['genreEncoded'], as_index=False).agg(['mean', 'count', 'sum'])"
      ],
      "execution_count": null,
      "outputs": [
        {
          "output_type": "execute_result",
          "data": {
            "text/html": [
              "<div>\n",
              "<style scoped>\n",
              "    .dataframe tbody tr th:only-of-type {\n",
              "        vertical-align: middle;\n",
              "    }\n",
              "\n",
              "    .dataframe tbody tr th {\n",
              "        vertical-align: top;\n",
              "    }\n",
              "\n",
              "    .dataframe thead tr th {\n",
              "        text-align: left;\n",
              "    }\n",
              "\n",
              "    .dataframe thead tr:last-of-type th {\n",
              "        text-align: right;\n",
              "    }\n",
              "</style>\n",
              "<table border=\"1\" class=\"dataframe\">\n",
              "  <thead>\n",
              "    <tr>\n",
              "      <th></th>\n",
              "      <th colspan=\"3\" halign=\"left\">top</th>\n",
              "    </tr>\n",
              "    <tr>\n",
              "      <th></th>\n",
              "      <th>mean</th>\n",
              "      <th>count</th>\n",
              "      <th>sum</th>\n",
              "    </tr>\n",
              "    <tr>\n",
              "      <th>genreEncoded</th>\n",
              "      <th></th>\n",
              "      <th></th>\n",
              "      <th></th>\n",
              "    </tr>\n",
              "  </thead>\n",
              "  <tbody>\n",
              "    <tr>\n",
              "      <th>0</th>\n",
              "      <td>0.105263</td>\n",
              "      <td>19</td>\n",
              "      <td>2</td>\n",
              "    </tr>\n",
              "    <tr>\n",
              "      <th>1</th>\n",
              "      <td>0.070000</td>\n",
              "      <td>100</td>\n",
              "      <td>7</td>\n",
              "    </tr>\n",
              "    <tr>\n",
              "      <th>2</th>\n",
              "      <td>0.008850</td>\n",
              "      <td>113</td>\n",
              "      <td>1</td>\n",
              "    </tr>\n",
              "    <tr>\n",
              "      <th>3</th>\n",
              "      <td>0.319149</td>\n",
              "      <td>188</td>\n",
              "      <td>60</td>\n",
              "    </tr>\n",
              "    <tr>\n",
              "      <th>4</th>\n",
              "      <td>0.330233</td>\n",
              "      <td>215</td>\n",
              "      <td>71</td>\n",
              "    </tr>\n",
              "  </tbody>\n",
              "</table>\n",
              "</div>"
            ],
            "text/plain": [
              "                   top          \n",
              "                  mean count sum\n",
              "genreEncoded                    \n",
              "0             0.105263    19   2\n",
              "1             0.070000   100   7\n",
              "2             0.008850   113   1\n",
              "3             0.319149   188  60\n",
              "4             0.330233   215  71"
            ]
          },
          "metadata": {
            "tags": []
          },
          "execution_count": 51
        }
      ]
    },
    {
      "cell_type": "code",
      "metadata": {
        "id": "G08Css3Qeicr",
        "colab": {
          "base_uri": "https://localhost:8080/",
          "height": 197
        },
        "outputId": "3d1b1827-481c-4a48-b6af-2221f6354322"
      },
      "source": [
        "artists_encoded[['tempoEncoded', 'top']].groupby(['tempoEncoded'], as_index=False).agg(['mean', 'count', 'sum'])"
      ],
      "execution_count": null,
      "outputs": [
        {
          "output_type": "execute_result",
          "data": {
            "text/html": [
              "<div>\n",
              "<style scoped>\n",
              "    .dataframe tbody tr th:only-of-type {\n",
              "        vertical-align: middle;\n",
              "    }\n",
              "\n",
              "    .dataframe tbody tr th {\n",
              "        vertical-align: top;\n",
              "    }\n",
              "\n",
              "    .dataframe thead tr th {\n",
              "        text-align: left;\n",
              "    }\n",
              "\n",
              "    .dataframe thead tr:last-of-type th {\n",
              "        text-align: right;\n",
              "    }\n",
              "</style>\n",
              "<table border=\"1\" class=\"dataframe\">\n",
              "  <thead>\n",
              "    <tr>\n",
              "      <th></th>\n",
              "      <th colspan=\"3\" halign=\"left\">top</th>\n",
              "    </tr>\n",
              "    <tr>\n",
              "      <th></th>\n",
              "      <th>mean</th>\n",
              "      <th>count</th>\n",
              "      <th>sum</th>\n",
              "    </tr>\n",
              "    <tr>\n",
              "      <th>tempoEncoded</th>\n",
              "      <th></th>\n",
              "      <th></th>\n",
              "      <th></th>\n",
              "    </tr>\n",
              "  </thead>\n",
              "  <tbody>\n",
              "    <tr>\n",
              "      <th>0</th>\n",
              "      <td>0.226415</td>\n",
              "      <td>53</td>\n",
              "      <td>12</td>\n",
              "    </tr>\n",
              "    <tr>\n",
              "      <th>1</th>\n",
              "      <td>0.246154</td>\n",
              "      <td>65</td>\n",
              "      <td>16</td>\n",
              "    </tr>\n",
              "    <tr>\n",
              "      <th>2</th>\n",
              "      <td>0.218569</td>\n",
              "      <td>517</td>\n",
              "      <td>113</td>\n",
              "    </tr>\n",
              "  </tbody>\n",
              "</table>\n",
              "</div>"
            ],
            "text/plain": [
              "                   top           \n",
              "                  mean count  sum\n",
              "tempoEncoded                     \n",
              "0             0.226415    53   12\n",
              "1             0.246154    65   16\n",
              "2             0.218569   517  113"
            ]
          },
          "metadata": {
            "tags": []
          },
          "execution_count": 52
        }
      ]
    },
    {
      "cell_type": "code",
      "metadata": {
        "id": "8UhiHB7veUOu",
        "colab": {
          "base_uri": "https://localhost:8080/",
          "height": 317
        },
        "outputId": "8a4fe4c5-c986-4377-c184-a57b2a4dba5e"
      },
      "source": [
        "artists_encoded[['durationEncoded', 'top']].groupby(['durationEncoded'], as_index=False).agg(['mean', 'count', 'sum'])"
      ],
      "execution_count": null,
      "outputs": [
        {
          "output_type": "execute_result",
          "data": {
            "text/html": [
              "<div>\n",
              "<style scoped>\n",
              "    .dataframe tbody tr th:only-of-type {\n",
              "        vertical-align: middle;\n",
              "    }\n",
              "\n",
              "    .dataframe tbody tr th {\n",
              "        vertical-align: top;\n",
              "    }\n",
              "\n",
              "    .dataframe thead tr th {\n",
              "        text-align: left;\n",
              "    }\n",
              "\n",
              "    .dataframe thead tr:last-of-type th {\n",
              "        text-align: right;\n",
              "    }\n",
              "</style>\n",
              "<table border=\"1\" class=\"dataframe\">\n",
              "  <thead>\n",
              "    <tr>\n",
              "      <th></th>\n",
              "      <th colspan=\"3\" halign=\"left\">top</th>\n",
              "    </tr>\n",
              "    <tr>\n",
              "      <th></th>\n",
              "      <th>mean</th>\n",
              "      <th>count</th>\n",
              "      <th>sum</th>\n",
              "    </tr>\n",
              "    <tr>\n",
              "      <th>durationEncoded</th>\n",
              "      <th></th>\n",
              "      <th></th>\n",
              "      <th></th>\n",
              "    </tr>\n",
              "  </thead>\n",
              "  <tbody>\n",
              "    <tr>\n",
              "      <th>0.0</th>\n",
              "      <td>0.295775</td>\n",
              "      <td>71</td>\n",
              "      <td>21</td>\n",
              "    </tr>\n",
              "    <tr>\n",
              "      <th>1.0</th>\n",
              "      <td>0.333333</td>\n",
              "      <td>30</td>\n",
              "      <td>10</td>\n",
              "    </tr>\n",
              "    <tr>\n",
              "      <th>2.0</th>\n",
              "      <td>0.212963</td>\n",
              "      <td>108</td>\n",
              "      <td>23</td>\n",
              "    </tr>\n",
              "    <tr>\n",
              "      <th>3.0</th>\n",
              "      <td>0.202381</td>\n",
              "      <td>168</td>\n",
              "      <td>34</td>\n",
              "    </tr>\n",
              "    <tr>\n",
              "      <th>4.0</th>\n",
              "      <td>0.232143</td>\n",
              "      <td>112</td>\n",
              "      <td>26</td>\n",
              "    </tr>\n",
              "    <tr>\n",
              "      <th>5.0</th>\n",
              "      <td>0.145455</td>\n",
              "      <td>55</td>\n",
              "      <td>8</td>\n",
              "    </tr>\n",
              "    <tr>\n",
              "      <th>6.0</th>\n",
              "      <td>0.208791</td>\n",
              "      <td>91</td>\n",
              "      <td>19</td>\n",
              "    </tr>\n",
              "  </tbody>\n",
              "</table>\n",
              "</div>"
            ],
            "text/plain": [
              "                      top          \n",
              "                     mean count sum\n",
              "durationEncoded                    \n",
              "0.0              0.295775    71  21\n",
              "1.0              0.333333    30  10\n",
              "2.0              0.212963   108  23\n",
              "3.0              0.202381   168  34\n",
              "4.0              0.232143   112  26\n",
              "5.0              0.145455    55   8\n",
              "6.0              0.208791    91  19"
            ]
          },
          "metadata": {
            "tags": []
          },
          "execution_count": 53
        }
      ]
    },
    {
      "cell_type": "code",
      "metadata": {
        "id": "GyUnYIKXeqyk",
        "scrolled": true,
        "colab": {
          "base_uri": "https://localhost:8080/",
          "height": 257
        },
        "outputId": "25db77f7-daf0-45ce-d5ea-dbd16171d916"
      },
      "source": [
        "artists_encoded[['edadEncoded', 'top']].groupby(['edadEncoded'], as_index=False).agg(['mean', 'count', 'sum'])"
      ],
      "execution_count": null,
      "outputs": [
        {
          "output_type": "execute_result",
          "data": {
            "text/html": [
              "<div>\n",
              "<style scoped>\n",
              "    .dataframe tbody tr th:only-of-type {\n",
              "        vertical-align: middle;\n",
              "    }\n",
              "\n",
              "    .dataframe tbody tr th {\n",
              "        vertical-align: top;\n",
              "    }\n",
              "\n",
              "    .dataframe thead tr th {\n",
              "        text-align: left;\n",
              "    }\n",
              "\n",
              "    .dataframe thead tr:last-of-type th {\n",
              "        text-align: right;\n",
              "    }\n",
              "</style>\n",
              "<table border=\"1\" class=\"dataframe\">\n",
              "  <thead>\n",
              "    <tr>\n",
              "      <th></th>\n",
              "      <th colspan=\"3\" halign=\"left\">top</th>\n",
              "    </tr>\n",
              "    <tr>\n",
              "      <th></th>\n",
              "      <th>mean</th>\n",
              "      <th>count</th>\n",
              "      <th>sum</th>\n",
              "    </tr>\n",
              "    <tr>\n",
              "      <th>edadEncoded</th>\n",
              "      <th></th>\n",
              "      <th></th>\n",
              "      <th></th>\n",
              "    </tr>\n",
              "  </thead>\n",
              "  <tbody>\n",
              "    <tr>\n",
              "      <th>0.0</th>\n",
              "      <td>0.246377</td>\n",
              "      <td>69</td>\n",
              "      <td>17</td>\n",
              "    </tr>\n",
              "    <tr>\n",
              "      <th>1.0</th>\n",
              "      <td>0.315789</td>\n",
              "      <td>152</td>\n",
              "      <td>48</td>\n",
              "    </tr>\n",
              "    <tr>\n",
              "      <th>2.0</th>\n",
              "      <td>0.255172</td>\n",
              "      <td>145</td>\n",
              "      <td>37</td>\n",
              "    </tr>\n",
              "    <tr>\n",
              "      <th>3.0</th>\n",
              "      <td>0.166667</td>\n",
              "      <td>222</td>\n",
              "      <td>37</td>\n",
              "    </tr>\n",
              "    <tr>\n",
              "      <th>4.0</th>\n",
              "      <td>0.042553</td>\n",
              "      <td>47</td>\n",
              "      <td>2</td>\n",
              "    </tr>\n",
              "  </tbody>\n",
              "</table>\n",
              "</div>"
            ],
            "text/plain": [
              "                  top          \n",
              "                 mean count sum\n",
              "edadEncoded                    \n",
              "0.0          0.246377    69  17\n",
              "1.0          0.315789   152  48\n",
              "2.0          0.255172   145  37\n",
              "3.0          0.166667   222  37\n",
              "4.0          0.042553    47   2"
            ]
          },
          "metadata": {
            "tags": []
          },
          "execution_count": 54
        }
      ]
    },
    {
      "cell_type": "markdown",
      "metadata": {
        "id": "TIHLqapGHkfu"
      },
      "source": [
        "### Otra metodología de imputación de datos"
      ]
    },
    {
      "cell_type": "code",
      "metadata": {
        "id": "64WFk23bHkfu"
      },
      "source": [
        "artists_billboard=pd.read_csv('artists_billboard_fix3.csv',sep = \",\",encoding = 'latin1') "
      ],
      "execution_count": null,
      "outputs": []
    },
    {
      "cell_type": "code",
      "metadata": {
        "colab": {
          "base_uri": "https://localhost:8080/",
          "height": 187
        },
        "id": "-EjSo0nwHkfv",
        "outputId": "d5f6fff3-0e02-4c47-f2f2-99c8d9e9064e"
      },
      "source": [
        "artists_billboard.head(3)"
      ],
      "execution_count": null,
      "outputs": [
        {
          "output_type": "execute_result",
          "data": {
            "text/html": [
              "<div>\n",
              "<style scoped>\n",
              "    .dataframe tbody tr th:only-of-type {\n",
              "        vertical-align: middle;\n",
              "    }\n",
              "\n",
              "    .dataframe tbody tr th {\n",
              "        vertical-align: top;\n",
              "    }\n",
              "\n",
              "    .dataframe thead th {\n",
              "        text-align: right;\n",
              "    }\n",
              "</style>\n",
              "<table border=\"1\" class=\"dataframe\">\n",
              "  <thead>\n",
              "    <tr style=\"text-align: right;\">\n",
              "      <th></th>\n",
              "      <th>id</th>\n",
              "      <th>title</th>\n",
              "      <th>artist</th>\n",
              "      <th>mood</th>\n",
              "      <th>tempo</th>\n",
              "      <th>genre</th>\n",
              "      <th>artist_type</th>\n",
              "      <th>chart_date</th>\n",
              "      <th>durationSeg</th>\n",
              "      <th>top</th>\n",
              "      <th>anioNacimiento</th>\n",
              "    </tr>\n",
              "  </thead>\n",
              "  <tbody>\n",
              "    <tr>\n",
              "      <th>0</th>\n",
              "      <td>0</td>\n",
              "      <td>Small Town Throwdown</td>\n",
              "      <td>BRANTLEY GILBERT featuring JUSTIN MOORE &amp; THOM...</td>\n",
              "      <td>Brooding</td>\n",
              "      <td>Medium Tempo</td>\n",
              "      <td>Traditional</td>\n",
              "      <td>Male</td>\n",
              "      <td>20140628</td>\n",
              "      <td>191.0</td>\n",
              "      <td>0</td>\n",
              "      <td>1975.0</td>\n",
              "    </tr>\n",
              "    <tr>\n",
              "      <th>1</th>\n",
              "      <td>1</td>\n",
              "      <td>Bang Bang</td>\n",
              "      <td>JESSIE J, ARIANA GRANDE &amp; NICKI MINAJ</td>\n",
              "      <td>Energizing</td>\n",
              "      <td>Medium Tempo</td>\n",
              "      <td>Pop</td>\n",
              "      <td>Female</td>\n",
              "      <td>20140816</td>\n",
              "      <td>368.0</td>\n",
              "      <td>0</td>\n",
              "      <td>1989.0</td>\n",
              "    </tr>\n",
              "    <tr>\n",
              "      <th>2</th>\n",
              "      <td>2</td>\n",
              "      <td>Timber</td>\n",
              "      <td>PITBULL featuring KE$HA</td>\n",
              "      <td>Excited</td>\n",
              "      <td>Medium Tempo</td>\n",
              "      <td>Urban</td>\n",
              "      <td>Mixed</td>\n",
              "      <td>20140118</td>\n",
              "      <td>223.0</td>\n",
              "      <td>1</td>\n",
              "      <td>1993.0</td>\n",
              "    </tr>\n",
              "  </tbody>\n",
              "</table>\n",
              "</div>"
            ],
            "text/plain": [
              "   id                 title  ... top anioNacimiento\n",
              "0   0  Small Town Throwdown  ...   0         1975.0\n",
              "1   1             Bang Bang  ...   0         1989.0\n",
              "2   2                Timber  ...   1         1993.0\n",
              "\n",
              "[3 rows x 11 columns]"
            ]
          },
          "metadata": {
            "tags": []
          },
          "execution_count": 131
        }
      ]
    },
    {
      "cell_type": "code",
      "metadata": {
        "colab": {
          "base_uri": "https://localhost:8080/",
          "height": 494
        },
        "id": "eifNAf8cHkfv",
        "outputId": "ca399a61-22aa-4b60-de24-b0561bec4790"
      },
      "source": [
        "sns.factorplot('anioNacimiento',data=artists_billboard,kind=\"count\", aspect=3)"
      ],
      "execution_count": null,
      "outputs": [
        {
          "output_type": "stream",
          "text": [
            "/usr/local/lib/python3.7/dist-packages/seaborn/categorical.py:3714: UserWarning: The `factorplot` function has been renamed to `catplot`. The original name will be removed in a future release. Please update your code. Note that the default `kind` in `factorplot` (`'point'`) has changed `'strip'` in `catplot`.\n",
            "  warnings.warn(msg)\n",
            "/usr/local/lib/python3.7/dist-packages/seaborn/_decorators.py:43: FutureWarning: Pass the following variable as a keyword arg: x. From version 0.12, the only valid positional argument will be `data`, and passing other arguments without an explicit keyword will result in an error or misinterpretation.\n",
            "  FutureWarning\n"
          ],
          "name": "stderr"
        },
        {
          "output_type": "execute_result",
          "data": {
            "text/plain": [
              "<seaborn.axisgrid.FacetGrid at 0x7f96db36ff50>"
            ]
          },
          "metadata": {
            "tags": []
          },
          "execution_count": 132
        },
        {
          "output_type": "display_data",
          "data": {
            "image/png": "[encoded data removed]",
            "text/plain": [
              "<Figure size 1080x360 with 1 Axes>"
            ]
          },
          "metadata": {
            "tags": []
          }
        }
      ]
    },
    {
      "cell_type": "code",
      "metadata": {
        "id": "MEzc3Um7Hkfw"
      },
      "source": [
        "artists_billboard['anioNacimiento'].fillna(artists_billboard['anioNacimiento'].median(), inplace=True)"
      ],
      "execution_count": null,
      "outputs": []
    },
    {
      "cell_type": "code",
      "metadata": {
        "id": "E5Lw6ScXHkfw"
      },
      "source": [
        "median_artists_billboard = artists_billboard['anioNacimiento'].median(skipna=True)"
      ],
      "execution_count": null,
      "outputs": []
    },
    {
      "cell_type": "code",
      "metadata": {
        "colab": {
          "base_uri": "https://localhost:8080/"
        },
        "id": "7IEP_Um-Hkfx",
        "outputId": "582ef975-044d-4db1-b262-4f9e538b6cb6"
      },
      "source": [
        "print (median_artists_billboard)"
      ],
      "execution_count": null,
      "outputs": [
        {
          "output_type": "stream",
          "text": [
            "1981.0\n"
          ],
          "name": "stdout"
        }
      ]
    },
    {
      "cell_type": "code",
      "metadata": {
        "id": "n8qBJ6AsHkfx"
      },
      "source": [
        "artists_billboard=artists_billboard.replace(0,median_artists_billboard)"
      ],
      "execution_count": null,
      "outputs": []
    },
    {
      "cell_type": "code",
      "metadata": {
        "colab": {
          "base_uri": "https://localhost:8080/",
          "height": 494
        },
        "id": "zDi7YpU3Hkfx",
        "outputId": "f77b869d-c95c-4307-a5dc-17a4584a955a"
      },
      "source": [
        "sns.factorplot('anioNacimiento',data=artists_billboard,kind=\"count\", aspect=3)"
      ],
      "execution_count": null,
      "outputs": [
        {
          "output_type": "stream",
          "text": [
            "/usr/local/lib/python3.7/dist-packages/seaborn/categorical.py:3714: UserWarning: The `factorplot` function has been renamed to `catplot`. The original name will be removed in a future release. Please update your code. Note that the default `kind` in `factorplot` (`'point'`) has changed `'strip'` in `catplot`.\n",
            "  warnings.warn(msg)\n",
            "/usr/local/lib/python3.7/dist-packages/seaborn/_decorators.py:43: FutureWarning: Pass the following variable as a keyword arg: x. From version 0.12, the only valid positional argument will be `data`, and passing other arguments without an explicit keyword will result in an error or misinterpretation.\n",
            "  FutureWarning\n"
          ],
          "name": "stderr"
        },
        {
          "output_type": "execute_result",
          "data": {
            "text/plain": [
              "<seaborn.axisgrid.FacetGrid at 0x7f96db189e10>"
            ]
          },
          "metadata": {
            "tags": []
          },
          "execution_count": 136
        },
        {
          "output_type": "display_data",
          "data": {
            "image/png": "[encoded data removed]",
            "text/plain": [
              "<Figure size 1080x360 with 1 Axes>"
            ]
          },
          "metadata": {
            "tags": []
          }
        }
      ]
    },
    {
      "cell_type": "code",
      "metadata": {
        "id": "79IZ4n3xHkfx"
      },
      "source": [
        ""
      ],
      "execution_count": null,
      "outputs": []
    }
  ]
}