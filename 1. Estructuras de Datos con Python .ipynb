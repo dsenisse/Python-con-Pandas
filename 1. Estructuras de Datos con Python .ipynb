{
 "cells": [
  {
   "cell_type": "markdown",
   "metadata": {
    "colab_type": "text",
    "id": "Q0bosCZNT_ry"
   },
   "source": [
    "# **Estructuras de Datos con Python**"
   ]
  },
  {
   "cell_type": "markdown",
   "metadata": {
    "colab_type": "text",
    "id": "Q0bosCZNT_ry"
   },
   "source": [
    "# **1. Recordando**"
   ]
  },
  {
   "cell_type": "markdown",
   "metadata": {
    "colab_type": "text",
    "id": "Zgj2HXDX-eEA"
   },
   "source": [
    "**Variables**\n",
    "*   Variable numérica: ingresos, egresos, edades, distancias, etc. Dentro de estas encontraremos variables numéricas enteras y flotantes.\n",
    "*   Variable tipo cadena de texto: Nombres, apellidos, mensajes o cualquier texto.\n",
    "*   Variable booleana: Admite los valores de verdadero o falso. "
   ]
  },
  {
   "cell_type": "code",
   "execution_count": 1,
   "metadata": {
    "colab": {},
    "colab_type": "code",
    "id": "-hOc0kSAqsCU"
   },
   "outputs": [],
   "source": [
    "alumnos = 10    #Variable numérica entera\n",
    "altura = 1.75   #Variable numérica flotante\n",
    "nombre = \"Juan\" #Cadena de texto\n",
    "casado = True   #variable booleana"
   ]
  },
  {
   "cell_type": "markdown",
   "metadata": {
    "colab_type": "text",
    "id": "s_CRhT_PrBpu"
   },
   "source": [
    "**Operadores Aritméticos**\n",
    "```\n",
    "----------------------------------------------------------\n",
    " Símbolo  Significado     Ejemplo               Resultado\n",
    "   +       suma              a = 10 + 5         a es 15\n",
    "   -       resta             a = 12 - 7         a es  5\n",
    "   -       negaciòn          a = -5             a es -5\n",
    "   *       multiplicación    a = 7 * 5          a es 35\n",
    "  **       potencia          a = 2 ** 3         a es  8\n",
    "   /       división          a = 12.5 / 2       a es  6.25\n",
    "  //       división enteira  a = 12.5 // 2      a es  6.0\n",
    "   %       módulo            a = 27 % 4         a es  3\n",
    "----------------------------------------------------------\n",
    "```"
   ]
  },
  {
   "cell_type": "markdown",
   "metadata": {
    "colab_type": "text",
    "id": "zMPKE5ZTT1iA"
   },
   "source": [
    "# **2. Estructuras de Datos en Python**\n",
    "---"
   ]
  },
  {
   "cell_type": "markdown",
   "metadata": {
    "colab_type": "text",
    "id": "7XTa4-38r3Bg"
   },
   "source": [
    "Python incluye varias estructuras de datos de programación estándar como parte de sus tipos incorporados.\n",
    "![texto alternativo](https://drive.google.com/uc?export=view&id=1rmq6sbwXia9B_Nj0lJH56v1Y4C3cSTqm)\n"
   ]
  },
  {
   "cell_type": "markdown",
   "metadata": {
    "colab_type": "text",
    "id": "IZ43oLDGEGrQ"
   },
   "source": [
    ">## **Listas**"
   ]
  },
  {
   "cell_type": "markdown",
   "metadata": {
    "colab_type": "text",
    "id": "MUcWjSJ8EMCL"
   },
   "source": [
    "Una lista es una agrupación ordenada múltiples **tipos de datos**. A cada elemento le corresponde un **índice numérico**. Una lista se define de la siguiente manera:\n",
    "\n",
    "```\n",
    "mi_lista = [\"profesor\" , 30 , True ],  \n",
    "  donde el primer elemento es \"profesor\",\n",
    "  el segundo es 30 y el tercero es True.\n",
    "```\n",
    "\n",
    "La numeración de una lista en Python empieza desde 0 (esta es una característica que deberá tener en cuenta de ahora en adelante). \n",
    "<img src=\"https://islascruz.org/blog/wp-content/uploads/2016/11/selectsort.jpg\" alt=\"Girl in a jacket\" width=\"250\" height=\"70\">\n",
    "\n",
    "Python tiene soporte para listas como un tipo predefinido del lenguaje. Para crear una lista basta con poner cosas entre **[ ]** (corchetes) y separarlas con **,** (comas).\n"
   ]
  },
  {
   "cell_type": "markdown",
   "metadata": {
    "colab_type": "text",
    "id": "9hgPvhNx8x_I"
   },
   "source": [
    "**Ejemplo de una Lista**"
   ]
  },
  {
   "cell_type": "code",
   "execution_count": 2,
   "metadata": {
    "colab": {
     "base_uri": "https://localhost:8080/",
     "height": 100
    },
    "colab_type": "code",
    "executionInfo": {
     "elapsed": 606,
     "status": "ok",
     "timestamp": 1595697258268,
     "user": {
      "displayName": "edwin escobedo cardenas",
      "photoUrl": "",
      "userId": "18434962447442438525"
     },
     "user_tz": 300
    },
    "id": "QXmczbTLEdVP",
    "outputId": "3b5eae5c-2ffb-4085-c7bf-8eadc08eb18a"
   },
   "outputs": [
    {
     "name": "stdout",
     "output_type": "stream",
     "text": [
      "Esta es la lista_1: ['Albert Einstein', 'físico', 1879, 'premio nobel']\n",
      "Albert Einstein\n",
      "físico\n",
      "1879\n",
      "premio nobel\n"
     ]
    }
   ],
   "source": [
    "# Definir una lista\n",
    "lista_1 = [\"Albert Einstein\" , \"físico\" , 1879, \"premio nobel\"]\n",
    "print(\"Esta es la lista_1:\", lista_1 )\n",
    "#Acceder a un elemento de la lista (la numeración en Python empieza en 0)\n",
    "print(lista_1[0])   #Primer elemento (empieza en 0)\n",
    "print(lista_1[1])   #Segundo elemento\n",
    "print(lista_1[2])   #Tercer elemento\n",
    "print(lista_1[3])   #Tercer elemento"
   ]
  },
  {
   "cell_type": "code",
   "execution_count": 3,
   "metadata": {
    "colab": {
     "base_uri": "https://localhost:8080/",
     "height": 50
    },
    "colab_type": "code",
    "executionInfo": {
     "elapsed": 480,
     "status": "ok",
     "timestamp": 1595698794187,
     "user": {
      "displayName": "edwin escobedo cardenas",
      "photoUrl": "",
      "userId": "18434962447442438525"
     },
     "user_tz": 300
    },
    "id": "jPXw13Yx9ywh",
    "outputId": "e439d9f3-f4ba-48a2-8935-8b77bdef094e"
   },
   "outputs": [
    {
     "name": "stdout",
     "output_type": "stream",
     "text": [
      "['Albert Einstein', 'físico', 1879, 'premio nobel']\n",
      "['Albert Einstein', 'físico', 1879, 'premio nobel']\n"
     ]
    }
   ],
   "source": [
    "# 1. Mostrar toda la lista\n",
    "print(lista_1)\n",
    "print(lista_1[:])"
   ]
  },
  {
   "cell_type": "code",
   "execution_count": 4,
   "metadata": {
    "colab": {
     "base_uri": "https://localhost:8080/",
     "height": 33
    },
    "colab_type": "code",
    "executionInfo": {
     "elapsed": 616,
     "status": "ok",
     "timestamp": 1595697325382,
     "user": {
      "displayName": "edwin escobedo cardenas",
      "photoUrl": "",
      "userId": "18434962447442438525"
     },
     "user_tz": 300
    },
    "id": "488R7WKx-FB7",
    "outputId": "2dc5f9eb-03d6-4351-b9c8-9989c98ef90f"
   },
   "outputs": [
    {
     "name": "stdout",
     "output_type": "stream",
     "text": [
      "premio nobel\n"
     ]
    }
   ],
   "source": [
    "# 3. Para nostrar el último elemento se usa -1\n",
    "print(lista_1[-1])"
   ]
  },
  {
   "cell_type": "markdown",
   "metadata": {
    "colab_type": "text",
    "id": "Ywt1mJW9D3jz"
   },
   "source": [
    "\n",
    "\n",
    "---\n",
    "Es importante aclarar lo siguiente:\n",
    "\n",
    "![texto alternativo](https://drive.google.com/uc?export=view&id=1Dtv6Bp0WaT0LRHHdGUg04RRONn5n_DwQ)\n"
   ]
  },
  {
   "cell_type": "code",
   "execution_count": 5,
   "metadata": {
    "colab": {
     "base_uri": "https://localhost:8080/",
     "height": 67
    },
    "colab_type": "code",
    "executionInfo": {
     "elapsed": 535,
     "status": "ok",
     "timestamp": 1595699056168,
     "user": {
      "displayName": "edwin escobedo cardenas",
      "photoUrl": "",
      "userId": "18434962447442438525"
     },
     "user_tz": 300
    },
    "id": "-CehOggz-O92",
    "outputId": "05e10cdc-0419-4f85-e51a-9c6580e70108"
   },
   "outputs": [
    {
     "name": "stdout",
     "output_type": "stream",
     "text": [
      "['Albert Einstein', 'físico']\n",
      "[1879, 'premio nobel']\n",
      "['físico', 1879]\n"
     ]
    }
   ],
   "source": [
    "# 4. Mostrar todos los elementos a partir de una posicion inicial\n",
    "print(lista_1[0:2])\n",
    "print(lista_1[2:])\n",
    "print(lista_1[1:3])"
   ]
  },
  {
   "cell_type": "markdown",
   "metadata": {
    "colab_type": "text",
    "id": "GfKxZF04E6B5"
   },
   "source": [
    "###  **Funciones Básicas para el Tratamiento de Listas**"
   ]
  },
  {
   "cell_type": "markdown",
   "metadata": {
    "colab_type": "text",
    "id": "Q4oHV5hhFk_L"
   },
   "source": [
    "#### **Agregar elementos a una lista**\n",
    "\n",
    "* se usan las funciones **append()** o **insert()**"
   ]
  },
  {
   "cell_type": "code",
   "execution_count": 6,
   "metadata": {
    "colab": {
     "base_uri": "https://localhost:8080/",
     "height": 50
    },
    "colab_type": "code",
    "executionInfo": {
     "elapsed": 574,
     "status": "ok",
     "timestamp": 1595699618075,
     "user": {
      "displayName": "edwin escobedo cardenas",
      "photoUrl": "",
      "userId": "18434962447442438525"
     },
     "user_tz": 300
    },
    "id": "OCJ0rgnoGHpX",
    "outputId": "0ee59aa4-21ce-4394-ff94-e4bfca7973a3"
   },
   "outputs": [
    {
     "name": "stdout",
     "output_type": "stream",
     "text": [
      "Creamos una Lista Vacia\n",
      "[]\n"
     ]
    }
   ],
   "source": [
    "print(\"Creamos una Lista Vacia\")\n",
    "lista = [] \n",
    "print(lista)"
   ]
  },
  {
   "cell_type": "code",
   "execution_count": 7,
   "metadata": {
    "colab": {
     "base_uri": "https://localhost:8080/",
     "height": 50
    },
    "colab_type": "code",
    "executionInfo": {
     "elapsed": 623,
     "status": "ok",
     "timestamp": 1595699636252,
     "user": {
      "displayName": "edwin escobedo cardenas",
      "photoUrl": "",
      "userId": "18434962447442438525"
     },
     "user_tz": 300
    },
    "id": "GcuWS03KGRET",
    "outputId": "9b5d2cea-da95-4824-d88c-01767a12ceef"
   },
   "outputs": [
    {
     "name": "stdout",
     "output_type": "stream",
     "text": [
      "Agregamos dos elemento a la lista\n",
      "[4, 'hola']\n"
     ]
    }
   ],
   "source": [
    "print(\"Agregamos dos elemento a la lista\")\n",
    "lista.append(4)\n",
    "lista.append(\"hola\")\n",
    "print(lista)"
   ]
  },
  {
   "cell_type": "code",
   "execution_count": 8,
   "metadata": {
    "colab": {
     "base_uri": "https://localhost:8080/",
     "height": 67
    },
    "colab_type": "code",
    "executionInfo": {
     "elapsed": 531,
     "status": "ok",
     "timestamp": 1595699663215,
     "user": {
      "displayName": "edwin escobedo cardenas",
      "photoUrl": "",
      "userId": "18434962447442438525"
     },
     "user_tz": 300
    },
    "id": "jYa3s8GfGiX3",
    "outputId": "8b1b4ca7-03f0-4369-f310-dc27ca303988"
   },
   "outputs": [
    {
     "name": "stdout",
     "output_type": "stream",
     "text": [
      "Agregamos una lista a la lista\n",
      "Es una lista con otra lista. NO hacer esto para concatenar listas\n",
      "[4, 'hola', [2.5, 6.8, 7.4]]\n"
     ]
    }
   ],
   "source": [
    "print(\"Agregamos una lista a la lista\")\n",
    "print(\"Es una lista con otra lista. NO hacer esto para concatenar listas\")\n",
    "lista.append([2.5,6.8,7.4])\n",
    "print(lista)"
   ]
  },
  {
   "cell_type": "code",
   "execution_count": 9,
   "metadata": {
    "colab": {
     "base_uri": "https://localhost:8080/",
     "height": 50
    },
    "colab_type": "code",
    "executionInfo": {
     "elapsed": 1054,
     "status": "ok",
     "timestamp": 1595699641505,
     "user": {
      "displayName": "edwin escobedo cardenas",
      "photoUrl": "",
      "userId": "18434962447442438525"
     },
     "user_tz": 300
    },
    "id": "keLC8tXZGyNv",
    "outputId": "3d832d0c-34a4-4d82-e04c-2a0b58996d07"
   },
   "outputs": [
    {
     "name": "stdout",
     "output_type": "stream",
     "text": [
      "Insertamos un elemento en una posicion determinada\n",
      "[4, 'aqui inserté este texto', 'hola', [2.5, 6.8, 7.4]]\n"
     ]
    }
   ],
   "source": [
    "print(\"Insertamos un elemento en una posicion determinada\")\n",
    "lista.insert(1,\"aqui inserté este texto\")\n",
    "print(lista)"
   ]
  },
  {
   "cell_type": "markdown",
   "metadata": {
    "colab_type": "text",
    "id": "CnoZF_OEHscc"
   },
   "source": [
    "#### **Eliminar elementos de una lista**\n",
    "\n",
    "* Se usan las funciones **pop()**, **remove(**índice**)** y **clear(**valor**)** "
   ]
  },
  {
   "cell_type": "code",
   "execution_count": 10,
   "metadata": {
    "colab": {
     "base_uri": "https://localhost:8080/",
     "height": 52
    },
    "colab_type": "code",
    "executionInfo": {
     "elapsed": 998,
     "status": "ok",
     "timestamp": 1596495539222,
     "user": {
      "displayName": "edwin escobedo cardenas",
      "photoUrl": "",
      "userId": "18434962447442438525"
     },
     "user_tz": 300
    },
    "id": "shh-dJw5ItEk",
    "outputId": "cb23717c-aff2-4762-bee6-b82fa6f789b1"
   },
   "outputs": [
    {
     "name": "stdout",
     "output_type": "stream",
     "text": [
      "Creamos una Lista inicial\n",
      "[1, 'hola', 3, 'tú', 4, 'tú', 5, 6, 7, 8]\n"
     ]
    }
   ],
   "source": [
    "print(\"Creamos una Lista inicial\")\n",
    "lista = [1, \"hola\", 3, \"tú\", 4,\"tú\", 5, 6, 7, 8]\n",
    "print(lista)"
   ]
  },
  {
   "cell_type": "code",
   "execution_count": 11,
   "metadata": {
    "colab": {
     "base_uri": "https://localhost:8080/",
     "height": 50
    },
    "colab_type": "code",
    "executionInfo": {
     "elapsed": 516,
     "status": "ok",
     "timestamp": 1595700658117,
     "user": {
      "displayName": "edwin escobedo cardenas",
      "photoUrl": "",
      "userId": "18434962447442438525"
     },
     "user_tz": 300
    },
    "id": "vUArQzhuI5rO",
    "outputId": "b057dd7c-0a7e-49ac-80cd-e71060eeb872"
   },
   "outputs": [
    {
     "name": "stdout",
     "output_type": "stream",
     "text": [
      "Eliminar el último elemento de la lista\n",
      "[1, 'hola', 3, 'tú', 4, 'tú', 5, 6, 7]\n"
     ]
    }
   ],
   "source": [
    "print(\"Eliminar el último elemento de la lista\")\n",
    "lista.pop()\n",
    "print(lista)"
   ]
  },
  {
   "cell_type": "code",
   "execution_count": 12,
   "metadata": {
    "colab": {
     "base_uri": "https://localhost:8080/",
     "height": 50
    },
    "colab_type": "code",
    "executionInfo": {
     "elapsed": 500,
     "status": "ok",
     "timestamp": 1595700399836,
     "user": {
      "displayName": "edwin escobedo cardenas",
      "photoUrl": "",
      "userId": "18434962447442438525"
     },
     "user_tz": 300
    },
    "id": "9ze8SI6bJGhu",
    "outputId": "d4bbe4ac-8d34-4825-d075-25fe739bb8b7"
   },
   "outputs": [
    {
     "name": "stdout",
     "output_type": "stream",
     "text": [
      "Eliminar elemento de una posicion determinada (índice)\n",
      "[1, 3, 'tú', 4, 'tú', 5, 6, 7]\n"
     ]
    }
   ],
   "source": [
    "print(\"Eliminar elemento de una posicion determinada (índice)\")\n",
    "lista.pop(1)\n",
    "print(lista)"
   ]
  },
  {
   "cell_type": "code",
   "execution_count": 13,
   "metadata": {
    "colab": {
     "base_uri": "https://localhost:8080/",
     "height": 50
    },
    "colab_type": "code",
    "executionInfo": {
     "elapsed": 514,
     "status": "ok",
     "timestamp": 1595700404654,
     "user": {
      "displayName": "edwin escobedo cardenas",
      "photoUrl": "",
      "userId": "18434962447442438525"
     },
     "user_tz": 300
    },
    "id": "lCBlaAvuJXOl",
    "outputId": "71f080da-8ecb-4e48-d394-b6cc9635901a"
   },
   "outputs": [
    {
     "name": "stdout",
     "output_type": "stream",
     "text": [
      "Eliminar elemento por su valor (el primero que encuentra). \n",
      "[1, 3, 4, 'tú', 5, 6, 7]\n"
     ]
    }
   ],
   "source": [
    "print(\"Eliminar elemento por su valor (el primero que encuentra). \")\n",
    "lista.remove(\"tú\")\n",
    "print(lista)"
   ]
  },
  {
   "cell_type": "code",
   "execution_count": 14,
   "metadata": {
    "colab": {
     "base_uri": "https://localhost:8080/",
     "height": 50
    },
    "colab_type": "code",
    "executionInfo": {
     "elapsed": 300,
     "status": "ok",
     "timestamp": 1595700695417,
     "user": {
      "displayName": "edwin escobedo cardenas",
      "photoUrl": "",
      "userId": "18434962447442438525"
     },
     "user_tz": 300
    },
    "id": "y-doqMhmJxVs",
    "outputId": "2545ba9c-7020-4745-de63-82d7e6511641"
   },
   "outputs": [
    {
     "name": "stdout",
     "output_type": "stream",
     "text": [
      "limpiar la lista completamente\n",
      "[]\n"
     ]
    }
   ],
   "source": [
    "print(\"limpiar la lista completamente\")\n",
    "lista.clear()\n",
    "print(lista)"
   ]
  },
  {
   "cell_type": "markdown",
   "metadata": {
    "colab_type": "text",
    "id": "82leaIWxLd4A"
   },
   "source": [
    "#### **Buscar elementos en una lista**\n",
    "\n",
    "*  Usamos **in** para saber si un elemento existe en la lista."
   ]
  },
  {
   "cell_type": "code",
   "execution_count": 15,
   "metadata": {
    "colab": {
     "base_uri": "https://localhost:8080/",
     "height": 34
    },
    "colab_type": "code",
    "executionInfo": {
     "elapsed": 497,
     "status": "ok",
     "timestamp": 1595701074733,
     "user": {
      "displayName": "edwin escobedo cardenas",
      "photoUrl": "",
      "userId": "18434962447442438525"
     },
     "user_tz": 300
    },
    "id": "3wjFBskVMCNJ",
    "outputId": "38825c92-78c8-4b40-d232-8d1dd4be3a1b"
   },
   "outputs": [
    {
     "name": "stdout",
     "output_type": "stream",
     "text": [
      "True\n"
     ]
    }
   ],
   "source": [
    "lista = [\"hola\", 1, 2, \"hola\", 1,2]\n",
    "respuesta = \"hola\" in lista\n",
    "print(respuesta)\n"
   ]
  },
  {
   "cell_type": "markdown",
   "metadata": {
    "colab_type": "text",
    "id": "4vEEYztSMjPB"
   },
   "source": [
    "* Usamos **index()** para buscar la posición de un elemento en la lista.\n"
   ]
  },
  {
   "cell_type": "code",
   "execution_count": 16,
   "metadata": {
    "colab": {
     "base_uri": "https://localhost:8080/",
     "height": 34
    },
    "colab_type": "code",
    "executionInfo": {
     "elapsed": 517,
     "status": "ok",
     "timestamp": 1595701190070,
     "user": {
      "displayName": "edwin escobedo cardenas",
      "photoUrl": "",
      "userId": "18434962447442438525"
     },
     "user_tz": 300
    },
    "id": "wfMT6s64MxyC",
    "outputId": "54defb1c-b9f5-400e-ccf8-d765529006a5"
   },
   "outputs": [
    {
     "name": "stdout",
     "output_type": "stream",
     "text": [
      "0\n"
     ]
    }
   ],
   "source": [
    "index = lista.index(\"hola\")\n",
    "print(index)"
   ]
  },
  {
   "cell_type": "markdown",
   "metadata": {
    "colab_type": "text",
    "id": "RqqFQN3rNkCl"
   },
   "source": [
    "* Usamos **count()** para contar cuantos veces se repite un elemento en la lista."
   ]
  },
  {
   "cell_type": "code",
   "execution_count": 17,
   "metadata": {
    "colab": {
     "base_uri": "https://localhost:8080/",
     "height": 34
    },
    "colab_type": "code",
    "executionInfo": {
     "elapsed": 571,
     "status": "ok",
     "timestamp": 1595701411533,
     "user": {
      "displayName": "edwin escobedo cardenas",
      "photoUrl": "",
      "userId": "18434962447442438525"
     },
     "user_tz": 300
    },
    "id": "fsM5RtE7NuzY",
    "outputId": "33082399-f8e0-4db9-92e9-78f5dfa4f60a"
   },
   "outputs": [
    {
     "name": "stdout",
     "output_type": "stream",
     "text": [
      "2\n"
     ]
    }
   ],
   "source": [
    "print(lista.count(1))"
   ]
  },
  {
   "cell_type": "code",
   "execution_count": 18,
   "metadata": {
    "colab": {
     "base_uri": "https://localhost:8080/",
     "height": 34
    },
    "colab_type": "code",
    "executionInfo": {
     "elapsed": 522,
     "status": "ok",
     "timestamp": 1595701681512,
     "user": {
      "displayName": "edwin escobedo cardenas",
      "photoUrl": "",
      "userId": "18434962447442438525"
     },
     "user_tz": 300
    },
    "id": "eHJdg-IwOtlp",
    "outputId": "1dfb1ad2-c04d-4de3-82bc-1d65b0d73937"
   },
   "outputs": [
    {
     "name": "stdout",
     "output_type": "stream",
     "text": [
      "[1, 2, 3, 'lunes', 'martes', 'miercoles']\n"
     ]
    }
   ],
   "source": [
    "lista_1 = [1, 2, 3]\n",
    "lista_2 = [\"lunes\", \"martes\", \"miercoles\"]\n",
    "\n",
    "lista_1 = lista_1 + lista_2\n",
    "print(lista_1)"
   ]
  },
  {
   "cell_type": "markdown",
   "metadata": {
    "colab_type": "text",
    "id": "9eN5sNyoOAKL"
   },
   "source": [
    "#### **Otras operaciones en una lista**"
   ]
  },
  {
   "cell_type": "markdown",
   "metadata": {
    "colab_type": "text",
    "id": "lpQ-WEtgOE0j"
   },
   "source": [
    "* Usar **len()** para saber el tamaño de una lista"
   ]
  },
  {
   "cell_type": "code",
   "execution_count": 19,
   "metadata": {
    "colab": {
     "base_uri": "https://localhost:8080/",
     "height": 34
    },
    "colab_type": "code",
    "executionInfo": {
     "elapsed": 559,
     "status": "ok",
     "timestamp": 1595701553531,
     "user": {
      "displayName": "edwin escobedo cardenas",
      "photoUrl": "",
      "userId": "18434962447442438525"
     },
     "user_tz": 300
    },
    "id": "UzknHAkFOTlc",
    "outputId": "f57b8481-d3b3-47a0-9130-cc8ca6506e7e"
   },
   "outputs": [
    {
     "name": "stdout",
     "output_type": "stream",
     "text": [
      "tamaño de la lista: 5\n"
     ]
    }
   ],
   "source": [
    "lista = [1, 2, 3, 4, [1, 2]]\n",
    "print(f\"tamaño de la lista: {len(lista)}\")"
   ]
  },
  {
   "cell_type": "markdown",
   "metadata": {
    "colab_type": "text",
    "id": "F8BUV6b6OXxr"
   },
   "source": [
    "* Usar **extend()** concatenar dos listas o el simbolo **+**\n",
    "\n",
    "\n"
   ]
  },
  {
   "cell_type": "code",
   "execution_count": 20,
   "metadata": {
    "colab": {
     "base_uri": "https://localhost:8080/",
     "height": 34
    },
    "colab_type": "code",
    "executionInfo": {
     "elapsed": 515,
     "status": "ok",
     "timestamp": 1595701644347,
     "user": {
      "displayName": "edwin escobedo cardenas",
      "photoUrl": "",
      "userId": "18434962447442438525"
     },
     "user_tz": 300
    },
    "id": "kMrk38yOOpkB",
    "outputId": "47542120-0531-4d48-e44b-711867c34a98"
   },
   "outputs": [
    {
     "name": "stdout",
     "output_type": "stream",
     "text": [
      "[1, 2, 3, 'lunes', 'martes', 'miercoles']\n"
     ]
    }
   ],
   "source": [
    "lista_1 = [1, 2, 3]\n",
    "lista_2 = [\"lunes\", \"martes\", \"miercoles\"]\n",
    "\n",
    "lista_1.extend(lista_2)\n",
    "print(lista_1)"
   ]
  },
  {
   "cell_type": "markdown",
   "metadata": {
    "colab_type": "text",
    "id": "L75srW5ePSIC"
   },
   "source": [
    "* Usar **reverse()** para invertir una lista.\n"
   ]
  },
  {
   "cell_type": "code",
   "execution_count": 21,
   "metadata": {
    "colab": {
     "base_uri": "https://localhost:8080/",
     "height": 84
    },
    "colab_type": "code",
    "executionInfo": {
     "elapsed": 503,
     "status": "ok",
     "timestamp": 1595701856356,
     "user": {
      "displayName": "edwin escobedo cardenas",
      "photoUrl": "",
      "userId": "18434962447442438525"
     },
     "user_tz": 300
    },
    "id": "GYsqe6LoPeAh",
    "outputId": "63501a93-58df-474a-ec55-b702a4045e44"
   },
   "outputs": [
    {
     "name": "stdout",
     "output_type": "stream",
     "text": [
      "Lista Original\n",
      "['lunes', 'martes', 'miercoles']\n",
      "Lista Invertida\n",
      "['miercoles', 'martes', 'lunes']\n"
     ]
    }
   ],
   "source": [
    "print(\"Lista Original\")\n",
    "lista = [\"lunes\", \"martes\", \"miercoles\"]\n",
    "print(lista)\n",
    "\n",
    "print(\"Lista Invertida\")\n",
    "lista.reverse()\n",
    "print(lista)"
   ]
  },
  {
   "cell_type": "markdown",
   "metadata": {
    "colab_type": "text",
    "id": "nohwbxzPPiLT"
   },
   "source": [
    "* Usar **sort()** para ordenar una lista."
   ]
  },
  {
   "cell_type": "code",
   "execution_count": 22,
   "metadata": {
    "colab": {
     "base_uri": "https://localhost:8080/",
     "height": 84
    },
    "colab_type": "code",
    "executionInfo": {
     "elapsed": 351,
     "status": "ok",
     "timestamp": 1595701931639,
     "user": {
      "displayName": "edwin escobedo cardenas",
      "photoUrl": "",
      "userId": "18434962447442438525"
     },
     "user_tz": 300
    },
    "id": "olNJiZylPvBX",
    "outputId": "dbe934a5-3f20-42df-d6aa-cebc8950f964"
   },
   "outputs": [
    {
     "name": "stdout",
     "output_type": "stream",
     "text": [
      "Lista original\n",
      "[1, 5, -10, -4, 2, 3, 8, -8]\n",
      "Lista ordenada de menor a mayor\n",
      "[-10, -8, -4, 1, 2, 3, 5, 8]\n"
     ]
    }
   ],
   "source": [
    "print(\"Lista original\")\n",
    "lista = [1, 5, -10, -4, 2, 3, 8, -8]\n",
    "print(lista)\n",
    "\n",
    "print(\"Lista ordenada de menor a mayor\")\n",
    "lista.sort()\n",
    "print(lista)"
   ]
  },
  {
   "cell_type": "code",
   "execution_count": 23,
   "metadata": {
    "colab": {
     "base_uri": "https://localhost:8080/",
     "height": 84
    },
    "colab_type": "code",
    "executionInfo": {
     "elapsed": 517,
     "status": "ok",
     "timestamp": 1595701988992,
     "user": {
      "displayName": "edwin escobedo cardenas",
      "photoUrl": "",
      "userId": "18434962447442438525"
     },
     "user_tz": 300
    },
    "id": "G-Ay2HjXP09d",
    "outputId": "e6ff6e06-60c6-4bf4-dd9c-a40151bb030d"
   },
   "outputs": [
    {
     "name": "stdout",
     "output_type": "stream",
     "text": [
      "Lista original\n",
      "[1, 5, -10, -4, 2, 3, 8, -8]\n",
      "Lista ordenada de mayor a menor\n",
      "[8, 5, 3, 2, 1, -4, -8, -10]\n"
     ]
    }
   ],
   "source": [
    "print(\"Lista original\")\n",
    "lista = [1, 5, -10, -4, 2, 3, 8, -8]\n",
    "print(lista)\n",
    "\n",
    "print(\"Lista ordenada de mayor a menor\")\n",
    "lista.sort(reverse = True)\n",
    "print(lista)"
   ]
  },
  {
   "cell_type": "markdown",
   "metadata": {
    "colab_type": "text",
    "id": "pEiQ4CnvQsmP"
   },
   "source": [
    ">## **Tuplas**"
   ]
  },
  {
   "cell_type": "markdown",
   "metadata": {
    "colab_type": "text",
    "id": "xJNTnG-YQvpH"
   },
   "source": [
    "Una tupla es similar a una lista, solo que es inmutable, es decir que sus valores no se pueden modificar.\n",
    "\n",
    "```\n",
    "mi_tupla = ( 'estudiante' , 15 , False )\n",
    "```\n",
    "\n",
    "Para crear una tupla, basta con poner elementos entre **( )** (paréntesis) y separarlas con **,** (comas).\n",
    "\n",
    "* Acceder a cada elemento se hace del mismo modo que con las listas. "
   ]
  },
  {
   "cell_type": "code",
   "execution_count": 24,
   "metadata": {
    "colab": {
     "base_uri": "https://localhost:8080/",
     "height": 84
    },
    "colab_type": "code",
    "executionInfo": {
     "elapsed": 516,
     "status": "ok",
     "timestamp": 1595703624258,
     "user": {
      "displayName": "edwin escobedo cardenas",
      "photoUrl": "",
      "userId": "18434962447442438525"
     },
     "user_tz": 300
    },
    "id": "jVH3gjXEVyqb",
    "outputId": "6385b011-4b59-4be0-d221-b02084b1dc8d"
   },
   "outputs": [
    {
     "name": "stdout",
     "output_type": "stream",
     "text": [
      "Creando una Tupla. Notese el uso de paréntesis ()\n",
      "Alan Turing\n",
      "programación\n",
      "20\n"
     ]
    }
   ],
   "source": [
    "print(\"Creando una Tupla. Notese el uso de paréntesis ()\")\n",
    "tupla_1 = (\"Alan Turing\" , \"programación\" , 20)\n",
    "print(tupla_1[0])\n",
    "print(tupla_1[1])\n",
    "print(tupla_1[2])"
   ]
  },
  {
   "cell_type": "markdown",
   "metadata": {
    "colab_type": "text",
    "id": "KgfEJchnWVNO"
   },
   "source": [
    "\n",
    "* Dado que las tuplas son inmutables no poseen métodos como append() , pop() , remove() o cualquiera que intente modificar la tupla. Veamos que sucede si intentamos hacerlo:"
   ]
  },
  {
   "cell_type": "code",
   "execution_count": 28,
   "metadata": {
    "colab": {
     "base_uri": "https://localhost:8080/",
     "height": 67
    },
    "colab_type": "code",
    "executionInfo": {
     "elapsed": 624,
     "status": "ok",
     "timestamp": 1595703854918,
     "user": {
      "displayName": "edwin escobedo cardenas",
      "photoUrl": "",
      "userId": "18434962447442438525"
     },
     "user_tz": 300
    },
    "id": "03GmfpGRXDGn",
    "outputId": "ae8d9e13-e087-4704-e54f-0e8c5ed69143"
   },
   "outputs": [
    {
     "name": "stdout",
     "output_type": "stream",
     "text": [
      "3\n",
      "1\n",
      "1\n"
     ]
    }
   ],
   "source": [
    "usuario = ('Margaret Hamilton', 1936 , 'Indiana')\n",
    "print(len(usuario)) #Muestra cuantos elementos hay en la tupla\n",
    "print(usuario.count('Indiana')) #Cuenta cuantas veces aparece el elemento 'Indiana'\n",
    "print(usuario.index(1936)) #Muestra el índice del elemento 1936"
   ]
  },
  {
   "cell_type": "markdown",
   "metadata": {
    "colab_type": "text",
    "id": "bm2HOsP-Xzcu"
   },
   "source": [
    ">## **Diccionarios**"
   ]
  },
  {
   "cell_type": "markdown",
   "metadata": {
    "colab_type": "text",
    "id": "4Pa_RXhTX3cQ"
   },
   "source": [
    "Son Almacena cualquier tipo de datos. A cada valor se le asigna una clave (o key), es decir que no hay numeración.\n",
    "\n",
    "```\n",
    "mi_diccionario = {'nombre' : 'Carlos', 'promedio' : 18, 'clases': ['Python','R','estadística'] }\n",
    "```"
   ]
  },
  {
   "cell_type": "code",
   "execution_count": 29,
   "metadata": {
    "colab": {
     "base_uri": "https://localhost:8080/",
     "height": 118
    },
    "colab_type": "code",
    "executionInfo": {
     "elapsed": 585,
     "status": "ok",
     "timestamp": 1595707629763,
     "user": {
      "displayName": "edwin escobedo cardenas",
      "photoUrl": "",
      "userId": "18434962447442438525"
     },
     "user_tz": 300
    },
    "id": "fibMV2unlhA_",
    "outputId": "fc4efd90-8ed1-4187-bc8a-db090d760e20"
   },
   "outputs": [
    {
     "name": "stdout",
     "output_type": "stream",
     "text": [
      "Carlos\n",
      "12345678\n",
      "['Python', 'Álgebra', 'Economía']\n",
      "Python\n",
      "Álgebra\n",
      "Economía\n"
     ]
    }
   ],
   "source": [
    "#Definir diccionario\n",
    "diccionario_1 = {'usuario' : 'Carlos', 'DNI' : 12345678, 'cursos': ['Python','Álgebra','Economía'] }\n",
    "#Se accede a cada elemento del siguiente modo.\n",
    "print(diccionario_1['usuario'])\n",
    "print(diccionario_1['DNI'])\n",
    "print(diccionario_1['cursos'])\n",
    "#Observe que la clave 'cursos' nos muestra una lista. Por lo que podemos \n",
    "#acceder a cada elemento de la lista del siguiente modo:\n",
    "print(diccionario_1['cursos'][0])\n",
    "print(diccionario_1['cursos'][1])\n",
    "print(diccionario_1['cursos'][2])"
   ]
  },
  {
   "cell_type": "markdown",
   "metadata": {
    "colab_type": "text",
    "id": "WaJHGXJPloyq"
   },
   "source": [
    "Veamos algunos métodos de los diccionarios."
   ]
  },
  {
   "cell_type": "code",
   "execution_count": 30,
   "metadata": {
    "colab": {
     "base_uri": "https://localhost:8080/",
     "height": 118
    },
    "colab_type": "code",
    "executionInfo": {
     "elapsed": 885,
     "status": "ok",
     "timestamp": 1595707685048,
     "user": {
      "displayName": "edwin escobedo cardenas",
      "photoUrl": "",
      "userId": "18434962447442438525"
     },
     "user_tz": 300
    },
    "id": "ciEw27Z9lrWf",
    "outputId": "f58e5732-23a1-41f2-8a95-1d8efb43d991"
   },
   "outputs": [
    {
     "name": "stdout",
     "output_type": "stream",
     "text": [
      "Carlos\n",
      "dict_keys(['usuario', 'DNI', 'cursos'])\n",
      "dict_values(['Carlos', 12345678, ['Python', 'Álgebra', 'Economía']])\n",
      "{'usuario': 'Carlos', 'cursos': ['Python', 'Álgebra', 'Economía']}\n",
      "['Python', 'Álgebra', 'Economía']\n",
      "{}\n"
     ]
    }
   ],
   "source": [
    "print(diccionario_1.get('usuario')) # Muestra el valor de la clave 'usuario'\n",
    "print(diccionario_1.keys())         # Muestra las claves del diccionario\n",
    "print(diccionario_1.values())       # Muestra los valores del diccionario\n",
    "del diccionario_1['DNI']            #Elimina el valor correspondiente a la clave 'DNI'\n",
    "print(diccionario_1)                #Mostrar nuevo diccionario\n",
    "print(diccionario_1.pop('cursos'))  #Muestra el valor correspondiente a la clave 'cursos' y la elimina\n",
    "diccionario_1.clear()               #Elimina todos los elementos del diccionario\n",
    "print(diccionario_1)                #Mostrar nuevo diccionario"
   ]
  },
  {
   "cell_type": "markdown",
   "metadata": {
    "colab_type": "text",
    "id": "JcvU0np7mdNj"
   },
   "source": [
    ">## **Conjuntos**"
   ]
  },
  {
   "cell_type": "markdown",
   "metadata": {
    "colab_type": "text",
    "id": "MMMyJ7mNmgHb"
   },
   "source": [
    "Un conjunto es una colección de datos no ordenada y no presenta elementos repetidos. \n",
    "\n",
    "Se comportan del mismo modo que los conjuntos utilizados en matemáticas y lógica.\n",
    "\n",
    "```\n",
    "mi_conjunto = {0 , 2 , 4 , 6 , 8 , 10 }\n",
    "```\n",
    "\n",
    "**OJO:** Ya que no existe un índice que caracterice a cada elemento de un conjunto, no es posible acceder a los elementos del modo tradicional. Sin embargo, es posible hacerlo utilizando un bucle, esto lo veremos más adelante. \n",
    "\n",
    "Exploraremos los métodos correspondientes a los conjuntos:"
   ]
  },
  {
   "cell_type": "code",
   "execution_count": 31,
   "metadata": {
    "colab": {
     "base_uri": "https://localhost:8080/",
     "height": 84
    },
    "colab_type": "code",
    "executionInfo": {
     "elapsed": 364,
     "status": "ok",
     "timestamp": 1595707969853,
     "user": {
      "displayName": "edwin escobedo cardenas",
      "photoUrl": "",
      "userId": "18434962447442438525"
     },
     "user_tz": 300
    },
    "id": "OcELo0G7mxTj",
    "outputId": "811b62df-f5f1-4319-824b-06fc68c21557"
   },
   "outputs": [
    {
     "name": "stdout",
     "output_type": "stream",
     "text": [
      "{2, 3, 5, 7, 11}\n",
      "{2, 3, 5, 7, 11, 13}\n",
      "{2, 3, 7, 11, 13}\n",
      "set()\n"
     ]
    }
   ],
   "source": [
    "#Conjuntos\n",
    "#Definir un conjunto\n",
    "mi_conjunto = {2,3,5,7,11}\n",
    "print(mi_conjunto)\n",
    "mi_conjunto.add(13)   #Añadir el elemento 13\n",
    "print(mi_conjunto)    #Mostrar el nuevo conjunto\n",
    "mi_conjunto.remove(5) #Remover el elemento 5\n",
    "print(mi_conjunto)    #Mostrar el nuevo conjunto\n",
    "mi_conjunto.clear()   #Vaciar los elementos del conjunto\n",
    "print(mi_conjunto)    #Mostar nuevo conjunto"
   ]
  },
  {
   "cell_type": "markdown",
   "metadata": {
    "colab_type": "text",
    "id": "BlgLxzC7m51U"
   },
   "source": [
    "Dado que los conjuntos poseen las mismas características de los estudiados en matemáticas y lógica, se pueden realizar las mismas operaciones como la **intersección**, **unión**, **diferencia** o **diferencia simétrica**. Definiremos 2 conjuntos y aplicaremos estas operaciones. Los conjuntos a definir serán las clases que llevan los estudiantes de ingenierías y los de derecho."
   ]
  },
  {
   "cell_type": "code",
   "execution_count": 32,
   "metadata": {
    "colab": {
     "base_uri": "https://localhost:8080/",
     "height": 134
    },
    "colab_type": "code",
    "executionInfo": {
     "elapsed": 503,
     "status": "ok",
     "timestamp": 1595708037452,
     "user": {
      "displayName": "edwin escobedo cardenas",
      "photoUrl": "",
      "userId": "18434962447442438525"
     },
     "user_tz": 300
    },
    "id": "RTW2n8uvm2x9",
    "outputId": "c6298022-79ac-439f-a522-49e4daff75b2"
   },
   "outputs": [
    {
     "name": "stdout",
     "output_type": "stream",
     "text": [
      "Clases de ingeniería:  {'álgebra', 'química', 'historia', 'inglés', 'programación'}\n",
      "Clases de derecho:  {'álgebra', 'filosofía', 'economía', 'inglés', 'derecho civil'}\n",
      "Intersección:  {'álgebra', 'inglés'}\n",
      "Union:  {'álgebra', 'filosofía', 'economía', 'química', 'historia', 'inglés', 'programación', 'derecho civil'}\n",
      "Diferencia:  {'química', 'programación', 'historia'}\n",
      "Diferencia:  {'economía', 'filosofía', 'derecho civil'}\n",
      "Diferencia simétrica:  {'filosofía', 'economía', 'química', 'programación', 'derecho civil', 'historia'}\n"
     ]
    }
   ],
   "source": [
    "ingenieria = {'álgebra','programación','historia','química','inglés'}\n",
    "derecho = {'inglés','derecho civil','filosofía','álgebra','economía'}\n",
    "print('Clases de ingeniería: ', ingenieria)\n",
    "print('Clases de derecho: ',derecho)\n",
    "print('Intersección: ',ingenieria.intersection(derecho)) #Elementos en común\n",
    "print('Union: ', ingenieria.union(derecho)) #Unión de todos los elementos\n",
    "print('Diferencia: ',ingenieria.difference(derecho)) #Elementos en ingeniería pero no en derecho\n",
    "print('Diferencia: ',derecho.difference(ingenieria)) #Elementos en derecho pero no en ingeniería\n",
    "print('Diferencia simétrica: ',ingenieria.symmetric_difference(derecho)) #Todos los elementos excepto la intersección"
   ]
  },
  {
   "cell_type": "markdown",
   "metadata": {
    "colab_type": "text",
    "id": "wotiFso8JvfS"
   },
   "source": [
    "# **RECOMENDACIONES DE PROGRAMACION**\n",
    "\n",
    "\n",
    "\n",
    "1.   Para las Variables:\n",
    "\n",
    "  *   Usar nombres descriptivos y en minúsculas.\n",
    "  *   Para nombres compuestos, separar las palabras con sublinea.\n",
    "  *   Antes y despues de un operador (+,/,-,=, etc) debe haber (e apenas un) espacio en blanco.\n",
    "\n",
    "\n",
    "2. Para Constantes\n",
    "\n",
    "  *   Usar nombres descriptivos y en Mayusculas.\n",
    "  *   Para nombres compuestos, separar las palabras con sublinea."
   ]
  }
 ],
 "metadata": {
  "colab": {
   "collapsed_sections": [],
   "name": "presentación_04.ipynb",
   "provenance": []
  },
  "kernelspec": {
   "display_name": "Python 3",
   "language": "python",
   "name": "python3"
  },
  "language_info": {
   "codemirror_mode": {
    "name": "ipython",
    "version": 3
   },
   "file_extension": ".py",
   "mimetype": "text/x-python",
   "name": "python",
   "nbconvert_exporter": "python",
   "pygments_lexer": "ipython3",
   "version": "3.8.5"
  }
 },
 "nbformat": 4,
 "nbformat_minor": 1
}
