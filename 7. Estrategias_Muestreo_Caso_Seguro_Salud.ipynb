{
  "nbformat": 4,
  "nbformat_minor": 0,
  "metadata": {
    "colab": {
      "name": "Estrategias Muestreo Caso Seguro Salud.ipynb",
      "provenance": []
    },
    "kernelspec": {
      "display_name": "Python 3",
      "language": "python",
      "name": "python3"
    },
    "language_info": {
      "codemirror_mode": {
        "name": "ipython",
        "version": 3
      },
      "file_extension": ".py",
      "mimetype": "text/x-python",
      "name": "python",
      "nbconvert_exporter": "python",
      "pygments_lexer": "ipython3",
      "version": "3.8.5"
    }
  },
  "cells": [
    {
      "cell_type": "markdown",
      "metadata": {
        "id": "iDcgaumOO5iO"
      },
      "source": [
        "### **ESTRATEGIAS DE MUESTREO EN MODELOS DE CLASIFICACION DESBALANCEADOS**\n"
      ]
    },
    {
      "cell_type": "markdown",
      "metadata": {
        "id": "o05NC5jpOw6a"
      },
      "source": [
        "### **1.Instalación de Librerias**\n",
        "\n"
      ]
    },
    {
      "cell_type": "code",
      "metadata": {
        "id": "bEva6HoNOw6a"
      },
      "source": [
        "# Imports necesarios\n",
        "import numpy as np\n",
        "import pandas as pd\n",
        "import seaborn as sb\n",
        "import matplotlib.pyplot as plt\n",
        "%matplotlib inline\n",
        "\n",
        "plt.rcParams['figure.figsize'] = (16, 9)\n",
        "plt.style.use('ggplot')\n",
        "from sklearn import tree\n",
        "from sklearn.metrics import accuracy_score\n",
        "from sklearn.model_selection import KFold\n",
        "from sklearn.model_selection import cross_val_score\n",
        "from IPython.display import Image as PImage\n",
        "from subprocess import check_call\n",
        "from PIL import Image, ImageDraw, ImageFont"
      ],
      "execution_count": 49,
      "outputs": []
    },
    {
      "cell_type": "markdown",
      "metadata": {
        "id": "k3QqDvclTM8q"
      },
      "source": [
        "### **2.Importación del caso de negocio**"
      ]
    },
    {
      "cell_type": "code",
      "metadata": {
        "id": "n9DAW6TGOw6b"
      },
      "source": [
        "data = pd.read_csv('2_DS_train_enf_corazon.csv')"
      ],
      "execution_count": 50,
      "outputs": []
    },
    {
      "cell_type": "markdown",
      "metadata": {
        "id": "gsUOA1L-VW7e"
      },
      "source": [
        "### **3. Exploracion de datos**"
      ]
    },
    {
      "cell_type": "code",
      "metadata": {
        "colab": {
          "base_uri": "https://localhost:8080/",
          "height": 217
        },
        "id": "c77EyMaWOw6b",
        "scrolled": true,
        "outputId": "4e680f9a-fbc6-4158-884a-1b35fb227a5c"
      },
      "source": [
        "# Exploracion inicial\n",
        "data.head()"
      ],
      "execution_count": 51,
      "outputs": [
        {
          "output_type": "execute_result",
          "data": {
            "text/html": [
              "<div>\n",
              "<style scoped>\n",
              "    .dataframe tbody tr th:only-of-type {\n",
              "        vertical-align: middle;\n",
              "    }\n",
              "\n",
              "    .dataframe tbody tr th {\n",
              "        vertical-align: top;\n",
              "    }\n",
              "\n",
              "    .dataframe thead th {\n",
              "        text-align: right;\n",
              "    }\n",
              "</style>\n",
              "<table border=\"1\" class=\"dataframe\">\n",
              "  <thead>\n",
              "    <tr style=\"text-align: right;\">\n",
              "      <th></th>\n",
              "      <th>ID</th>\n",
              "      <th>Genero</th>\n",
              "      <th>Edad</th>\n",
              "      <th>Flag_hipertension</th>\n",
              "      <th>Flag_problem_cardiaco</th>\n",
              "      <th>Estados_civil</th>\n",
              "      <th>Tipo_trabajo</th>\n",
              "      <th>Zona_residencia</th>\n",
              "      <th>Promedio_nivel_glucosa</th>\n",
              "      <th>IMC</th>\n",
              "      <th>Flag_fumador</th>\n",
              "      <th>Ataque_cardiaco</th>\n",
              "    </tr>\n",
              "  </thead>\n",
              "  <tbody>\n",
              "    <tr>\n",
              "      <th>0</th>\n",
              "      <td>30669</td>\n",
              "      <td>Hombre</td>\n",
              "      <td>3.0</td>\n",
              "      <td>0</td>\n",
              "      <td>0</td>\n",
              "      <td>No</td>\n",
              "      <td>cuidar_ninos</td>\n",
              "      <td>Rural</td>\n",
              "      <td>95.12</td>\n",
              "      <td>18.0</td>\n",
              "      <td>NaN</td>\n",
              "      <td>0</td>\n",
              "    </tr>\n",
              "    <tr>\n",
              "      <th>1</th>\n",
              "      <td>30468</td>\n",
              "      <td>Hombre</td>\n",
              "      <td>58.0</td>\n",
              "      <td>1</td>\n",
              "      <td>0</td>\n",
              "      <td>Si</td>\n",
              "      <td>Empresa_privada</td>\n",
              "      <td>Urbano</td>\n",
              "      <td>87.96</td>\n",
              "      <td>39.2</td>\n",
              "      <td>Nunca_fuma</td>\n",
              "      <td>0</td>\n",
              "    </tr>\n",
              "    <tr>\n",
              "      <th>2</th>\n",
              "      <td>16523</td>\n",
              "      <td>Mujer</td>\n",
              "      <td>8.0</td>\n",
              "      <td>0</td>\n",
              "      <td>0</td>\n",
              "      <td>No</td>\n",
              "      <td>Empresa_privada</td>\n",
              "      <td>Urbano</td>\n",
              "      <td>110.89</td>\n",
              "      <td>17.6</td>\n",
              "      <td>NaN</td>\n",
              "      <td>0</td>\n",
              "    </tr>\n",
              "    <tr>\n",
              "      <th>3</th>\n",
              "      <td>56543</td>\n",
              "      <td>Mujer</td>\n",
              "      <td>70.0</td>\n",
              "      <td>0</td>\n",
              "      <td>0</td>\n",
              "      <td>Si</td>\n",
              "      <td>Empresa_privada</td>\n",
              "      <td>Rural</td>\n",
              "      <td>69.04</td>\n",
              "      <td>35.9</td>\n",
              "      <td>antes_fumaba</td>\n",
              "      <td>0</td>\n",
              "    </tr>\n",
              "    <tr>\n",
              "      <th>4</th>\n",
              "      <td>46136</td>\n",
              "      <td>Hombre</td>\n",
              "      <td>14.0</td>\n",
              "      <td>0</td>\n",
              "      <td>0</td>\n",
              "      <td>No</td>\n",
              "      <td>Nunca_trabajo</td>\n",
              "      <td>Rural</td>\n",
              "      <td>161.28</td>\n",
              "      <td>19.1</td>\n",
              "      <td>NaN</td>\n",
              "      <td>0</td>\n",
              "    </tr>\n",
              "  </tbody>\n",
              "</table>\n",
              "</div>"
            ],
            "text/plain": [
              "      ID  Genero  Edad  ...   IMC  Flag_fumador Ataque_cardiaco\n",
              "0  30669  Hombre   3.0  ...  18.0           NaN               0\n",
              "1  30468  Hombre  58.0  ...  39.2    Nunca_fuma               0\n",
              "2  16523   Mujer   8.0  ...  17.6           NaN               0\n",
              "3  56543   Mujer  70.0  ...  35.9  antes_fumaba               0\n",
              "4  46136  Hombre  14.0  ...  19.1           NaN               0\n",
              "\n",
              "[5 rows x 12 columns]"
            ]
          },
          "metadata": {
            "tags": []
          },
          "execution_count": 51
        }
      ]
    },
    {
      "cell_type": "code",
      "metadata": {
        "colab": {
          "base_uri": "https://localhost:8080/"
        },
        "id": "HW2mhol8fLli",
        "outputId": "a634a1d4-2644-4058-fc57-deb4e21db53c"
      },
      "source": [
        "data.columns"
      ],
      "execution_count": 52,
      "outputs": [
        {
          "output_type": "execute_result",
          "data": {
            "text/plain": [
              "Index(['ID', 'Genero', 'Edad', 'Flag_hipertension', 'Flag_problem_cardiaco',\n",
              "       'Estados_civil', 'Tipo_trabajo', 'Zona_residencia',\n",
              "       'Promedio_nivel_glucosa', 'IMC', 'Flag_fumador', 'Ataque_cardiaco'],\n",
              "      dtype='object')"
            ]
          },
          "metadata": {
            "tags": []
          },
          "execution_count": 52
        }
      ]
    },
    {
      "cell_type": "code",
      "metadata": {
        "colab": {
          "base_uri": "https://localhost:8080/"
        },
        "id": "5-bTr2lUfLlj",
        "outputId": "c95b02c6-7327-4105-dcd4-1870a94e0107"
      },
      "source": [
        "data.info()"
      ],
      "execution_count": 53,
      "outputs": [
        {
          "output_type": "stream",
          "text": [
            "<class 'pandas.core.frame.DataFrame'>\n",
            "RangeIndex: 43400 entries, 0 to 43399\n",
            "Data columns (total 12 columns):\n",
            " #   Column                  Non-Null Count  Dtype  \n",
            "---  ------                  --------------  -----  \n",
            " 0   ID                      43400 non-null  int64  \n",
            " 1   Genero                  43400 non-null  object \n",
            " 2   Edad                    43400 non-null  float64\n",
            " 3   Flag_hipertension       43400 non-null  int64  \n",
            " 4   Flag_problem_cardiaco   43400 non-null  int64  \n",
            " 5   Estados_civil           43400 non-null  object \n",
            " 6   Tipo_trabajo            43400 non-null  object \n",
            " 7   Zona_residencia         43400 non-null  object \n",
            " 8   Promedio_nivel_glucosa  43400 non-null  float64\n",
            " 9   IMC                     41938 non-null  float64\n",
            " 10  Flag_fumador            30108 non-null  object \n",
            " 11  Ataque_cardiaco         43400 non-null  int64  \n",
            "dtypes: float64(3), int64(4), object(5)\n",
            "memory usage: 4.0+ MB\n"
          ],
          "name": "stdout"
        }
      ]
    },
    {
      "cell_type": "code",
      "metadata": {
        "colab": {
          "base_uri": "https://localhost:8080/",
          "height": 287
        },
        "id": "e4lYsIi8Ow6b",
        "outputId": "a5d6c01f-eb7a-4786-ed2a-28a1c60d1467"
      },
      "source": [
        "# Revision de la vriables individuales\n",
        "data.describe()"
      ],
      "execution_count": 54,
      "outputs": [
        {
          "output_type": "execute_result",
          "data": {
            "text/html": [
              "<div>\n",
              "<style scoped>\n",
              "    .dataframe tbody tr th:only-of-type {\n",
              "        vertical-align: middle;\n",
              "    }\n",
              "\n",
              "    .dataframe tbody tr th {\n",
              "        vertical-align: top;\n",
              "    }\n",
              "\n",
              "    .dataframe thead th {\n",
              "        text-align: right;\n",
              "    }\n",
              "</style>\n",
              "<table border=\"1\" class=\"dataframe\">\n",
              "  <thead>\n",
              "    <tr style=\"text-align: right;\">\n",
              "      <th></th>\n",
              "      <th>ID</th>\n",
              "      <th>Edad</th>\n",
              "      <th>Flag_hipertension</th>\n",
              "      <th>Flag_problem_cardiaco</th>\n",
              "      <th>Promedio_nivel_glucosa</th>\n",
              "      <th>IMC</th>\n",
              "      <th>Ataque_cardiaco</th>\n",
              "    </tr>\n",
              "  </thead>\n",
              "  <tbody>\n",
              "    <tr>\n",
              "      <th>count</th>\n",
              "      <td>43400.000000</td>\n",
              "      <td>43400.000000</td>\n",
              "      <td>43400.000000</td>\n",
              "      <td>43400.000000</td>\n",
              "      <td>43400.000000</td>\n",
              "      <td>41938.000000</td>\n",
              "      <td>43400.000000</td>\n",
              "    </tr>\n",
              "    <tr>\n",
              "      <th>mean</th>\n",
              "      <td>36326.142350</td>\n",
              "      <td>42.217894</td>\n",
              "      <td>0.093571</td>\n",
              "      <td>0.047512</td>\n",
              "      <td>104.482750</td>\n",
              "      <td>28.605038</td>\n",
              "      <td>0.018041</td>\n",
              "    </tr>\n",
              "    <tr>\n",
              "      <th>std</th>\n",
              "      <td>21072.134879</td>\n",
              "      <td>22.519649</td>\n",
              "      <td>0.291235</td>\n",
              "      <td>0.212733</td>\n",
              "      <td>43.111751</td>\n",
              "      <td>7.770020</td>\n",
              "      <td>0.133103</td>\n",
              "    </tr>\n",
              "    <tr>\n",
              "      <th>min</th>\n",
              "      <td>1.000000</td>\n",
              "      <td>0.080000</td>\n",
              "      <td>0.000000</td>\n",
              "      <td>0.000000</td>\n",
              "      <td>55.000000</td>\n",
              "      <td>10.100000</td>\n",
              "      <td>0.000000</td>\n",
              "    </tr>\n",
              "    <tr>\n",
              "      <th>25%</th>\n",
              "      <td>18038.500000</td>\n",
              "      <td>24.000000</td>\n",
              "      <td>0.000000</td>\n",
              "      <td>0.000000</td>\n",
              "      <td>77.540000</td>\n",
              "      <td>23.200000</td>\n",
              "      <td>0.000000</td>\n",
              "    </tr>\n",
              "    <tr>\n",
              "      <th>50%</th>\n",
              "      <td>36351.500000</td>\n",
              "      <td>44.000000</td>\n",
              "      <td>0.000000</td>\n",
              "      <td>0.000000</td>\n",
              "      <td>91.580000</td>\n",
              "      <td>27.700000</td>\n",
              "      <td>0.000000</td>\n",
              "    </tr>\n",
              "    <tr>\n",
              "      <th>75%</th>\n",
              "      <td>54514.250000</td>\n",
              "      <td>60.000000</td>\n",
              "      <td>0.000000</td>\n",
              "      <td>0.000000</td>\n",
              "      <td>112.070000</td>\n",
              "      <td>32.900000</td>\n",
              "      <td>0.000000</td>\n",
              "    </tr>\n",
              "    <tr>\n",
              "      <th>max</th>\n",
              "      <td>72943.000000</td>\n",
              "      <td>82.000000</td>\n",
              "      <td>1.000000</td>\n",
              "      <td>1.000000</td>\n",
              "      <td>291.050000</td>\n",
              "      <td>97.600000</td>\n",
              "      <td>1.000000</td>\n",
              "    </tr>\n",
              "  </tbody>\n",
              "</table>\n",
              "</div>"
            ],
            "text/plain": [
              "                 ID          Edad  ...           IMC  Ataque_cardiaco\n",
              "count  43400.000000  43400.000000  ...  41938.000000     43400.000000\n",
              "mean   36326.142350     42.217894  ...     28.605038         0.018041\n",
              "std    21072.134879     22.519649  ...      7.770020         0.133103\n",
              "min        1.000000      0.080000  ...     10.100000         0.000000\n",
              "25%    18038.500000     24.000000  ...     23.200000         0.000000\n",
              "50%    36351.500000     44.000000  ...     27.700000         0.000000\n",
              "75%    54514.250000     60.000000  ...     32.900000         0.000000\n",
              "max    72943.000000     82.000000  ...     97.600000         1.000000\n",
              "\n",
              "[8 rows x 7 columns]"
            ]
          },
          "metadata": {
            "tags": []
          },
          "execution_count": 54
        }
      ]
    },
    {
      "cell_type": "code",
      "metadata": {
        "colab": {
          "base_uri": "https://localhost:8080/"
        },
        "id": "qSx6y-nCOw6c",
        "outputId": "a4f0a632-ce86-47fc-8fd8-afb581dbb05d"
      },
      "source": [
        "# Dimensiones de la tabla de modelamiento (fila, Columna)\n",
        "data.shape"
      ],
      "execution_count": 55,
      "outputs": [
        {
          "output_type": "execute_result",
          "data": {
            "text/plain": [
              "(43400, 12)"
            ]
          },
          "metadata": {
            "tags": []
          },
          "execution_count": 55
        }
      ]
    },
    {
      "cell_type": "code",
      "metadata": {
        "colab": {
          "base_uri": "https://localhost:8080/"
        },
        "id": "VtiJEgEPOw6c",
        "outputId": "b1a609eb-68a6-44c8-bec5-0428b97af520"
      },
      "source": [
        "# Detección del desbalance de la muestras\n",
        "data.groupby('Ataque_cardiaco').size()"
      ],
      "execution_count": 56,
      "outputs": [
        {
          "output_type": "execute_result",
          "data": {
            "text/plain": [
              "Ataque_cardiaco\n",
              "0    42617\n",
              "1      783\n",
              "dtype: int64"
            ]
          },
          "metadata": {
            "tags": []
          },
          "execution_count": 56
        }
      ]
    },
    {
      "cell_type": "code",
      "metadata": {
        "colab": {
          "base_uri": "https://localhost:8080/",
          "height": 604
        },
        "id": "EJCuPji2W_Xg",
        "outputId": "387b4f80-c19f-4407-ee7e-267c930373b2"
      },
      "source": [
        "# Detección del desbalance de la muestras\n",
        "target_count = data.Ataque_cardiaco.value_counts()\n",
        "print('Class 0 Sano:', target_count[0])\n",
        "print('Class 1 Ataque:', target_count[1])\n",
        "print('Proporción:', round(target_count[0] / target_count[1], 2), ': 1')\n",
        "target_count.plot(kind='bar', title='Count (target)');"
      ],
      "execution_count": 57,
      "outputs": [
        {
          "output_type": "stream",
          "text": [
            "Class 0 Sano: 42617\n",
            "Class 1 Ataque: 783\n",
            "Proporción: 54.43 : 1\n"
          ],
          "name": "stdout"
        },
        {
          "output_type": "display_data",
          "data": {
            "image/png": "[encoded data removed]",
            "text/plain": [
              "<Figure size 1152x648 with 1 Axes>"
            ]
          },
          "metadata": {
            "tags": []
          }
        }
      ]
    },
    {
      "cell_type": "markdown",
      "metadata": {
        "id": "LmXzcK4_YdjW"
      },
      "source": [
        "### **4. Separando una muestra para verificar resultado de estrategias de muestreo**"
      ]
    },
    {
      "cell_type": "code",
      "metadata": {
        "colab": {
          "base_uri": "https://localhost:8080/"
        },
        "id": "UOqMk-vffLls",
        "outputId": "e229ec6f-53dc-426d-cecc-a55999212c3d"
      },
      "source": [
        "data.columns"
      ],
      "execution_count": 58,
      "outputs": [
        {
          "output_type": "execute_result",
          "data": {
            "text/plain": [
              "Index(['ID', 'Genero', 'Edad', 'Flag_hipertension', 'Flag_problem_cardiaco',\n",
              "       'Estados_civil', 'Tipo_trabajo', 'Zona_residencia',\n",
              "       'Promedio_nivel_glucosa', 'IMC', 'Flag_fumador', 'Ataque_cardiaco'],\n",
              "      dtype='object')"
            ]
          },
          "metadata": {
            "tags": []
          },
          "execution_count": 58
        }
      ]
    },
    {
      "cell_type": "code",
      "metadata": {
        "id": "7mn-PC4jYwzr"
      },
      "source": [
        "# Seleccionaremos un 35% de los datos para estrudiar el beneficio de las estretgias de muestreo\n",
        "\n",
        "X = data[['Edad','Flag_hipertension','Flag_problem_cardiaco','Promedio_nivel_glucosa']]\n",
        "y = data[['Ataque_cardiaco']]\n",
        "\n",
        "#np.random.seed(101)\n",
        "import sklearn.model_selection as model_selection\n",
        "X_train, X_test, y_train, y_test = model_selection.train_test_split(X, y, train_size=0.65,test_size=0.35, random_state=101)"
      ],
      "execution_count": 59,
      "outputs": []
    },
    {
      "cell_type": "markdown",
      "metadata": {
        "id": "wPPXoWY4Vjut"
      },
      "source": [
        "### **5. Estrategias de Muestreo Oversampling y Under Sampling**\n"
      ]
    },
    {
      "cell_type": "code",
      "metadata": {
        "id": "lhWV4Gredzps"
      },
      "source": [
        "# Solo utilizaremos Datos de entrenamiento para la estrategia \n",
        "df_train = pd.concat([X_train,y_train],axis=1)"
      ],
      "execution_count": 60,
      "outputs": []
    },
    {
      "cell_type": "code",
      "metadata": {
        "colab": {
          "base_uri": "https://localhost:8080/",
          "height": 406
        },
        "id": "EDOx2ZTJfLlw",
        "outputId": "84cfa2c7-0863-46d3-93d8-56f49f9a3826"
      },
      "source": [
        "df_train"
      ],
      "execution_count": 61,
      "outputs": [
        {
          "output_type": "execute_result",
          "data": {
            "text/html": [
              "<div>\n",
              "<style scoped>\n",
              "    .dataframe tbody tr th:only-of-type {\n",
              "        vertical-align: middle;\n",
              "    }\n",
              "\n",
              "    .dataframe tbody tr th {\n",
              "        vertical-align: top;\n",
              "    }\n",
              "\n",
              "    .dataframe thead th {\n",
              "        text-align: right;\n",
              "    }\n",
              "</style>\n",
              "<table border=\"1\" class=\"dataframe\">\n",
              "  <thead>\n",
              "    <tr style=\"text-align: right;\">\n",
              "      <th></th>\n",
              "      <th>Edad</th>\n",
              "      <th>Flag_hipertension</th>\n",
              "      <th>Flag_problem_cardiaco</th>\n",
              "      <th>Promedio_nivel_glucosa</th>\n",
              "      <th>Ataque_cardiaco</th>\n",
              "    </tr>\n",
              "  </thead>\n",
              "  <tbody>\n",
              "    <tr>\n",
              "      <th>20930</th>\n",
              "      <td>17.0</td>\n",
              "      <td>0</td>\n",
              "      <td>0</td>\n",
              "      <td>82.67</td>\n",
              "      <td>0</td>\n",
              "    </tr>\n",
              "    <tr>\n",
              "      <th>23510</th>\n",
              "      <td>41.0</td>\n",
              "      <td>0</td>\n",
              "      <td>0</td>\n",
              "      <td>115.09</td>\n",
              "      <td>0</td>\n",
              "    </tr>\n",
              "    <tr>\n",
              "      <th>18212</th>\n",
              "      <td>73.0</td>\n",
              "      <td>1</td>\n",
              "      <td>0</td>\n",
              "      <td>95.37</td>\n",
              "      <td>0</td>\n",
              "    </tr>\n",
              "    <tr>\n",
              "      <th>31446</th>\n",
              "      <td>17.0</td>\n",
              "      <td>0</td>\n",
              "      <td>0</td>\n",
              "      <td>55.03</td>\n",
              "      <td>0</td>\n",
              "    </tr>\n",
              "    <tr>\n",
              "      <th>12598</th>\n",
              "      <td>17.0</td>\n",
              "      <td>0</td>\n",
              "      <td>0</td>\n",
              "      <td>62.94</td>\n",
              "      <td>0</td>\n",
              "    </tr>\n",
              "    <tr>\n",
              "      <th>...</th>\n",
              "      <td>...</td>\n",
              "      <td>...</td>\n",
              "      <td>...</td>\n",
              "      <td>...</td>\n",
              "      <td>...</td>\n",
              "    </tr>\n",
              "    <tr>\n",
              "      <th>12363</th>\n",
              "      <td>81.0</td>\n",
              "      <td>0</td>\n",
              "      <td>0</td>\n",
              "      <td>91.37</td>\n",
              "      <td>0</td>\n",
              "    </tr>\n",
              "    <tr>\n",
              "      <th>5695</th>\n",
              "      <td>12.0</td>\n",
              "      <td>0</td>\n",
              "      <td>0</td>\n",
              "      <td>73.84</td>\n",
              "      <td>0</td>\n",
              "    </tr>\n",
              "    <tr>\n",
              "      <th>8006</th>\n",
              "      <td>33.0</td>\n",
              "      <td>0</td>\n",
              "      <td>0</td>\n",
              "      <td>141.89</td>\n",
              "      <td>0</td>\n",
              "    </tr>\n",
              "    <tr>\n",
              "      <th>17745</th>\n",
              "      <td>54.0</td>\n",
              "      <td>0</td>\n",
              "      <td>0</td>\n",
              "      <td>73.01</td>\n",
              "      <td>0</td>\n",
              "    </tr>\n",
              "    <tr>\n",
              "      <th>17931</th>\n",
              "      <td>51.0</td>\n",
              "      <td>0</td>\n",
              "      <td>0</td>\n",
              "      <td>62.58</td>\n",
              "      <td>0</td>\n",
              "    </tr>\n",
              "  </tbody>\n",
              "</table>\n",
              "<p>28210 rows × 5 columns</p>\n",
              "</div>"
            ],
            "text/plain": [
              "       Edad  Flag_hipertension  ...  Promedio_nivel_glucosa  Ataque_cardiaco\n",
              "20930  17.0                  0  ...                   82.67                0\n",
              "23510  41.0                  0  ...                  115.09                0\n",
              "18212  73.0                  1  ...                   95.37                0\n",
              "31446  17.0                  0  ...                   55.03                0\n",
              "12598  17.0                  0  ...                   62.94                0\n",
              "...     ...                ...  ...                     ...              ...\n",
              "12363  81.0                  0  ...                   91.37                0\n",
              "5695   12.0                  0  ...                   73.84                0\n",
              "8006   33.0                  0  ...                  141.89                0\n",
              "17745  54.0                  0  ...                   73.01                0\n",
              "17931  51.0                  0  ...                   62.58                0\n",
              "\n",
              "[28210 rows x 5 columns]"
            ]
          },
          "metadata": {
            "tags": []
          },
          "execution_count": 61
        }
      ]
    },
    {
      "cell_type": "code",
      "metadata": {
        "id": "r9Wdd9uUeYVh"
      },
      "source": [
        "#División entre clientes que sufrieron o no el infarto\n",
        "count_class_0, count_class_1 = df_train.Ataque_cardiaco.value_counts()\n",
        "\n",
        "# Divide by class\n",
        "df_class_0 = df_train[df_train['Ataque_cardiaco'] == 0]\n",
        "df_class_1 = df_train[df_train['Ataque_cardiaco'] == 1]"
      ],
      "execution_count": 62,
      "outputs": []
    },
    {
      "cell_type": "code",
      "metadata": {
        "colab": {
          "base_uri": "https://localhost:8080/"
        },
        "id": "WXrYNYpUfLlx",
        "outputId": "8c4145a6-c2a6-4f24-f3a4-c7bef7acb919"
      },
      "source": [
        "count_class_0, len(df_class_0), count_class_1, len(df_class_1)"
      ],
      "execution_count": 63,
      "outputs": [
        {
          "output_type": "execute_result",
          "data": {
            "text/plain": [
              "(27709, 27709, 501, 501)"
            ]
          },
          "metadata": {
            "tags": []
          },
          "execution_count": 63
        }
      ]
    },
    {
      "cell_type": "markdown",
      "metadata": {
        "id": "3yimxfdQdrEs"
      },
      "source": [
        "**UnderSampling**"
      ]
    },
    {
      "cell_type": "code",
      "metadata": {
        "colab": {
          "base_uri": "https://localhost:8080/",
          "height": 137
        },
        "id": "Ec_Tcwi1fLlz",
        "outputId": "52da5e49-59ce-4a06-c4d5-59878ec438d1"
      },
      "source": [
        "df_class_0.sample(3)"
      ],
      "execution_count": 64,
      "outputs": [
        {
          "output_type": "execute_result",
          "data": {
            "text/html": [
              "<div>\n",
              "<style scoped>\n",
              "    .dataframe tbody tr th:only-of-type {\n",
              "        vertical-align: middle;\n",
              "    }\n",
              "\n",
              "    .dataframe tbody tr th {\n",
              "        vertical-align: top;\n",
              "    }\n",
              "\n",
              "    .dataframe thead th {\n",
              "        text-align: right;\n",
              "    }\n",
              "</style>\n",
              "<table border=\"1\" class=\"dataframe\">\n",
              "  <thead>\n",
              "    <tr style=\"text-align: right;\">\n",
              "      <th></th>\n",
              "      <th>Edad</th>\n",
              "      <th>Flag_hipertension</th>\n",
              "      <th>Flag_problem_cardiaco</th>\n",
              "      <th>Promedio_nivel_glucosa</th>\n",
              "      <th>Ataque_cardiaco</th>\n",
              "    </tr>\n",
              "  </thead>\n",
              "  <tbody>\n",
              "    <tr>\n",
              "      <th>26993</th>\n",
              "      <td>5.00</td>\n",
              "      <td>0</td>\n",
              "      <td>0</td>\n",
              "      <td>65.35</td>\n",
              "      <td>0</td>\n",
              "    </tr>\n",
              "    <tr>\n",
              "      <th>26631</th>\n",
              "      <td>0.32</td>\n",
              "      <td>0</td>\n",
              "      <td>0</td>\n",
              "      <td>84.26</td>\n",
              "      <td>0</td>\n",
              "    </tr>\n",
              "    <tr>\n",
              "      <th>10511</th>\n",
              "      <td>61.00</td>\n",
              "      <td>1</td>\n",
              "      <td>0</td>\n",
              "      <td>270.59</td>\n",
              "      <td>0</td>\n",
              "    </tr>\n",
              "  </tbody>\n",
              "</table>\n",
              "</div>"
            ],
            "text/plain": [
              "        Edad  Flag_hipertension  ...  Promedio_nivel_glucosa  Ataque_cardiaco\n",
              "26993   5.00                  0  ...                   65.35                0\n",
              "26631   0.32                  0  ...                   84.26                0\n",
              "10511  61.00                  1  ...                  270.59                0\n",
              "\n",
              "[3 rows x 5 columns]"
            ]
          },
          "metadata": {
            "tags": []
          },
          "execution_count": 64
        }
      ]
    },
    {
      "cell_type": "code",
      "metadata": {
        "colab": {
          "base_uri": "https://localhost:8080/",
          "height": 622
        },
        "id": "Hs4VW9TZcaMU",
        "outputId": "f7116f22-7773-48ff-e4ea-adb2869fb474"
      },
      "source": [
        "df_class_0_under = df_class_0.sample(count_class_1)\n",
        "\n",
        "df_test_under = pd.concat([df_class_0_under, df_class_1], axis=0)\n",
        "\n",
        "print('Estrategia de Muestreo under-sampling:')\n",
        "print(df_test_under.Ataque_cardiaco.value_counts())\n",
        "\n",
        "df_test_under.Ataque_cardiaco.value_counts().plot(kind='bar', title='Cantidad (target)');"
      ],
      "execution_count": 65,
      "outputs": [
        {
          "output_type": "stream",
          "text": [
            "Estrategia de Muestreo under-sampling:\n",
            "1    501\n",
            "0    501\n",
            "Name: Ataque_cardiaco, dtype: int64\n"
          ],
          "name": "stdout"
        },
        {
          "output_type": "display_data",
          "data": {
            "image/png": "[encoded data removed]",
            "text/plain": [
              "<Figure size 1152x648 with 1 Axes>"
            ]
          },
          "metadata": {
            "tags": []
          }
        }
      ]
    },
    {
      "cell_type": "markdown",
      "metadata": {
        "id": "GB9E7_z_e0wL"
      },
      "source": [
        "**OverSampling**"
      ]
    },
    {
      "cell_type": "code",
      "metadata": {
        "colab": {
          "base_uri": "https://localhost:8080/",
          "height": 167
        },
        "id": "LGQ--nuyfLl1",
        "outputId": "21ceaf77-15e6-4026-dfc2-d0711455fb9c"
      },
      "source": [
        "aux = df_class_1.head(2)\n",
        "aux.sample(4,replace=True)"
      ],
      "execution_count": 66,
      "outputs": [
        {
          "output_type": "execute_result",
          "data": {
            "text/html": [
              "<div>\n",
              "<style scoped>\n",
              "    .dataframe tbody tr th:only-of-type {\n",
              "        vertical-align: middle;\n",
              "    }\n",
              "\n",
              "    .dataframe tbody tr th {\n",
              "        vertical-align: top;\n",
              "    }\n",
              "\n",
              "    .dataframe thead th {\n",
              "        text-align: right;\n",
              "    }\n",
              "</style>\n",
              "<table border=\"1\" class=\"dataframe\">\n",
              "  <thead>\n",
              "    <tr style=\"text-align: right;\">\n",
              "      <th></th>\n",
              "      <th>Edad</th>\n",
              "      <th>Flag_hipertension</th>\n",
              "      <th>Flag_problem_cardiaco</th>\n",
              "      <th>Promedio_nivel_glucosa</th>\n",
              "      <th>Ataque_cardiaco</th>\n",
              "    </tr>\n",
              "  </thead>\n",
              "  <tbody>\n",
              "    <tr>\n",
              "      <th>34617</th>\n",
              "      <td>52.0</td>\n",
              "      <td>0</td>\n",
              "      <td>0</td>\n",
              "      <td>100.51</td>\n",
              "      <td>1</td>\n",
              "    </tr>\n",
              "    <tr>\n",
              "      <th>34617</th>\n",
              "      <td>52.0</td>\n",
              "      <td>0</td>\n",
              "      <td>0</td>\n",
              "      <td>100.51</td>\n",
              "      <td>1</td>\n",
              "    </tr>\n",
              "    <tr>\n",
              "      <th>34617</th>\n",
              "      <td>52.0</td>\n",
              "      <td>0</td>\n",
              "      <td>0</td>\n",
              "      <td>100.51</td>\n",
              "      <td>1</td>\n",
              "    </tr>\n",
              "    <tr>\n",
              "      <th>34617</th>\n",
              "      <td>52.0</td>\n",
              "      <td>0</td>\n",
              "      <td>0</td>\n",
              "      <td>100.51</td>\n",
              "      <td>1</td>\n",
              "    </tr>\n",
              "  </tbody>\n",
              "</table>\n",
              "</div>"
            ],
            "text/plain": [
              "       Edad  Flag_hipertension  ...  Promedio_nivel_glucosa  Ataque_cardiaco\n",
              "34617  52.0                  0  ...                  100.51                1\n",
              "34617  52.0                  0  ...                  100.51                1\n",
              "34617  52.0                  0  ...                  100.51                1\n",
              "34617  52.0                  0  ...                  100.51                1\n",
              "\n",
              "[4 rows x 5 columns]"
            ]
          },
          "metadata": {
            "tags": []
          },
          "execution_count": 66
        }
      ]
    },
    {
      "cell_type": "code",
      "metadata": {
        "colab": {
          "base_uri": "https://localhost:8080/",
          "height": 622
        },
        "id": "NmgtX3vPe0Sp",
        "outputId": "9a6ad640-c5f8-41c5-9b1b-247720f8ee73"
      },
      "source": [
        "# hay un riesgo de que algunas filas no sean consideradas porque la aletoriedad las ignorara\n",
        "df_class_1_over = df_class_1.sample(count_class_0, replace=True)\n",
        "df_test_over = pd.concat([df_class_0, df_class_1_over], axis=0)\n",
        "\n",
        "print('Random over-sampling:')\n",
        "print(df_test_over.Ataque_cardiaco.value_counts())\n",
        "\n",
        "df_test_over.Ataque_cardiaco.value_counts().plot(kind='bar', title='Cantidad (target)');"
      ],
      "execution_count": 67,
      "outputs": [
        {
          "output_type": "stream",
          "text": [
            "Random over-sampling:\n",
            "1    27709\n",
            "0    27709\n",
            "Name: Ataque_cardiaco, dtype: int64\n"
          ],
          "name": "stdout"
        },
        {
          "output_type": "display_data",
          "data": {
            "image/png": "[encoded data removed]",
            "text/plain": [
              "<Figure size 1152x648 with 1 Axes>"
            ]
          },
          "metadata": {
            "tags": []
          }
        }
      ]
    },
    {
      "cell_type": "markdown",
      "metadata": {
        "id": "pf2uWNmMVcrG"
      },
      "source": [
        "**6.Evaluación de resultados de las estrategias de muestreo**"
      ]
    },
    {
      "cell_type": "markdown",
      "metadata": {
        "id": "cZ5gsdKfpwqX"
      },
      "source": [
        "# Modelo de Clasificación utilizado es el arbol, es posible utilizar otros modelo de clasificación revisar en la parte final\n"
      ]
    },
    {
      "cell_type": "markdown",
      "metadata": {
        "id": "qi0xV1cdlA03"
      },
      "source": [
        "**DATOS ORIGINALES**"
      ]
    },
    {
      "cell_type": "code",
      "metadata": {
        "colab": {
          "base_uri": "https://localhost:8080/"
        },
        "id": "Zd3XXdNpkDxG",
        "outputId": "a641a068-2174-40c1-8fd4-c704d0359194"
      },
      "source": [
        "from sklearn.tree import DecisionTreeClassifier\n",
        "from sklearn.metrics import accuracy_score, log_loss\n",
        "\n",
        "model = DecisionTreeClassifier()\n",
        "model.fit(X_train, y_train)\n",
        "y_pred = model.predict(X_test)\n",
        "\n",
        "accuracy = accuracy_score(y_test, y_pred)\n",
        "print(\"Accuracy DATOS ORIGINALES: %.2f%%\" % (accuracy * 100.0))\n",
        "\n",
        "ll = log_loss(y_test, y_pred)\n",
        "print(\"Log Loss: {}\".format(ll))"
      ],
      "execution_count": 68,
      "outputs": [
        {
          "output_type": "stream",
          "text": [
            "Accuracy DATOS ORIGINALES: 96.67%\n",
            "Log Loss: 1.1505473573668812\n"
          ],
          "name": "stdout"
        }
      ]
    },
    {
      "cell_type": "code",
      "metadata": {
        "colab": {
          "base_uri": "https://localhost:8080/",
          "height": 607
        },
        "id": "DyE36DkDlQBN",
        "outputId": "0fe1ccf5-b289-45e5-e45a-ea9fb5ebd11b"
      },
      "source": [
        "from sklearn.metrics import confusion_matrix\n",
        "from matplotlib import pyplot as plt\n",
        "\n",
        "# EVLUANDO LA MATRIZ DE CONFUSION\n",
        "#--------------------------------------------------------------------\n",
        "conf_mat = confusion_matrix(y_true=y_test, y_pred=y_pred)\n",
        "#--------------------------------------------------------------------\n",
        "\n",
        "print('Confusion matrix DATOS ORIGINALES:\\n', conf_mat)\n",
        "labels = ['Class 0', 'Class 1']\n",
        "fig = plt.figure()\n",
        "ax = fig.add_subplot(111)\n",
        "cax = ax.matshow(conf_mat, cmap=plt.cm.Blues)\n",
        "fig.colorbar(cax)\n",
        "ax.set_xticklabels([''] + labels)\n",
        "ax.set_yticklabels([''] + labels)\n",
        "plt.xlabel('Predicted')\n",
        "plt.ylabel('Expected')\n",
        "plt.show()"
      ],
      "execution_count": 69,
      "outputs": [
        {
          "output_type": "stream",
          "text": [
            "Confusion matrix DATOS ORIGINALES:\n",
            " [[14666   242]\n",
            " [  264    18]]\n"
          ],
          "name": "stdout"
        },
        {
          "output_type": "display_data",
          "data": {
            "image/png": "[encoded data removed]",
            "text/plain": [
              "<Figure size 1152x648 with 2 Axes>"
            ]
          },
          "metadata": {
            "tags": []
          }
        }
      ]
    },
    {
      "cell_type": "markdown",
      "metadata": {
        "id": "DC74A2e7lFpm"
      },
      "source": [
        "**UNDER SAMPLING**"
      ]
    },
    {
      "cell_type": "code",
      "metadata": {
        "colab": {
          "base_uri": "https://localhost:8080/"
        },
        "id": "K6su7jPpkgvN",
        "outputId": "5960866c-e591-4c9a-eab3-eecdb78008fd"
      },
      "source": [
        "from sklearn.tree import DecisionTreeClassifier\n",
        "from sklearn.metrics import accuracy_score\n",
        "\n",
        "model = DecisionTreeClassifier()\n",
        "\n",
        "X_train_u= df_test_under[['Edad','Flag_hipertension','Flag_problem_cardiaco','Promedio_nivel_glucosa']]\n",
        "y_train_u = df_test_under[['Ataque_cardiaco']]\n",
        "\n",
        "model.fit(X_train_u, y_train_u)\n",
        "y_pred = model.predict(X_test)\n",
        "\n",
        "accuracy = accuracy_score(y_test, y_pred)\n",
        "print(\"Accuracy UNDERSAMPLING: %.2f%%\" % (accuracy * 100.0))\n",
        "ll = log_loss(y_test, y_pred)\n",
        "print(\"Log Loss: {}\".format(ll))"
      ],
      "execution_count": 70,
      "outputs": [
        {
          "output_type": "stream",
          "text": [
            "Accuracy UNDERSAMPLING: 68.12%\n",
            "Log Loss: 11.012184711755525\n"
          ],
          "name": "stdout"
        }
      ]
    },
    {
      "cell_type": "code",
      "metadata": {
        "colab": {
          "base_uri": "https://localhost:8080/",
          "height": 607
        },
        "id": "8wGuJvCDlpxo",
        "outputId": "d4f4add1-d23b-49de-b1b3-f636ce90359e"
      },
      "source": [
        "from sklearn.metrics import confusion_matrix\n",
        "from matplotlib import pyplot as plt\n",
        "\n",
        "# EVLUANDO LA MATRIZ DE CONFUSION\n",
        "#--------------------------------------------------------------------\n",
        "conf_mat = confusion_matrix(y_true=y_test, y_pred=y_pred)\n",
        "#--------------------------------------------------------------------\n",
        "\n",
        "print('Confusion matrix UNDERSAMPLING:\\n', conf_mat)\n",
        "labels = ['Class 0', 'Class 1']\n",
        "fig = plt.figure()\n",
        "ax = fig.add_subplot(111)\n",
        "cax = ax.matshow(conf_mat, cmap=plt.cm.Blues)\n",
        "fig.colorbar(cax)\n",
        "ax.set_xticklabels([''] + labels)\n",
        "ax.set_yticklabels([''] + labels)\n",
        "plt.xlabel('Predicted')\n",
        "plt.ylabel('Expected')\n",
        "plt.show()"
      ],
      "execution_count": 71,
      "outputs": [
        {
          "output_type": "stream",
          "text": [
            "Confusion matrix UNDERSAMPLING:\n",
            " [[10166  4742]\n",
            " [  101   181]]\n"
          ],
          "name": "stdout"
        },
        {
          "output_type": "display_data",
          "data": {
            "image/png": "[encoded data removed]",
            "text/plain": [
              "<Figure size 1152x648 with 2 Axes>"
            ]
          },
          "metadata": {
            "tags": []
          }
        }
      ]
    },
    {
      "cell_type": "markdown",
      "metadata": {
        "id": "NRR6JOfImlGR"
      },
      "source": [
        "**OVER SAMPLING**"
      ]
    },
    {
      "cell_type": "code",
      "metadata": {
        "colab": {
          "base_uri": "https://localhost:8080/"
        },
        "id": "fCALBqRcm3rv",
        "outputId": "a7c9f00b-3902-4d38-bdb9-961bc72105ce"
      },
      "source": [
        "from sklearn.tree import DecisionTreeClassifier\n",
        "from sklearn.metrics import accuracy_score\n",
        "\n",
        "model = DecisionTreeClassifier()\n",
        "\n",
        "X_train_o= df_test_over[['Edad','Flag_hipertension','Flag_problem_cardiaco','Promedio_nivel_glucosa']]\n",
        "y_train_o = df_test_over[['Ataque_cardiaco']]\n",
        "\n",
        "model.fit(X_train_o, y_train_o)\n",
        "y_pred = model.predict(X_test)\n",
        "\n",
        "accuracy = accuracy_score(y_test, y_pred)\n",
        "print(\"Accuracy OVERSAMPLING: %.2f%%\" % (accuracy * 100.0))\n",
        "ll = log_loss(y_test, y_pred)\n",
        "print(\"Log Loss: {}\".format(ll))"
      ],
      "execution_count": 72,
      "outputs": [
        {
          "output_type": "stream",
          "text": [
            "Accuracy OVERSAMPLING: 96.70%\n",
            "Log Loss: 1.141451695645094\n"
          ],
          "name": "stdout"
        }
      ]
    },
    {
      "cell_type": "code",
      "metadata": {
        "colab": {
          "base_uri": "https://localhost:8080/",
          "height": 607
        },
        "id": "7BV0soNXm3d1",
        "outputId": "f7057a03-4192-4e0b-8940-c4b2ed1b587b"
      },
      "source": [
        "from sklearn.metrics import confusion_matrix\n",
        "from matplotlib import pyplot as plt\n",
        "\n",
        "# EVLUANDO LA MATRIZ DE CONFUSION\n",
        "#--------------------------------------------------------------------\n",
        "conf_mat = confusion_matrix(y_true=y_test, y_pred=y_pred)\n",
        "#--------------------------------------------------------------------\n",
        "\n",
        "print('Confusion matrix UNDERSAMPLING:\\n', conf_mat)\n",
        "labels = ['Class 0', 'Class 1']\n",
        "fig = plt.figure()\n",
        "ax = fig.add_subplot(111)\n",
        "cax = ax.matshow(conf_mat, cmap=plt.cm.Blues)\n",
        "fig.colorbar(cax)\n",
        "ax.set_xticklabels([''] + labels)\n",
        "ax.set_yticklabels([''] + labels)\n",
        "plt.xlabel('Predicted')\n",
        "plt.ylabel('Expected')\n",
        "plt.show()"
      ],
      "execution_count": 73,
      "outputs": [
        {
          "output_type": "stream",
          "text": [
            "Confusion matrix UNDERSAMPLING:\n",
            " [[14676   232]\n",
            " [  270    12]]\n"
          ],
          "name": "stdout"
        },
        {
          "output_type": "display_data",
          "data": {
            "image/png": "[encoded data removed]",
            "text/plain": [
              "<Figure size 1152x648 with 2 Axes>"
            ]
          },
          "metadata": {
            "tags": []
          }
        }
      ]
    },
    {
      "cell_type": "markdown",
      "metadata": {
        "id": "oXjoh3VbqMSg"
      },
      "source": [
        "# Es posible utilizar otros modelo de clasificación \n",
        "from sklearn.neighbors import KNeighborsClassifier\n",
        "from sklearn.svm import SVC, LinearSVC, NuSVC\n",
        "from sklearn.tree import DecisionTreeClassifier"
      ]
    },
    {
      "cell_type": "markdown",
      "metadata": {
        "id": "7GSFHeXhh16B"
      },
      "source": [
        "# Referencias de investigación\n",
        "# https://www.kaggle.com/rafjaa/resampling-strategies-for-imbalanced-datasets"
      ]
    }
  ]
}